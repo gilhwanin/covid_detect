{
  "nbformat": 4,
  "nbformat_minor": 0,
  "metadata": {
    "kernelspec": {
      "display_name": "Python 3",
      "language": "python",
      "name": "python3"
    },
    "language_info": {
      "codemirror_mode": {
        "name": "ipython",
        "version": 3
      },
      "file_extension": ".py",
      "mimetype": "text/x-python",
      "name": "python",
      "nbconvert_exporter": "python",
      "pygments_lexer": "ipython3",
      "version": "3.6.12"
    },
    "colab": {
      "provenance": []
    }
  },
  "cells": [
    {
      "cell_type": "markdown",
      "metadata": {
        "id": "UZOHC_mdIWoo"
      },
      "source": [
        "## Copyright\n",
        "Copyright (c) 2021, Her Majesty in Right of Canada as represented by the National Research Council Canada. Rights provided under GNU GENERAL PUBLIC LICENSE, Version 3. Full text of the license accessible at the [LICENSE](LICENSE) file.\n",
        "\n",
        "---"
      ]
    },
    {
      "cell_type": "markdown",
      "metadata": {
        "id": "YOA-AIpDIWos"
      },
      "source": [
        "This scripts automatically collect videos from the following sources, processes and curates them, and stores them along with their metadata on the user's device:\n",
        "\n",
        "* ButterflyNetwork\n",
        "* GrepMed\n",
        "* LITFL\n",
        "* The PocusAtlas\n",
        "* Radiopaedia\n",
        "* CoreUltrasound\n",
        "* University of Florida (UF)\n",
        "* Scientific Publications\n",
        "* Clarius\n",
        "\n",
        "In addition, it extracts images from the collected videos, processes and curates them, and stores images and their metadata locally on the user's device.\n",
        "\n",
        "__Note:__ No data is stored on the NRC-COVIDx-US repository and it only contains scripts to systematically collect, curate, and integrate data on user's device."
      ]
    },
    {
      "cell_type": "markdown",
      "metadata": {
        "id": "Nqe7LZlRIWos"
      },
      "source": [
        "---"
      ]
    },
    {
      "cell_type": "code",
      "metadata": {
        "colab": {
          "base_uri": "https://localhost:8080/"
        },
        "id": "DvFgBUgIIn0A",
        "outputId": "132a5bc5-33c6-4ef5-fd0b-2e0ad27389a8"
      },
      "source": [
        "!pip install selenium\n",
        "!pip install vimeo_downloader\n",
        "!apt-get update\n",
        "!apt install chromium-chromedriver"
      ],
      "execution_count": null,
      "outputs": [
        {
          "output_type": "stream",
          "name": "stdout",
          "text": [
            "Collecting selenium\n",
            "  Downloading selenium-3.141.0-py2.py3-none-any.whl (904 kB)\n",
            "\u001b[?25l\r\u001b[K     |▍                               | 10 kB 24.6 MB/s eta 0:00:01\r\u001b[K     |▊                               | 20 kB 30.6 MB/s eta 0:00:01\r\u001b[K     |█                               | 30 kB 31.8 MB/s eta 0:00:01\r\u001b[K     |█▌                              | 40 kB 33.4 MB/s eta 0:00:01\r\u001b[K     |█▉                              | 51 kB 31.8 MB/s eta 0:00:01\r\u001b[K     |██▏                             | 61 kB 33.1 MB/s eta 0:00:01\r\u001b[K     |██▌                             | 71 kB 30.0 MB/s eta 0:00:01\r\u001b[K     |███                             | 81 kB 28.7 MB/s eta 0:00:01\r\u001b[K     |███▎                            | 92 kB 29.0 MB/s eta 0:00:01\r\u001b[K     |███▋                            | 102 kB 31.0 MB/s eta 0:00:01\r\u001b[K     |████                            | 112 kB 31.0 MB/s eta 0:00:01\r\u001b[K     |████▍                           | 122 kB 31.0 MB/s eta 0:00:01\r\u001b[K     |████▊                           | 133 kB 31.0 MB/s eta 0:00:01\r\u001b[K     |█████                           | 143 kB 31.0 MB/s eta 0:00:01\r\u001b[K     |█████▍                          | 153 kB 31.0 MB/s eta 0:00:01\r\u001b[K     |█████▉                          | 163 kB 31.0 MB/s eta 0:00:01\r\u001b[K     |██████▏                         | 174 kB 31.0 MB/s eta 0:00:01\r\u001b[K     |██████▌                         | 184 kB 31.0 MB/s eta 0:00:01\r\u001b[K     |██████▉                         | 194 kB 31.0 MB/s eta 0:00:01\r\u001b[K     |███████▎                        | 204 kB 31.0 MB/s eta 0:00:01\r\u001b[K     |███████▋                        | 215 kB 31.0 MB/s eta 0:00:01\r\u001b[K     |████████                        | 225 kB 31.0 MB/s eta 0:00:01\r\u001b[K     |████████▎                       | 235 kB 31.0 MB/s eta 0:00:01\r\u001b[K     |████████▊                       | 245 kB 31.0 MB/s eta 0:00:01\r\u001b[K     |█████████                       | 256 kB 31.0 MB/s eta 0:00:01\r\u001b[K     |█████████▍                      | 266 kB 31.0 MB/s eta 0:00:01\r\u001b[K     |█████████▉                      | 276 kB 31.0 MB/s eta 0:00:01\r\u001b[K     |██████████▏                     | 286 kB 31.0 MB/s eta 0:00:01\r\u001b[K     |██████████▌                     | 296 kB 31.0 MB/s eta 0:00:01\r\u001b[K     |██████████▉                     | 307 kB 31.0 MB/s eta 0:00:01\r\u001b[K     |███████████▎                    | 317 kB 31.0 MB/s eta 0:00:01\r\u001b[K     |███████████▋                    | 327 kB 31.0 MB/s eta 0:00:01\r\u001b[K     |████████████                    | 337 kB 31.0 MB/s eta 0:00:01\r\u001b[K     |████████████▎                   | 348 kB 31.0 MB/s eta 0:00:01\r\u001b[K     |████████████▊                   | 358 kB 31.0 MB/s eta 0:00:01\r\u001b[K     |█████████████                   | 368 kB 31.0 MB/s eta 0:00:01\r\u001b[K     |█████████████▍                  | 378 kB 31.0 MB/s eta 0:00:01\r\u001b[K     |█████████████▊                  | 389 kB 31.0 MB/s eta 0:00:01\r\u001b[K     |██████████████▏                 | 399 kB 31.0 MB/s eta 0:00:01\r\u001b[K     |██████████████▌                 | 409 kB 31.0 MB/s eta 0:00:01\r\u001b[K     |██████████████▉                 | 419 kB 31.0 MB/s eta 0:00:01\r\u001b[K     |███████████████▏                | 430 kB 31.0 MB/s eta 0:00:01\r\u001b[K     |███████████████▋                | 440 kB 31.0 MB/s eta 0:00:01\r\u001b[K     |████████████████                | 450 kB 31.0 MB/s eta 0:00:01\r\u001b[K     |████████████████▎               | 460 kB 31.0 MB/s eta 0:00:01\r\u001b[K     |████████████████▋               | 471 kB 31.0 MB/s eta 0:00:01\r\u001b[K     |█████████████████               | 481 kB 31.0 MB/s eta 0:00:01\r\u001b[K     |█████████████████▍              | 491 kB 31.0 MB/s eta 0:00:01\r\u001b[K     |█████████████████▊              | 501 kB 31.0 MB/s eta 0:00:01\r\u001b[K     |██████████████████▏             | 512 kB 31.0 MB/s eta 0:00:01\r\u001b[K     |██████████████████▌             | 522 kB 31.0 MB/s eta 0:00:01\r\u001b[K     |██████████████████▉             | 532 kB 31.0 MB/s eta 0:00:01\r\u001b[K     |███████████████████▏            | 542 kB 31.0 MB/s eta 0:00:01\r\u001b[K     |███████████████████▋            | 552 kB 31.0 MB/s eta 0:00:01\r\u001b[K     |████████████████████            | 563 kB 31.0 MB/s eta 0:00:01\r\u001b[K     |████████████████████▎           | 573 kB 31.0 MB/s eta 0:00:01\r\u001b[K     |████████████████████▋           | 583 kB 31.0 MB/s eta 0:00:01\r\u001b[K     |█████████████████████           | 593 kB 31.0 MB/s eta 0:00:01\r\u001b[K     |█████████████████████▍          | 604 kB 31.0 MB/s eta 0:00:01\r\u001b[K     |█████████████████████▊          | 614 kB 31.0 MB/s eta 0:00:01\r\u001b[K     |██████████████████████          | 624 kB 31.0 MB/s eta 0:00:01\r\u001b[K     |██████████████████████▌         | 634 kB 31.0 MB/s eta 0:00:01\r\u001b[K     |██████████████████████▉         | 645 kB 31.0 MB/s eta 0:00:01\r\u001b[K     |███████████████████████▏        | 655 kB 31.0 MB/s eta 0:00:01\r\u001b[K     |███████████████████████▌        | 665 kB 31.0 MB/s eta 0:00:01\r\u001b[K     |████████████████████████        | 675 kB 31.0 MB/s eta 0:00:01\r\u001b[K     |████████████████████████▎       | 686 kB 31.0 MB/s eta 0:00:01\r\u001b[K     |████████████████████████▋       | 696 kB 31.0 MB/s eta 0:00:01\r\u001b[K     |█████████████████████████       | 706 kB 31.0 MB/s eta 0:00:01\r\u001b[K     |█████████████████████████▍      | 716 kB 31.0 MB/s eta 0:00:01\r\u001b[K     |█████████████████████████▊      | 727 kB 31.0 MB/s eta 0:00:01\r\u001b[K     |██████████████████████████      | 737 kB 31.0 MB/s eta 0:00:01\r\u001b[K     |██████████████████████████▍     | 747 kB 31.0 MB/s eta 0:00:01\r\u001b[K     |██████████████████████████▉     | 757 kB 31.0 MB/s eta 0:00:01\r\u001b[K     |███████████████████████████▏    | 768 kB 31.0 MB/s eta 0:00:01\r\u001b[K     |███████████████████████████▌    | 778 kB 31.0 MB/s eta 0:00:01\r\u001b[K     |████████████████████████████    | 788 kB 31.0 MB/s eta 0:00:01\r\u001b[K     |████████████████████████████▎   | 798 kB 31.0 MB/s eta 0:00:01\r\u001b[K     |████████████████████████████▋   | 808 kB 31.0 MB/s eta 0:00:01\r\u001b[K     |█████████████████████████████   | 819 kB 31.0 MB/s eta 0:00:01\r\u001b[K     |█████████████████████████████▍  | 829 kB 31.0 MB/s eta 0:00:01\r\u001b[K     |█████████████████████████████▊  | 839 kB 31.0 MB/s eta 0:00:01\r\u001b[K     |██████████████████████████████  | 849 kB 31.0 MB/s eta 0:00:01\r\u001b[K     |██████████████████████████████▍ | 860 kB 31.0 MB/s eta 0:00:01\r\u001b[K     |██████████████████████████████▉ | 870 kB 31.0 MB/s eta 0:00:01\r\u001b[K     |███████████████████████████████▏| 880 kB 31.0 MB/s eta 0:00:01\r\u001b[K     |███████████████████████████████▌| 890 kB 31.0 MB/s eta 0:00:01\r\u001b[K     |███████████████████████████████▉| 901 kB 31.0 MB/s eta 0:00:01\r\u001b[K     |████████████████████████████████| 904 kB 31.0 MB/s \n",
            "\u001b[?25hRequirement already satisfied: urllib3 in /usr/local/lib/python3.7/dist-packages (from selenium) (1.24.3)\n",
            "Installing collected packages: selenium\n",
            "Successfully installed selenium-3.141.0\n",
            "Collecting vimeo_downloader\n",
            "  Downloading vimeo_downloader-0.3.2-py3-none-any.whl (6.4 kB)\n",
            "Collecting requests<3.0.0,>=2.26.0\n",
            "  Downloading requests-2.26.0-py2.py3-none-any.whl (62 kB)\n",
            "\u001b[K     |████████████████████████████████| 62 kB 936 kB/s \n",
            "\u001b[?25hRequirement already satisfied: tqdm<5.0.0,>=4.62.0 in /usr/local/lib/python3.7/dist-packages (from vimeo_downloader) (4.62.2)\n",
            "Requirement already satisfied: urllib3<1.27,>=1.21.1 in /usr/local/lib/python3.7/dist-packages (from requests<3.0.0,>=2.26.0->vimeo_downloader) (1.24.3)\n",
            "Requirement already satisfied: certifi>=2017.4.17 in /usr/local/lib/python3.7/dist-packages (from requests<3.0.0,>=2.26.0->vimeo_downloader) (2021.5.30)\n",
            "Requirement already satisfied: charset-normalizer~=2.0.0 in /usr/local/lib/python3.7/dist-packages (from requests<3.0.0,>=2.26.0->vimeo_downloader) (2.0.5)\n",
            "Requirement already satisfied: idna<4,>=2.5 in /usr/local/lib/python3.7/dist-packages (from requests<3.0.0,>=2.26.0->vimeo_downloader) (2.10)\n",
            "Installing collected packages: requests, vimeo-downloader\n",
            "  Attempting uninstall: requests\n",
            "    Found existing installation: requests 2.23.0\n",
            "    Uninstalling requests-2.23.0:\n",
            "      Successfully uninstalled requests-2.23.0\n",
            "\u001b[31mERROR: pip's dependency resolver does not currently take into account all the packages that are installed. This behaviour is the source of the following dependency conflicts.\n",
            "google-colab 1.0.0 requires requests~=2.23.0, but you have requests 2.26.0 which is incompatible.\n",
            "datascience 0.10.6 requires folium==0.2.1, but you have folium 0.8.3 which is incompatible.\u001b[0m\n",
            "Successfully installed requests-2.26.0 vimeo-downloader-0.3.2\n",
            "Get:1 http://security.ubuntu.com/ubuntu bionic-security InRelease [88.7 kB]\n",
            "Get:2 https://cloud.r-project.org/bin/linux/ubuntu bionic-cran40/ InRelease [3,626 B]\n",
            "Ign:3 https://developer.download.nvidia.com/compute/cuda/repos/ubuntu1804/x86_64  InRelease\n",
            "Get:4 http://ppa.launchpad.net/c2d4u.team/c2d4u4.0+/ubuntu bionic InRelease [15.9 kB]\n",
            "Hit:5 http://archive.ubuntu.com/ubuntu bionic InRelease\n",
            "Ign:6 https://developer.download.nvidia.com/compute/machine-learning/repos/ubuntu1804/x86_64  InRelease\n",
            "Hit:7 https://developer.download.nvidia.com/compute/cuda/repos/ubuntu1804/x86_64  Release\n",
            "Hit:8 https://developer.download.nvidia.com/compute/machine-learning/repos/ubuntu1804/x86_64  Release\n",
            "Get:9 http://archive.ubuntu.com/ubuntu bionic-updates InRelease [88.7 kB]\n",
            "Get:10 https://cloud.r-project.org/bin/linux/ubuntu bionic-cran40/ Packages [67.4 kB]\n",
            "Hit:11 http://ppa.launchpad.net/cran/libgit2/ubuntu bionic InRelease\n",
            "Get:12 http://archive.ubuntu.com/ubuntu bionic-backports InRelease [74.6 kB]\n",
            "Get:13 http://security.ubuntu.com/ubuntu bionic-security/universe amd64 Packages [1,428 kB]\n",
            "Hit:14 http://ppa.launchpad.net/deadsnakes/ppa/ubuntu bionic InRelease\n",
            "Get:15 http://security.ubuntu.com/ubuntu bionic-security/main amd64 Packages [2,326 kB]\n",
            "Hit:16 http://ppa.launchpad.net/graphics-drivers/ppa/ubuntu bionic InRelease\n",
            "Get:19 http://ppa.launchpad.net/c2d4u.team/c2d4u4.0+/ubuntu bionic/main Sources [1,802 kB]\n",
            "Get:20 http://archive.ubuntu.com/ubuntu bionic-updates/main amd64 Packages [2,761 kB]\n",
            "Get:21 http://ppa.launchpad.net/c2d4u.team/c2d4u4.0+/ubuntu bionic/main amd64 Packages [922 kB]\n",
            "Get:22 http://archive.ubuntu.com/ubuntu bionic-updates/universe amd64 Packages [2,202 kB]\n",
            "Fetched 11.8 MB in 3s (3,916 kB/s)\n",
            "Reading package lists... Done\n",
            "Reading package lists... Done\n",
            "Building dependency tree       \n",
            "Reading state information... Done\n",
            "The following additional packages will be installed:\n",
            "  chromium-browser chromium-browser-l10n chromium-codecs-ffmpeg-extra\n",
            "Suggested packages:\n",
            "  webaccounts-chromium-extension unity-chromium-extension\n",
            "The following NEW packages will be installed:\n",
            "  chromium-browser chromium-browser-l10n chromium-chromedriver\n",
            "  chromium-codecs-ffmpeg-extra\n",
            "0 upgraded, 4 newly installed, 0 to remove and 56 not upgraded.\n",
            "Need to get 91.8 MB of archives.\n",
            "After this operation, 315 MB of additional disk space will be used.\n",
            "Get:1 http://archive.ubuntu.com/ubuntu bionic-updates/universe amd64 chromium-codecs-ffmpeg-extra amd64 92.0.4515.159-0ubuntu0.18.04.1 [1,124 kB]\n",
            "Get:2 http://archive.ubuntu.com/ubuntu bionic-updates/universe amd64 chromium-browser amd64 92.0.4515.159-0ubuntu0.18.04.1 [81.7 MB]\n",
            "Get:3 http://archive.ubuntu.com/ubuntu bionic-updates/universe amd64 chromium-browser-l10n all 92.0.4515.159-0ubuntu0.18.04.1 [4,026 kB]\n",
            "Get:4 http://archive.ubuntu.com/ubuntu bionic-updates/universe amd64 chromium-chromedriver amd64 92.0.4515.159-0ubuntu0.18.04.1 [4,902 kB]\n",
            "Fetched 91.8 MB in 3s (28.8 MB/s)\n",
            "Selecting previously unselected package chromium-codecs-ffmpeg-extra.\n",
            "(Reading database ... 155013 files and directories currently installed.)\n",
            "Preparing to unpack .../chromium-codecs-ffmpeg-extra_92.0.4515.159-0ubuntu0.18.04.1_amd64.deb ...\n",
            "Unpacking chromium-codecs-ffmpeg-extra (92.0.4515.159-0ubuntu0.18.04.1) ...\n",
            "Selecting previously unselected package chromium-browser.\n",
            "Preparing to unpack .../chromium-browser_92.0.4515.159-0ubuntu0.18.04.1_amd64.deb ...\n",
            "Unpacking chromium-browser (92.0.4515.159-0ubuntu0.18.04.1) ...\n",
            "Selecting previously unselected package chromium-browser-l10n.\n",
            "Preparing to unpack .../chromium-browser-l10n_92.0.4515.159-0ubuntu0.18.04.1_all.deb ...\n",
            "Unpacking chromium-browser-l10n (92.0.4515.159-0ubuntu0.18.04.1) ...\n",
            "Selecting previously unselected package chromium-chromedriver.\n",
            "Preparing to unpack .../chromium-chromedriver_92.0.4515.159-0ubuntu0.18.04.1_amd64.deb ...\n",
            "Unpacking chromium-chromedriver (92.0.4515.159-0ubuntu0.18.04.1) ...\n",
            "Setting up chromium-codecs-ffmpeg-extra (92.0.4515.159-0ubuntu0.18.04.1) ...\n",
            "Setting up chromium-browser (92.0.4515.159-0ubuntu0.18.04.1) ...\n",
            "update-alternatives: using /usr/bin/chromium-browser to provide /usr/bin/x-www-browser (x-www-browser) in auto mode\n",
            "update-alternatives: using /usr/bin/chromium-browser to provide /usr/bin/gnome-www-browser (gnome-www-browser) in auto mode\n",
            "Setting up chromium-chromedriver (92.0.4515.159-0ubuntu0.18.04.1) ...\n",
            "Setting up chromium-browser-l10n (92.0.4515.159-0ubuntu0.18.04.1) ...\n",
            "Processing triggers for man-db (2.8.3-2ubuntu0.1) ...\n",
            "Processing triggers for hicolor-icon-theme (0.17-2) ...\n",
            "Processing triggers for mime-support (3.60ubuntu1) ...\n",
            "Processing triggers for libc-bin (2.27-3ubuntu1.3) ...\n",
            "/sbin/ldconfig.real: /usr/local/lib/python3.7/dist-packages/ideep4py/lib/libmkldnn.so.0 is not a symbolic link\n",
            "\n"
          ]
        }
      ]
    },
    {
      "cell_type": "code",
      "metadata": {
        "colab": {
          "base_uri": "https://localhost:8080/"
        },
        "id": "zi1ZLcumLMeO",
        "outputId": "231d479c-6a0a-4170-bad8-3c5b5c16b4e9"
      },
      "source": [
        "from google.colab import drive\n",
        "drive.mount('/content/drive')"
      ],
      "execution_count": null,
      "outputs": [
        {
          "output_type": "stream",
          "name": "stdout",
          "text": [
            "Mounted at /content/drive\n"
          ]
        }
      ]
    },
    {
      "cell_type": "markdown",
      "metadata": {
        "id": "99ByRT7ap-kd"
      },
      "source": [
        "***다음은 절대 경로로서 각자 경로를 바꾸어야 함***"
      ]
    },
    {
      "cell_type": "code",
      "metadata": {
        "colab": {
          "base_uri": "https://localhost:8080/"
        },
        "id": "CmRgaqnFLmh9",
        "outputId": "59d1a584-99a9-440d-9b92-a2aead7f64d7"
      },
      "source": [
        "%cd /content/drive/MyDrive/서강대 학습자료/2021년도 2학기 학습자료/디자인프로젝트-유양모 교수님/디자인프로젝트 발표 자료 및 보고서/21.09.23. 발표 자료/COVID-US-main"
      ],
      "execution_count": null,
      "outputs": [
        {
          "output_type": "stream",
          "name": "stdout",
          "text": [
            "/content/drive/MyDrive/서강대 학습자료/2021년도 2학기 학습자료/디자인프로젝트-유양모 교수님/디자인프로젝트 발표 자료 및 보고서/21.09.23. 발표 자료/COVID-US-main\n"
          ]
        }
      ]
    },
    {
      "cell_type": "code",
      "metadata": {
        "id": "hzhAcYkYVpfW"
      },
      "source": [
        "route = '/content/drive/MyDrive/서강대 학습자료/2021년도 2학기 학습자료/디자인프로젝트-유양모 교수님/디자인프로젝트 발표 자료 및 보고서/21.09.23. 발표 자료/COVID-US-main/'"
      ],
      "execution_count": null,
      "outputs": []
    },
    {
      "cell_type": "code",
      "metadata": {
        "colab": {
          "base_uri": "https://localhost:8080/"
        },
        "id": "SF7g74t0MHUd",
        "outputId": "dcd15141-d7a9-4629-fb98-9874d475aa0a"
      },
      "source": [
        "!ls"
      ],
      "execution_count": null,
      "outputs": [
        {
          "output_type": "stream",
          "name": "stdout",
          "text": [
            "create_COVIDxUS.ipynb  figure\t      labels   README.md\n",
            "data\t\t       image_data.py  LICENSE  utils\n"
          ]
        }
      ]
    },
    {
      "cell_type": "markdown",
      "metadata": {
        "id": "y5BzIS3CIWot"
      },
      "source": [
        "#### Libraries"
      ]
    },
    {
      "cell_type": "code",
      "metadata": {
        "id": "5972eP-SIWot"
      },
      "source": [
        "import pandas as pd\n",
        "import numpy as np\n",
        "import os\n",
        "import re\n",
        "import shutil\n",
        "import random\n",
        "\n",
        "import cv2\n",
        "from PIL import Image\n",
        "\n",
        "import zipfile\n",
        "from selenium import webdriver\n",
        "from selenium.webdriver.chrome.options import Options\n",
        "import requests\n",
        "from vimeo_downloader import Vimeo\n",
        "import urllib.request\n",
        "\n",
        "from progressbar import ProgressBar\n",
        "\n",
        "import time\n",
        "from image_data import extract_images\n",
        "\n",
        "import matplotlib.pyplot as plt\n",
        "\n",
        "import subprocess # to unzip butterfly file\n",
        "import glob"
      ],
      "execution_count": null,
      "outputs": []
    },
    {
      "cell_type": "code",
      "metadata": {
        "colab": {
          "base_uri": "https://localhost:8080/"
        },
        "id": "l8weFeabIWou",
        "outputId": "4c4494bb-54ba-44ae-ac8f-46ec0c7e7f1e"
      },
      "source": [
        "print(\"Pandas\", pd.__version__)\n",
        "import selenium\n",
        "print(\"selenium\", selenium.__version__)\n",
        "print(\"requests\", requests.__version__)"
      ],
      "execution_count": null,
      "outputs": [
        {
          "output_type": "stream",
          "name": "stdout",
          "text": [
            "Pandas 1.1.5\n",
            "selenium 3.141.0\n",
            "requests 2.26.0\n"
          ]
        }
      ]
    },
    {
      "cell_type": "markdown",
      "metadata": {
        "id": "EvsK4QRfIWov"
      },
      "source": [
        "#### Functions"
      ]
    },
    {
      "cell_type": "code",
      "metadata": {
        "id": "7SY-NYgYIWov"
      },
      "source": [
        "def get_download_path():\n",
        "    \"\"\"Returns the default downloads path for linux or windows\"\"\"\n",
        "    if os.name == 'nt':\n",
        "        import winreg\n",
        "        sub_key = r'SOFTWARE\\Microsoft\\Windows\\CurrentVersion\\Explorer\\Shell Folders'\n",
        "        downloads_guid = '{374DE290-123F-4565-9164-39C4925E467B}'\n",
        "        with winreg.OpenKey(winreg.HKEY_CURRENT_USER, sub_key) as key:\n",
        "            location = winreg.QueryValueEx(key, downloads_guid)[0]\n",
        "        return location\n",
        "    else:\n",
        "        return os.path.join(os.path.expanduser('~'), 'downloads')\n",
        "\n",
        "def remove_html_tags(text):\n",
        "    \"\"\"Function to remove html tags from a string\"\"\"\n",
        "    import re\n",
        "    clean = re.compile('<.*?>')\n",
        "    return re.sub(clean, '', text)"
      ],
      "execution_count": null,
      "outputs": []
    },
    {
      "cell_type": "code",
      "metadata": {
        "id": "QgbpBAX7IWow"
      },
      "source": [
        "# code to download zip files from Google drive, in case required\n",
        "def download_file_from_google_drive(id, destination):\n",
        "    URL = \"https://docs.google.com/uc?export=download\"\n",
        "\n",
        "    session = requests.Session()\n",
        "\n",
        "    response = session.get(URL, params = { 'id' : id }, stream = True)\n",
        "    token = get_confirm_token(response)\n",
        "\n",
        "    if token:\n",
        "        params = { 'id' : id, 'confirm' : token }\n",
        "        response = session.get(URL, params = params, stream = True)\n",
        "\n",
        "    save_response_content(response, destination)\n",
        "\n",
        "def get_confirm_token(response):\n",
        "    for key, value in response.cookies.items():\n",
        "        if key.startswith('download_warning'):\n",
        "            return value\n",
        "\n",
        "    return None\n",
        "\n",
        "def save_response_content(response, destination):\n",
        "    CHUNK_SIZE = 32768\n",
        "    progress = ProgressBar()\n",
        "\n",
        "    with open(destination, \"wb\") as f:\n",
        "        for chunk in progress(response.iter_content(CHUNK_SIZE)):\n",
        "            if chunk: # filter out keep-alive new chunks\n",
        "                f.write(chunk)"
      ],
      "execution_count": null,
      "outputs": []
    },
    {
      "cell_type": "markdown",
      "metadata": {
        "id": "BBMig3_QIWow"
      },
      "source": [
        "#### Parameters"
      ]
    },
    {
      "cell_type": "code",
      "metadata": {
        "id": "9yYSbaqJIWow"
      },
      "source": [
        "# set save path directory\n",
        "SAVE_PATH = 'data'\n",
        "\n",
        "# create data, video, and image folders, if they do not exist\n",
        "if not os.path.exists('data'):\n",
        "    os.makedirs('data')\n",
        "if not os.path.exists('data/video'):\n",
        "    os.makedirs('data/video')\n",
        "if not os.path.exists('data/image'):\n",
        "    os.makedirs('data/image')\n",
        "\n",
        "# setting chrome driver\n",
        "chromedriver = \"utils/chromedriver.exe\"\n",
        "os.environ[\"webdriver.chrome.driver\"] = chromedriver\n",
        "chrome_options = Options()\n",
        "chrome_options.add_argument(\"--headless\")\n",
        "\n",
        "# setting global vars\n",
        "VIDEO_PATH = 'data/video/'\n",
        "IMAGE_PATH = 'data/image/'"
      ],
      "execution_count": null,
      "outputs": []
    },
    {
      "cell_type": "markdown",
      "metadata": {
        "id": "totooXcrIWox"
      },
      "source": [
        "#### Read the Metadata File"
      ]
    },
    {
      "cell_type": "code",
      "metadata": {
        "colab": {
          "base_uri": "https://localhost:8080/",
          "height": 321
        },
        "id": "SaKcvxmKIWox",
        "outputId": "13972474-8f3b-4915-ca67-c678c435e5c8"
      },
      "source": [
        "metadata = pd.read_csv('utils/video_metadata.csv', sep=',', encoding='latin1')\n",
        "print(metadata.shape)\n",
        "metadata.head(5)"
      ],
      "execution_count": null,
      "outputs": [
        {
          "output_type": "stream",
          "name": "stdout",
          "text": [
            "(244, 21)\n"
          ]
        },
        {
          "output_type": "execute_result",
          "data": {
            "text/html": [
              "<div>\n",
              "<style scoped>\n",
              "    .dataframe tbody tr th:only-of-type {\n",
              "        vertical-align: middle;\n",
              "    }\n",
              "\n",
              "    .dataframe tbody tr th {\n",
              "        vertical-align: top;\n",
              "    }\n",
              "\n",
              "    .dataframe thead th {\n",
              "        text-align: right;\n",
              "    }\n",
              "</style>\n",
              "<table border=\"1\" class=\"dataframe\">\n",
              "  <thead>\n",
              "    <tr style=\"text-align: right;\">\n",
              "      <th></th>\n",
              "      <th>id</th>\n",
              "      <th>filename</th>\n",
              "      <th>filetype</th>\n",
              "      <th>folder</th>\n",
              "      <th>source</th>\n",
              "      <th>url</th>\n",
              "      <th>probe</th>\n",
              "      <th>class</th>\n",
              "      <th>class_on_website</th>\n",
              "      <th>version</th>\n",
              "      <th>date_added</th>\n",
              "      <th>type</th>\n",
              "      <th>patient</th>\n",
              "      <th>case_no</th>\n",
              "      <th>gender</th>\n",
              "      <th>age</th>\n",
              "      <th>comment</th>\n",
              "      <th>paper_link</th>\n",
              "      <th>paper_doi</th>\n",
              "      <th>license</th>\n",
              "      <th>link</th>\n",
              "    </tr>\n",
              "  </thead>\n",
              "  <tbody>\n",
              "    <tr>\n",
              "      <th>0</th>\n",
              "      <td>1_butterfly_covid</td>\n",
              "      <td>Coalescing B lines.mp4</td>\n",
              "      <td>mp4</td>\n",
              "      <td>data\\tmp\\Butterfly\\B lines</td>\n",
              "      <td>Butterfly</td>\n",
              "      <td>https://butterflynetwork.getbynder.com/transfe...</td>\n",
              "      <td>Convex</td>\n",
              "      <td>COVID</td>\n",
              "      <td>NaN</td>\n",
              "      <td>1.0</td>\n",
              "      <td>Nov_2020</td>\n",
              "      <td>lung</td>\n",
              "      <td>NaN</td>\n",
              "      <td>NaN</td>\n",
              "      <td>NaN</td>\n",
              "      <td>NaN</td>\n",
              "      <td>NaN</td>\n",
              "      <td>NaN</td>\n",
              "      <td>NaN</td>\n",
              "      <td>NaN</td>\n",
              "      <td>NaN</td>\n",
              "    </tr>\n",
              "    <tr>\n",
              "      <th>1</th>\n",
              "      <td>2_butterfly_covid</td>\n",
              "      <td>Confluent B lines.mp4</td>\n",
              "      <td>mp4</td>\n",
              "      <td>data\\tmp\\Butterfly\\B lines</td>\n",
              "      <td>Butterfly</td>\n",
              "      <td>https://butterflynetwork.getbynder.com/transfe...</td>\n",
              "      <td>Convex</td>\n",
              "      <td>COVID</td>\n",
              "      <td>NaN</td>\n",
              "      <td>1.0</td>\n",
              "      <td>Nov_2020</td>\n",
              "      <td>lung</td>\n",
              "      <td>NaN</td>\n",
              "      <td>NaN</td>\n",
              "      <td>NaN</td>\n",
              "      <td>NaN</td>\n",
              "      <td>NaN</td>\n",
              "      <td>NaN</td>\n",
              "      <td>NaN</td>\n",
              "      <td>NaN</td>\n",
              "      <td>NaN</td>\n",
              "    </tr>\n",
              "    <tr>\n",
              "      <th>2</th>\n",
              "      <td>3_butterfly_covid</td>\n",
              "      <td>Confluent B lines_Example 2.mp4</td>\n",
              "      <td>mp4</td>\n",
              "      <td>data\\tmp\\Butterfly\\B lines</td>\n",
              "      <td>Butterfly</td>\n",
              "      <td>https://butterflynetwork.getbynder.com/transfe...</td>\n",
              "      <td>Convex</td>\n",
              "      <td>COVID</td>\n",
              "      <td>NaN</td>\n",
              "      <td>1.0</td>\n",
              "      <td>Nov_2020</td>\n",
              "      <td>lung</td>\n",
              "      <td>NaN</td>\n",
              "      <td>NaN</td>\n",
              "      <td>NaN</td>\n",
              "      <td>NaN</td>\n",
              "      <td>NaN</td>\n",
              "      <td>NaN</td>\n",
              "      <td>NaN</td>\n",
              "      <td>NaN</td>\n",
              "      <td>NaN</td>\n",
              "    </tr>\n",
              "    <tr>\n",
              "      <th>3</th>\n",
              "      <td>4_butterfly_covid</td>\n",
              "      <td>Patchy B lines with Sparing.mp4</td>\n",
              "      <td>mp4</td>\n",
              "      <td>data\\tmp\\Butterfly\\B lines</td>\n",
              "      <td>Butterfly</td>\n",
              "      <td>https://butterflynetwork.getbynder.com/transfe...</td>\n",
              "      <td>Convex</td>\n",
              "      <td>COVID</td>\n",
              "      <td>NaN</td>\n",
              "      <td>1.0</td>\n",
              "      <td>Nov_2020</td>\n",
              "      <td>lung</td>\n",
              "      <td>NaN</td>\n",
              "      <td>NaN</td>\n",
              "      <td>NaN</td>\n",
              "      <td>NaN</td>\n",
              "      <td>NaN</td>\n",
              "      <td>NaN</td>\n",
              "      <td>NaN</td>\n",
              "      <td>NaN</td>\n",
              "      <td>NaN</td>\n",
              "    </tr>\n",
              "    <tr>\n",
              "      <th>4</th>\n",
              "      <td>5_butterfly_covid</td>\n",
              "      <td>Cardiomyopathy.mp4</td>\n",
              "      <td>mp4</td>\n",
              "      <td>data\\tmp\\Butterfly\\Cardiac Manifestations</td>\n",
              "      <td>Butterfly</td>\n",
              "      <td>https://butterflynetwork.getbynder.com/transfe...</td>\n",
              "      <td>Convex</td>\n",
              "      <td>COVID</td>\n",
              "      <td>NaN</td>\n",
              "      <td>1.0</td>\n",
              "      <td>Nov_2020</td>\n",
              "      <td>cardiac</td>\n",
              "      <td>NaN</td>\n",
              "      <td>NaN</td>\n",
              "      <td>NaN</td>\n",
              "      <td>NaN</td>\n",
              "      <td>NaN</td>\n",
              "      <td>NaN</td>\n",
              "      <td>NaN</td>\n",
              "      <td>NaN</td>\n",
              "      <td>NaN</td>\n",
              "    </tr>\n",
              "  </tbody>\n",
              "</table>\n",
              "</div>"
            ],
            "text/plain": [
              "                  id                         filename  ... license link\n",
              "0  1_butterfly_covid           Coalescing B lines.mp4  ...     NaN  NaN\n",
              "1  2_butterfly_covid            Confluent B lines.mp4  ...     NaN  NaN\n",
              "2  3_butterfly_covid  Confluent B lines_Example 2.mp4  ...     NaN  NaN\n",
              "3  4_butterfly_covid  Patchy B lines with Sparing.mp4  ...     NaN  NaN\n",
              "4  5_butterfly_covid               Cardiomyopathy.mp4  ...     NaN  NaN\n",
              "\n",
              "[5 rows x 21 columns]"
            ]
          },
          "metadata": {},
          "execution_count": 7
        }
      ]
    },
    {
      "cell_type": "markdown",
      "metadata": {
        "id": "4UCkZtgdIWox"
      },
      "source": [
        "# 1. Get Ultrasound Videos"
      ]
    },
    {
      "cell_type": "markdown",
      "metadata": {
        "id": "8LWfjdr1IWoy"
      },
      "source": [
        "## 1.1. ButterflyNetwork"
      ]
    },
    {
      "cell_type": "markdown",
      "metadata": {
        "id": "0Czcv0NGIWoy"
      },
      "source": [
        "__Note1:__ Depending on your system configuration the download button may not load in time. If you get an error, increase the sleep time in the following code:\n",
        "\n",
        "```python\n",
        "time.sleep(5)\n",
        "```"
      ]
    },
    {
      "cell_type": "markdown",
      "metadata": {
        "id": "tF9Jta_7IWoy"
      },
      "source": [
        "__Note2:__ The below code block works with Chrome web browser and with ChromeDriver version 88 that is included in the utils folder. Depending on the version of your chrome browser, you may get a ChromeDriver version error. If occurs, please download the correct version of ChromeDriver based on the version of your chrome browser from this [link](https://chromedriver.chromium.org/downloads), and copy it to the utils folder."
      ]
    },
    {
      "cell_type": "code",
      "metadata": {
        "id": "P45Fke98IWoy"
      },
      "source": [
        "# # zip file url\n",
        "# butterfly_url = metadata[(metadata.source == 'Butterfly') & (metadata.date_added == 'Mar_2021')].url.unique()[0]\n",
        "# print('...Downloading ButterflyNetwork zip file...')\n",
        "\n",
        "# chrome_options = webdriver.ChromeOptions()\n",
        "# chrome_options.add_argument('--headless')\n",
        "# chrome_options.add_argument('--no-sandbox')\n",
        "# chrome_options.add_argument('--disable-dev-shm-usage')\n",
        "\n",
        "# # simulatting button click to download the zip file\n",
        "# browser = webdriver.Chrome(chromedriver, options=chrome_options)\n",
        "# # browser = webdriver.Chrome('chromedriver', chrome_options=chrome_options)\n",
        "# browser.get(butterfly_url)\n",
        "\n",
        "# # Download button sometimes doesn't load in time to click. If such error occurring, increase sleep time\n",
        "# time.sleep(5)\n",
        "\n",
        "# browser.find_element_by_class_name('btn-primary').click()\n",
        "\n",
        "# # path to the downloaded zip file\n",
        "# zip_file_path = os.path.join(get_download_path(), 'Published -20210112T164653Z-001.zip')  # new version - checked March 9, 2021\n",
        "# # zip_file_path = os.path.join('/content', 'Published -20210112T164653Z-001.zip')  # new version - checked March 9, 2021\n",
        "\n",
        "# # wait till the zip file is downloaded\n",
        "# while not os.path.exists(zip_file_path):\n",
        "#     time.sleep(1)\n",
        "\n",
        "# # create butterfly folder under video folder, if it does not exist\n",
        "# if not os.path.exists('data/tmp/Butterfly'):\n",
        "#     os.makedirs('data/tmp/Butterfly')\n",
        "# time.sleep(2)\n",
        "\n",
        "\n",
        "# print('...Extracting the video files...')\n",
        "# # extract the downloaded zip file and remove the zip file after extraction\n",
        "# os.rename(zip_file_path, zip_file_path.replace(' ', ''))\n",
        "# subprocess.Popen(\"utils/7z.exe\" +' x ' + zip_file_path.replace(' ', '') + ' -o' + 'data/tmp/Butterfly',stdout=subprocess.PIPE)\n",
        "# time.sleep(5)\n",
        "\n",
        "# # copy files from subfolders to the video folder\n",
        "# for root, dirs, files in os.walk('data/tmp/Butterfly/Published_'):\n",
        "#     for file in files:\n",
        "#         if file.endswith(\".png\"):\n",
        "#             continue\n",
        "#         path_file = os.path.join(root,file)\n",
        "#         shutil.copy2(path_file, 'data/video')\n",
        "\n",
        "# # renaming extracted files to their ids\n",
        "# progress = ProgressBar()\n",
        "# for root, dirs, files in os.walk('data/video'):\n",
        "#     for file in progress(files):\n",
        "#         if file.endswith(\".png\"):\n",
        "#             continue\n",
        "#         path_file = os.path.join(root,file)\n",
        "#         file_id = metadata[metadata.filename == file].id.values[0] + '.mp4'\n",
        "#         # rename the file to its id\n",
        "#         os.rename(path_file, os.path.join(root,file_id))\n",
        "\n",
        "# print('=== ButterflyNetwork video files extraction done! ===')\n",
        "\n",
        "# # delete the tmp folder and its contents\n",
        "# shutil.rmtree('data/tmp')\n",
        "\n",
        "# # remove the zip file\n",
        "# os.remove(zip_file_path.replace(' ', ''))"
      ],
      "execution_count": null,
      "outputs": []
    },
    {
      "cell_type": "markdown",
      "metadata": {
        "id": "KIHzL672IWoz"
      },
      "source": [
        "**Note:** If you get error running the above cell, uncomment and run the following code block instead:"
      ]
    },
    {
      "cell_type": "code",
      "metadata": {
        "id": "t3OV7N5PIWoz",
        "colab": {
          "base_uri": "https://localhost:8080/"
        },
        "outputId": "9c3b7d9e-ddb6-40bf-94b9-bc1c1488a929"
      },
      "source": [
        "import requests\n",
        "\n",
        "print('Downloading Butterfly zip file')\n",
        "file_id = '18I4N6lWdcUW618Qwr6Krsd1Rkn946Ag0' # sharable link id\n",
        "# zip_file_path = os.path.join(get_download_path(), 'butterfly.zip')\n",
        "zip_file_path = os.path.join(route + 'data/video', 'butterfly.zip')\n",
        "download_file_from_google_drive(file_id, zip_file_path)\n",
        "\n",
        "# unzip video files\n",
        "print('Download complete\\nExtracting video files')\n",
        "# open_file = subprocess.Popen(\"utils/7z.exe\" +' x ' + zip_file_path + ' -o' + 'data/video',stdout=subprocess.PIPE)\n",
        "\n",
        "# os.rename(zip_file_path, zip_file_path.replace(' ', ''))\n",
        "os.makedirs(route + 'data/video', exist_ok=True)\n",
        "!unzip -uq 'data/video/butterfly.zip' -d 'data/video/'\n",
        "time.sleep(5)\n",
        "\n",
        "print('Extraction complete')"
      ],
      "execution_count": null,
      "outputs": [
        {
          "output_type": "stream",
          "name": "stdout",
          "text": [
            "Downloading Butterfly zip file\n"
          ]
        },
        {
          "output_type": "stream",
          "name": "stderr",
          "text": [
            "| |        #                                       | 2769 Elapsed Time: 0:00:00\n"
          ]
        },
        {
          "output_type": "stream",
          "name": "stdout",
          "text": [
            "Download complete\n",
            "Extracting video files\n",
            "Extraction complete\n"
          ]
        }
      ]
    },
    {
      "cell_type": "markdown",
      "metadata": {
        "id": "Z_RI2caxIWo0"
      },
      "source": [
        "## 1.2. GrepMed"
      ]
    },
    {
      "cell_type": "code",
      "metadata": {
        "id": "pWH_hn0dIWo0",
        "colab": {
          "base_uri": "https://localhost:8080/"
        },
        "outputId": "53d97b61-09cf-4ed7-c0a0-7cfbd8b43968"
      },
      "source": [
        "print('...Extracting the video files...')\n",
        "grepmed_df = metadata[metadata.source == 'GrepMed']\n",
        "\n",
        "progress = ProgressBar(max_value=grepmed_df.shape[0])\n",
        "for idx, row in progress(grepmed_df.iterrows()):\n",
        "    filename = row.id + '.' + row.filetype\n",
        "    # write the video file to disk\n",
        "    vid = requests.get(row.url).content\n",
        "    with open(os.path.join('data/video/', filename), 'wb') as handler:\n",
        "        handler.write(vid)\n",
        "print('=== GrepMed video files extraction done! ===')"
      ],
      "execution_count": null,
      "outputs": [
        {
          "output_type": "stream",
          "name": "stderr",
          "text": [
            "\r                                                                               \r\rN/A% (0 of 20) |                         | Elapsed Time: 0:00:00 ETA:  --:--:--"
          ]
        },
        {
          "output_type": "stream",
          "name": "stdout",
          "text": [
            "...Extracting the video files...\n"
          ]
        },
        {
          "output_type": "stream",
          "name": "stderr",
          "text": [
            "100% (20 of 20) |########################| Elapsed Time: 0:00:04 Time:  0:00:04\n"
          ]
        },
        {
          "output_type": "stream",
          "name": "stdout",
          "text": [
            "=== GrepMed video files extraction done! ===\n"
          ]
        }
      ]
    },
    {
      "cell_type": "markdown",
      "metadata": {
        "id": "kU5-tUpkIWo1"
      },
      "source": [
        "## 1.3. LITFL"
      ]
    },
    {
      "cell_type": "code",
      "metadata": {
        "id": "YOeIBSKWIWo1",
        "colab": {
          "base_uri": "https://localhost:8080/"
        },
        "outputId": "3ce68fff-0d92-4d45-cbc0-b2b206566c3a"
      },
      "source": [
        "print('...Extracting the video files...')\n",
        "litfl_df = metadata[metadata.source == 'Litfl']\n",
        "\n",
        "progress = ProgressBar(max_value=litfl_df.shape[0])\n",
        "for idx, row in progress(litfl_df.iterrows()):\n",
        "    filename = row.id + '.' + row.filetype\n",
        "    # write the video file to disk\n",
        "    vid = requests.get(row.url).content\n",
        "    with open(os.path.join('data/video/', filename), 'wb') as handler:\n",
        "        handler.write(vid)\n",
        "print('=== LITFL video files extraction done! ===')"
      ],
      "execution_count": null,
      "outputs": [
        {
          "output_type": "stream",
          "name": "stderr",
          "text": [
            "\r                                                                               \r\rN/A% (0 of 63) |                         | Elapsed Time: 0:00:00 ETA:  --:--:--"
          ]
        },
        {
          "output_type": "stream",
          "name": "stdout",
          "text": [
            "...Extracting the video files...\n"
          ]
        },
        {
          "output_type": "stream",
          "name": "stderr",
          "text": [
            "100% (63 of 63) |########################| Elapsed Time: 0:00:31 Time:  0:00:31\n"
          ]
        },
        {
          "output_type": "stream",
          "name": "stdout",
          "text": [
            "=== LITFL video files extraction done! ===\n"
          ]
        }
      ]
    },
    {
      "cell_type": "markdown",
      "metadata": {
        "id": "J3jEUCLgIWo1"
      },
      "source": [
        "## 1.4. The POCUS Atlas"
      ]
    },
    {
      "cell_type": "code",
      "metadata": {
        "id": "SvCqzT4EIWo1",
        "colab": {
          "base_uri": "https://localhost:8080/"
        },
        "outputId": "d3775244-3125-4ae9-9f0b-bc9967af6365"
      },
      "source": [
        "print('...Extracting the video files...')\n",
        "pocus_df = metadata[metadata.source == 'PocusAtlas']\n",
        "\n",
        "progress = ProgressBar(max_value=pocus_df.shape[0])\n",
        "for idx, row in progress(pocus_df.iterrows()):\n",
        "    filename = row.id + '.' + row.filetype\n",
        "    # write the video file to disk\n",
        "    vid = requests.get(row.url).content\n",
        "    with open(os.path.join('data/video/', filename), 'wb') as handler:\n",
        "        handler.write(vid)\n",
        "print('=== THEPocusAtlas video files extraction done! ===')"
      ],
      "execution_count": null,
      "outputs": [
        {
          "output_type": "stream",
          "name": "stderr",
          "text": [
            "  9% (3 of 32) |##                       | Elapsed Time: 0:00:00 ETA:   0:00:01"
          ]
        },
        {
          "output_type": "stream",
          "name": "stdout",
          "text": [
            "...Extracting the video files...\n"
          ]
        },
        {
          "output_type": "stream",
          "name": "stderr",
          "text": [
            "100% (32 of 32) |########################| Elapsed Time: 0:00:05 Time:  0:00:05\n"
          ]
        },
        {
          "output_type": "stream",
          "name": "stdout",
          "text": [
            "=== THEPocusAtlas video files extraction done! ===\n"
          ]
        }
      ]
    },
    {
      "cell_type": "markdown",
      "metadata": {
        "id": "j2SbSZucIWo2"
      },
      "source": [
        "## 1.5. Radiopaedia"
      ]
    },
    {
      "cell_type": "code",
      "metadata": {
        "id": "bN-Uoia0IWo2",
        "colab": {
          "base_uri": "https://localhost:8080/"
        },
        "outputId": "96442554-576a-4373-ded2-ac50102b6d01"
      },
      "source": [
        "print('...Extracting the video files...')\n",
        "radio_df = metadata[metadata.source == 'Radiopaedia']\n",
        "\n",
        "progress = ProgressBar(max_value=radio_df.shape[0])\n",
        "for idx, row in progress(radio_df.iterrows()):\n",
        "    filename = row.id + '.' + row.filetype\n",
        "    # write the video file to disk\n",
        "    vid = requests.get(row.url).content\n",
        "    with open(os.path.join('data/video/', filename), 'wb') as handler:\n",
        "        handler.write(vid)\n",
        "print('=== Radiopaedia video files extraction done! ===')"
      ],
      "execution_count": null,
      "outputs": [
        {
          "output_type": "stream",
          "name": "stderr",
          "text": [
            " 20% (1 of 5) |#####                     | Elapsed Time: 0:00:00 ETA:   0:00:00"
          ]
        },
        {
          "output_type": "stream",
          "name": "stdout",
          "text": [
            "...Extracting the video files...\n"
          ]
        },
        {
          "output_type": "stream",
          "name": "stderr",
          "text": [
            "100% (5 of 5) |##########################| Elapsed Time: 0:00:01 Time:  0:00:01\n"
          ]
        },
        {
          "output_type": "stream",
          "name": "stdout",
          "text": [
            "=== Radiopaedia video files extraction done! ===\n"
          ]
        }
      ]
    },
    {
      "cell_type": "markdown",
      "metadata": {
        "id": "n3YEa4fPIWo3"
      },
      "source": [
        "## 1.6. CoreUltrasound"
      ]
    },
    {
      "cell_type": "code",
      "metadata": {
        "id": "jHWHMkk-IWo3",
        "colab": {
          "base_uri": "https://localhost:8080/"
        },
        "outputId": "18859fda-9a3d-4053-a7a6-400965384019"
      },
      "source": [
        "print('...Extracting the video files...')\n",
        "core_df = metadata[metadata.source == 'CoreUltrasound']\n",
        "\n",
        "progress = ProgressBar(max_value=core_df.shape[0])\n",
        "for idx, row in progress(core_df.iterrows()):\n",
        "    filename = row.id + '.' + row.filetype\n",
        "    # extract videos from Vimeo\n",
        "    if 'vimeo' in row.url:\n",
        "        print()\n",
        "        print(row)\n",
        "        v = Vimeo(row.url)\n",
        "        # stream = v.streams # List of available streams of different quality\n",
        "        # highest_quality_available = stream[-1]\n",
        "        # highest_quality_available.download(download_directory = 'data/video/', filename = filename.split('.')[0])\n",
        "    # extract mp4 videos\n",
        "    else:\n",
        "        # write the video file to disk\n",
        "        vid = requests.get(row.url).content\n",
        "        with open(os.path.join('data/video/', filename), 'wb') as handler:\n",
        "            handler.write(vid)\n",
        "print('=== CoreUltrasound video files extraction done! ===')"
      ],
      "execution_count": null,
      "outputs": [
        {
          "output_type": "stream",
          "name": "stderr",
          "text": [
            " 44% (8 of 18) |###########              | Elapsed Time: 0:00:00 ETA:   0:00:00"
          ]
        },
        {
          "output_type": "stream",
          "name": "stdout",
          "text": [
            "...Extracting the video files...\n",
            "\n",
            "id                                                     157_core_other\n",
            "filename                                                 Core_NGT.mp4\n",
            "filetype                                                          mp4\n",
            "folder                         data\\video\\Coreultrasound\\target_video\n",
            "source                                                 CoreUltrasound\n",
            "url                                       https://vimeo.com/501985162\n",
            "probe                                                          Convex\n",
            "class                                                           Other\n",
            "class_on_website                                    Bad NGT Placement\n",
            "version                                                           1.3\n",
            "date_added                                                   Apr_2021\n",
            "type                                                             lung\n",
            "patient                                                core_ngt_case1\n",
            "case_no                                                             1\n",
            "gender                                                         female\n",
            "age                                                                72\n",
            "comment             A 72 year old female with a history of multipl...\n",
            "paper_link                                                        NaN\n",
            "paper_doi                                                         NaN\n",
            "license                                                           NaN\n",
            "link                                                              NaN\n",
            "Name: 156, dtype: object\n",
            "\n",
            "id                                                 158_core_pneumonia\n",
            "filename                                     Core_Pneumonia_case1.mp4\n",
            "filetype                                                          mp4\n",
            "folder                         data\\video\\Coreultrasound\\target_video\n",
            "source                                                 CoreUltrasound\n",
            "url                                       https://vimeo.com/472743963\n",
            "probe                                                          Convex\n",
            "class                                                       Pneumonia\n",
            "class_on_website                                            Pneumonia\n",
            "version                                                           1.3\n",
            "date_added                                                   Apr_2021\n",
            "type                                                             lung\n",
            "patient                                          core_pneumonia_case1\n",
            "case_no                                                             1\n",
            "gender                                                           male\n",
            "age                                                                28\n",
            "comment             A 28 yo male presents to your emergency depart...\n",
            "paper_link                                                        NaN\n",
            "paper_doi                                                         NaN\n",
            "license                                                           NaN\n",
            "link                                                              NaN\n",
            "Name: 157, dtype: object\n",
            "\n",
            "id                                                     159_core_other\n",
            "filename                                          Core_PC_case1_1.mp4\n",
            "filetype                                                          mp4\n",
            "folder                         data\\video\\Coreultrasound\\target_video\n",
            "source                                                 CoreUltrasound\n",
            "url                                       https://vimeo.com/428684785\n",
            "probe                                                          Convex\n",
            "class                                                           Other\n",
            "class_on_website                                  Pulmonary Contusion\n",
            "version                                                           1.3\n",
            "date_added                                                   Apr_2021\n",
            "type                                                             lung\n",
            "patient                                                 core_pc_case1\n",
            "case_no                                                             1\n",
            "gender                                                         female\n",
            "age                                                                35\n",
            "comment             A 35 year old previously healthy female presen...\n",
            "paper_link                                                        NaN\n",
            "paper_doi                                                         NaN\n",
            "license                                                           NaN\n",
            "link                                                              NaN\n",
            "Name: 158, dtype: object\n",
            "\n",
            "id                                                     160_core_other\n",
            "filename                                          Core_PC_case1_2.mp4\n",
            "filetype                                                          mp4\n",
            "folder                         data\\video\\Coreultrasound\\target_video\n",
            "source                                                 CoreUltrasound\n",
            "url                                       https://vimeo.com/428684785\n",
            "probe                                                          Convex\n",
            "class                                                           Other\n",
            "class_on_website                                  Pulmonary Contusion\n",
            "version                                                           1.3\n",
            "date_added                                                   Apr_2021\n",
            "type                                                             lung\n",
            "patient                                                 core_pc_case1\n",
            "case_no                                                             2\n",
            "gender                                                         female\n",
            "age                                                                35\n",
            "comment             A 35 year old previously healthy female presen...\n",
            "paper_link                                                        NaN\n",
            "paper_doi                                                         NaN\n",
            "license                                                           NaN\n",
            "link                                                              NaN\n",
            "Name: 159, dtype: object\n",
            "\n",
            "id                                                     161_core_other\n",
            "filename                                  Core_Pneumothorax_case1.mp4\n",
            "filetype                                                          mp4\n",
            "folder                         data\\video\\Coreultrasound\\target_video\n",
            "source                                                 CoreUltrasound\n",
            "url                                       https://vimeo.com/395474090\n",
            "probe                                                          Linear\n",
            "class                                                           Other\n",
            "class_on_website                                         Pneumothorax\n",
            "version                                                           1.3\n",
            "date_added                                                   Apr_2021\n",
            "type                                                             lung\n",
            "patient                                       core_pneumothorax_case1\n",
            "case_no                                                             1\n",
            "gender                                                           male\n",
            "age                                                                55\n",
            "comment             55 yo male presents with acute onset of back p...\n",
            "paper_link                                                        NaN\n",
            "paper_doi                                                         NaN\n",
            "license                                                           NaN\n",
            "link                                                              NaN\n",
            "Name: 160, dtype: object\n",
            "\n",
            "id                                                     162_core_other\n",
            "filename                                  Core_Pneumothorax_case1.mp4\n",
            "filetype                                                          mp4\n",
            "folder                         data\\video\\Coreultrasound\\target_video\n",
            "source                                                 CoreUltrasound\n",
            "url                                       https://vimeo.com/395474090\n",
            "probe                                                          Linear\n",
            "class                                                           Other\n",
            "class_on_website                                         Pneumothorax\n",
            "version                                                           1.3\n",
            "date_added                                                   Apr_2021\n",
            "type                                                             lung\n",
            "patient                                       core_pneumothorax_case1\n",
            "case_no                                                             2\n",
            "gender                                                           male\n",
            "age                                                                55\n",
            "comment             55 yo male presents with acute onset of back p...\n",
            "paper_link                                                        NaN\n",
            "paper_doi                                                         NaN\n",
            "license                                                           NaN\n",
            "link                                                              NaN\n",
            "Name: 161, dtype: object\n"
          ]
        },
        {
          "output_type": "stream",
          "name": "stderr",
          "text": [
            "100% (18 of 18) |########################| Elapsed Time: 0:00:00 Time:  0:00:00\n"
          ]
        },
        {
          "output_type": "stream",
          "name": "stdout",
          "text": [
            "\n",
            "id                                                     174_core_covid\n",
            "filename                                         Core_Covid_case1.mp4\n",
            "filetype                                                          mp4\n",
            "folder                         data\\video\\Coreultrasound\\target_video\n",
            "source                                                 CoreUltrasound\n",
            "url                                       https://vimeo.com/419341838\n",
            "probe                                                          Convex\n",
            "class                                                           COVID\n",
            "class_on_website               COVID-19 Pneumonia, Pulmonary Embolism\n",
            "version                                                           1.3\n",
            "date_added                                                   Apr_2021\n",
            "type                                                             lung\n",
            "patient                                              core_covid_case1\n",
            "case_no                                                             1\n",
            "gender                                                           male\n",
            "age                                                                46\n",
            "comment             A 46-year old healthy male is admitted to the ...\n",
            "paper_link                                                        NaN\n",
            "paper_doi                                                         NaN\n",
            "license                                                           NaN\n",
            "link                                                              NaN\n",
            "Name: 173, dtype: object\n",
            "=== CoreUltrasound video files extraction done! ===\n"
          ]
        }
      ]
    },
    {
      "cell_type": "markdown",
      "metadata": {
        "id": "xnwMrrBEIWo3"
      },
      "source": [
        "## 1.7. UF"
      ]
    },
    {
      "cell_type": "code",
      "metadata": {
        "id": "y4S_ApICIWo3",
        "colab": {
          "base_uri": "https://localhost:8080/"
        },
        "outputId": "c9e4a735-2a1e-420e-e71d-2a3aae9dda2f"
      },
      "source": [
        "paper_df = metadata[(metadata.source == 'Paper') & ((metadata['id'].str.contains('199', na=False)) | (metadata['id'].str.contains('200', na=False)))]\n",
        "\n",
        "progress = ProgressBar(max_value=paper_df.shape[0])\n",
        "for idx, row in progress(paper_df.iterrows()):\n",
        "    filename = row.id + '.' + row.filetype\n",
        "\n",
        "    # write the video file to disk\n",
        "    r = requests.get(row.url, stream=True, headers={'User-agent': 'Mozilla/5.0'})\n",
        "    if r.status_code == 200:\n",
        "        with open(os.path.join('data/video/', filename), 'wb') as f:\n",
        "            r.raw.decode_content = True\n",
        "            shutil.copyfileobj(r.raw, f)\n",
        "\n",
        "    # set a random delay, otherwise the connection gets closed\n",
        "    delay = random.randint(3, 5)\n",
        "    time.sleep(delay)\n",
        "print('=== 2 extra video files downloaded! ===')"
      ],
      "execution_count": null,
      "outputs": [
        {
          "output_type": "stream",
          "name": "stderr",
          "text": [
            "100% (2 of 2) |##########################| Elapsed Time: 0:00:06 Time:  0:00:06\n"
          ]
        },
        {
          "output_type": "stream",
          "name": "stdout",
          "text": [
            "=== 2 extra video files downloaded! ===\n"
          ]
        }
      ]
    },
    {
      "cell_type": "code",
      "metadata": {
        "id": "zeGDSIp4IWo4",
        "colab": {
          "base_uri": "https://localhost:8080/"
        },
        "outputId": "6d6eab38-f601-41f3-fa77-05baeccdc636"
      },
      "source": [
        "print('...Extracting the video files...')\n",
        "uf_df = metadata[metadata.source == 'UF']\n",
        "\n",
        "progress = ProgressBar(max_value=uf_df.shape[0])\n",
        "for idx, row in progress(uf_df.iterrows()):\n",
        "    filename = row.id + '.' + row.filetype\n",
        "\n",
        "    # write the video file to disk\n",
        "    r = requests.get(row.url, stream=True, headers={'User-agent': 'Mozilla/5.0'})\n",
        "    if r.status_code == 200:\n",
        "        with open(os.path.join('data/video/', filename), 'wb') as f:\n",
        "            r.raw.decode_content = True\n",
        "            shutil.copyfileobj(r.raw, f)\n",
        "\n",
        "    # set a random delay, otherwise the connection gets closed\n",
        "    delay = random.randint(3, 5)\n",
        "    time.sleep(delay)\n",
        "print('=== UF video files extraction done! ===')"
      ],
      "execution_count": null,
      "outputs": [
        {
          "output_type": "stream",
          "name": "stderr",
          "text": [
            "\r                                                                               \r\rN/A% (0 of 24) |                         | Elapsed Time: 0:00:00 ETA:  --:--:--"
          ]
        },
        {
          "output_type": "stream",
          "name": "stdout",
          "text": [
            "...Extracting the video files...\n"
          ]
        },
        {
          "output_type": "stream",
          "name": "stderr",
          "text": [
            "100% (24 of 24) |########################| Elapsed Time: 0:01:50 Time:  0:01:50\n"
          ]
        },
        {
          "output_type": "stream",
          "name": "stdout",
          "text": [
            "=== UF video files extraction done! ===\n"
          ]
        }
      ]
    },
    {
      "cell_type": "markdown",
      "metadata": {
        "id": "Gx_fALV3IWo4"
      },
      "source": [
        "## 1.8. Scientific Publications"
      ]
    },
    {
      "cell_type": "code",
      "metadata": {
        "id": "nYjFhuklIWo4",
        "colab": {
          "base_uri": "https://localhost:8080/"
        },
        "outputId": "a8f2e3a4-b21a-43b8-d0db-63a8273933bf"
      },
      "source": [
        "print('...Extracting the video files...')\n",
        "paper_df = metadata[(metadata.source == 'Paper')]\n",
        "\n",
        "progress = ProgressBar(max_value=paper_df.shape[0])\n",
        "for idx, row in progress(paper_df.iterrows()):\n",
        "    filename = row.id + '.' + row.filetype\n",
        "\n",
        "    r = requests.get(row.url, stream=True, headers={'User-agent': 'Mozilla/5.0'})\n",
        "    if r.status_code == 200:\n",
        "        with open(os.path.join('data/video/', filename), 'wb') as f:\n",
        "            r.raw.decode_content = True\n",
        "            shutil.copyfileobj(r.raw, f)\n",
        "\n",
        "    # set a random delay, otherwise the connection gets closed\n",
        "    if (('241_' in row.id) | ('242_' in row.id) | ('243_' in row.id)): #longer delay for last files\n",
        "        delay = random.randint(10, 20)\n",
        "    else:\n",
        "        delay = random.randint(3, 5)\n",
        "    time.sleep(delay)\n",
        "print('=== Video files extraction from papers is done! ===')"
      ],
      "execution_count": null,
      "outputs": [
        {
          "output_type": "stream",
          "name": "stderr",
          "text": [
            "\r                                                                               \r\rN/A% (0 of 22) |                         | Elapsed Time: 0:00:00 ETA:  --:--:--"
          ]
        },
        {
          "output_type": "stream",
          "name": "stdout",
          "text": [
            "...Extracting the video files...\n"
          ]
        },
        {
          "output_type": "stream",
          "name": "stderr",
          "text": [
            "100% (22 of 22) |########################| Elapsed Time: 0:02:06 Time:  0:02:06\n"
          ]
        },
        {
          "output_type": "stream",
          "name": "stdout",
          "text": [
            "=== Video files extraction from papers is done! ===\n"
          ]
        }
      ]
    },
    {
      "cell_type": "markdown",
      "metadata": {
        "id": "xEdizenwIWo4"
      },
      "source": [
        "## 1.9. Clarius\n",
        "* Extracting the first part of Clarius files (**6 files**)"
      ]
    },
    {
      "cell_type": "code",
      "metadata": {
        "id": "FrJ1OELVIWo5",
        "colab": {
          "base_uri": "https://localhost:8080/"
        },
        "outputId": "5fb89486-43d9-4ddf-a517-1b4d0c5f8ff7"
      },
      "source": [
        "print('...Extracting the video files...')\n",
        "clarius_df = metadata[metadata.source == 'Clarius'].iloc[:6, :]\n",
        "\n",
        "progress = ProgressBar(max_value=clarius_df.shape[0])\n",
        "for idx, row in progress(clarius_df.iterrows()):\n",
        "    filename = row.id + '.' + row.filetype\n",
        "\n",
        "    # write the video file to disk\n",
        "    r = requests.get(row.url, stream=True, headers={'User-agent': 'Mozilla/5.0 (Windows NT 6.1; WOW64)'})\n",
        "    if r.status_code == 200:\n",
        "        with open(os.path.join('data/video/', filename), 'wb') as f:\n",
        "            r.raw.decode_content = True\n",
        "            shutil.copyfileobj(r.raw, f)\n",
        "\n",
        "    # set a random delay, otherwise the connection gets closed\n",
        "    delay = random.randint(3, 5)\n",
        "    time.sleep(delay)\n",
        "print('=== Clarius video files extraction done! ===')"
      ],
      "execution_count": null,
      "outputs": [
        {
          "output_type": "stream",
          "name": "stderr",
          "text": [
            "\r                                                                               \r\rN/A% (0 of 6) |                          | Elapsed Time: 0:00:00 ETA:  --:--:--"
          ]
        },
        {
          "output_type": "stream",
          "name": "stdout",
          "text": [
            "...Extracting the video files...\n"
          ]
        },
        {
          "output_type": "stream",
          "name": "stderr",
          "text": [
            "100% (6 of 6) |##########################| Elapsed Time: 0:00:22 Time:  0:00:22\n"
          ]
        },
        {
          "output_type": "stream",
          "name": "stdout",
          "text": [
            "=== Clarius video files extraction done! ===\n"
          ]
        }
      ]
    },
    {
      "cell_type": "markdown",
      "metadata": {
        "id": "LJyTLsI5IWo5"
      },
      "source": [
        "* Extracting the second part of Clarius files (**17 files**)"
      ]
    },
    {
      "cell_type": "code",
      "metadata": {
        "id": "_Y1ub97bIWo5",
        "colab": {
          "base_uri": "https://localhost:8080/"
        },
        "outputId": "f85d8367-289f-4d09-f212-45bf7cff5850"
      },
      "source": [
        "import requests\n",
        "\n",
        "print('Downloading Clarius zip file...')\n",
        "file_id = '1bqsqNzAJYwdriOP9CcGWPzCUB-7G72Ta' # sharable link id\n",
        "zip_file_path = os.path.join(route + 'data/video', 'clarius.zip') # 'C:\\\\Users\\\\Ebadia\\\\Downloads\\\\clarius.zip'\n",
        "download_file_from_google_drive(file_id, zip_file_path)\n",
        "\n",
        "# unzip video files\n",
        "# open_file = subprocess.Popen(\"utils/7z.exe\" +' x ' + zip_file_path + ' -o' + 'data/video',stdout=subprocess.PIPE)\n",
        "\n",
        "# os.rename(zip_file_path, zip_file_path.replace(' ', ''))\n",
        "os.makedirs(route + 'data/video', exist_ok=True)\n",
        "!unzip -uq 'data/video/clarius.zip' -d 'data/video/'\n",
        "time.sleep(5)\n",
        "\n",
        "print('=== Clarius video files extraction done! ===')"
      ],
      "execution_count": null,
      "outputs": [
        {
          "output_type": "stream",
          "name": "stdout",
          "text": [
            "Downloading Clarius zip file...\n"
          ]
        },
        {
          "output_type": "stream",
          "name": "stderr",
          "text": [
            "| |           #                                    | 1774 Elapsed Time: 0:00:01\n"
          ]
        },
        {
          "output_type": "stream",
          "name": "stdout",
          "text": [
            "=== Clarius video files extraction done! ===\n"
          ]
        }
      ]
    },
    {
      "cell_type": "markdown",
      "metadata": {
        "id": "Jj8eVziGIWo5"
      },
      "source": [
        "# 2. Video Preprocessing"
      ]
    },
    {
      "cell_type": "markdown",
      "metadata": {
        "id": "vqehfHFXIWo5"
      },
      "source": [
        "#### Move original video files to the original folder"
      ]
    },
    {
      "cell_type": "code",
      "metadata": {
        "id": "6OpuiFnXIWo6",
        "colab": {
          "base_uri": "https://localhost:8080/"
        },
        "outputId": "8a72d907-5500-406c-e159-189c2cd2442a"
      },
      "source": [
        "source_dir = 'data/video/'\n",
        "target_dir = 'data/video/original'\n",
        "\n",
        "file_names = os.listdir(source_dir)\n",
        "\n",
        "if not os.path.exists('data/video/original'):\n",
        "    os.makedirs('data/video/original')\n",
        "\n",
        "progress = ProgressBar()\n",
        "for file_name in progress(file_names):\n",
        "    shutil.move(os.path.join(source_dir, file_name), target_dir)"
      ],
      "execution_count": null,
      "outputs": [
        {
          "output_type": "stream",
          "name": "stderr",
          "text": [
            "100% (244 of 244) |######################| Elapsed Time: 0:00:01 Time:  0:00:01\n"
          ]
        }
      ]
    },
    {
      "cell_type": "markdown",
      "metadata": {
        "id": "7T4ptNlFIWo6"
      },
      "source": [
        "## 2.1. Fetching Video Files Properties ***(original 폴더 안에 zip 파일 있으면 삭제하고 진행)***"
      ]
    },
    {
      "cell_type": "code",
      "metadata": {
        "id": "pPpyIvI3IWo6",
        "colab": {
          "base_uri": "https://localhost:8080/"
        },
        "outputId": "92b27760-6612-4c1c-a9cd-8f7eb0cfa91e"
      },
      "source": [
        "VIDEO_PATH_ORG = 'data/video/original/'\n",
        "\n",
        "vid_files = os.listdir(VIDEO_PATH_ORG)\n",
        "\n",
        "progress = ProgressBar(max_value=metadata.shape[0])\n",
        "with open('utils/video_files_properties.csv', 'w') as f:\n",
        "    # write the file header\n",
        "    f.write('filename,framerate,width,height,frame_count,duration_secs\\n')\n",
        "\n",
        "    # loop over the video files and get their properties\n",
        "    for vid in progress(vid_files):\n",
        "        vid_filename = VIDEO_PATH_ORG + str(vid)\n",
        "        file_type = vid.split('.')[-1]\n",
        "\n",
        "        # get video file properties\n",
        "        cv2video = cv2.VideoCapture(vid_filename)\n",
        "        height = cv2video.get(cv2.CAP_PROP_FRAME_HEIGHT)\n",
        "        width  = cv2video.get(cv2.CAP_PROP_FRAME_WIDTH)\n",
        "        frame_rate = round(cv2video.get(cv2.CAP_PROP_FPS), 2)\n",
        "\n",
        "        if file_type == 'mp4':\n",
        "            frame_count = cv2video.get(cv2.CAP_PROP_FRAME_COUNT)\n",
        "            duration = round((frame_count / frame_rate), 2)\n",
        "        elif file_type == 'gif':\n",
        "            frame_count = round(Image.open(vid_filename).n_frames) #round((duration * frame_rate ), 0)\n",
        "            duration = round((frame_count / frame_rate), 2)\n",
        "\n",
        "        # write video properties to the file\n",
        "        line_to_write = str(vid) + ',' + str(frame_rate) + ',' + str(width) + ',' + str(height) + ',' + str(frame_count) + ',' + str(duration) + '\\n'\n",
        "        f.write(line_to_write)"
      ],
      "execution_count": null,
      "outputs": [
        {
          "output_type": "stream",
          "name": "stderr",
          "text": [
            "100% (242 of 242) |######################| Elapsed Time: 0:00:02 Time:  0:00:02\n"
          ]
        }
      ]
    },
    {
      "cell_type": "markdown",
      "metadata": {
        "id": "11y6po26IWo6"
      },
      "source": [
        "## 2.2. Video Preprocessing"
      ]
    },
    {
      "cell_type": "code",
      "metadata": {
        "id": "3oINF-UBIWo6"
      },
      "source": [
        "VIDEO_CROPPED_OUT = 'data/video/cropped/' #processed/cropped/'\n",
        "\n",
        "# create processed and cropped folder if they don't already exist\n",
        "if not os.path.exists('data/video/cropped'): #processed/cropped'):\n",
        "    os.makedirs('data/video/cropped') #processed/cropped')"
      ],
      "execution_count": null,
      "outputs": []
    },
    {
      "cell_type": "markdown",
      "metadata": {
        "id": "7SSaPCzgIWo7"
      },
      "source": [
        "### 2.2.1. Inital Cropping"
      ]
    },
    {
      "cell_type": "code",
      "metadata": {
        "id": "TJ3edhYnIWo7",
        "colab": {
          "base_uri": "https://localhost:8080/",
          "height": 237
        },
        "outputId": "83afe9f3-4107-47ac-b9c9-7ea1c56a4105"
      },
      "source": [
        "# read cropping metadata file\n",
        "vid_crp_metadata = pd.read_csv('utils/video_cropping_metadata.csv', sep=',', encoding='latin1')\n",
        "print(vid_crp_metadata.shape)\n",
        "vid_crp_metadata.head(5)"
      ],
      "execution_count": null,
      "outputs": [
        {
          "output_type": "stream",
          "name": "stdout",
          "text": [
            "(243, 27)\n"
          ]
        },
        {
          "output_type": "execute_result",
          "data": {
            "text/html": [
              "<div>\n",
              "<style scoped>\n",
              "    .dataframe tbody tr th:only-of-type {\n",
              "        vertical-align: middle;\n",
              "    }\n",
              "\n",
              "    .dataframe tbody tr th {\n",
              "        vertical-align: top;\n",
              "    }\n",
              "\n",
              "    .dataframe thead th {\n",
              "        text-align: right;\n",
              "    }\n",
              "</style>\n",
              "<table border=\"1\" class=\"dataframe\">\n",
              "  <thead>\n",
              "    <tr style=\"text-align: right;\">\n",
              "      <th></th>\n",
              "      <th>filename</th>\n",
              "      <th>source</th>\n",
              "      <th>probe</th>\n",
              "      <th>class</th>\n",
              "      <th>org_width</th>\n",
              "      <th>org_height</th>\n",
              "      <th>org_framecount</th>\n",
              "      <th>org_framerate</th>\n",
              "      <th>org_duration</th>\n",
              "      <th>green_dot</th>\n",
              "      <th>top_left_symbol</th>\n",
              "      <th>red_symbol</th>\n",
              "      <th>white_arrow</th>\n",
              "      <th>text</th>\n",
              "      <th>meter</th>\n",
              "      <th>sound</th>\n",
              "      <th>extra_end_part</th>\n",
              "      <th>del_upper</th>\n",
              "      <th>width_rate</th>\n",
              "      <th>x1_w_y1_h</th>\n",
              "      <th>cropped_filename</th>\n",
              "      <th>crp_width</th>\n",
              "      <th>crp_height</th>\n",
              "      <th>version</th>\n",
              "      <th>date_added</th>\n",
              "      <th>multiple_videos</th>\n",
              "      <th>Note</th>\n",
              "    </tr>\n",
              "  </thead>\n",
              "  <tbody>\n",
              "    <tr>\n",
              "      <th>0</th>\n",
              "      <td>1_butterfly_covid.mp4</td>\n",
              "      <td>Butterfly</td>\n",
              "      <td>Convex</td>\n",
              "      <td>COVID</td>\n",
              "      <td>880</td>\n",
              "      <td>1080</td>\n",
              "      <td>65</td>\n",
              "      <td>19.57</td>\n",
              "      <td>3.32</td>\n",
              "      <td>no</td>\n",
              "      <td>yes</td>\n",
              "      <td>no</td>\n",
              "      <td>no</td>\n",
              "      <td>yes</td>\n",
              "      <td>yes</td>\n",
              "      <td>no</td>\n",
              "      <td>no</td>\n",
              "      <td>15.0</td>\n",
              "      <td>0.035</td>\n",
              "      <td>NaN</td>\n",
              "      <td>1_butterfly_covid_prc.avi</td>\n",
              "      <td>820.0</td>\n",
              "      <td>820.0</td>\n",
              "      <td>1.0</td>\n",
              "      <td>Nov_2020</td>\n",
              "      <td>NaN</td>\n",
              "      <td>NaN</td>\n",
              "    </tr>\n",
              "    <tr>\n",
              "      <th>1</th>\n",
              "      <td>2_butterfly_covid.mp4</td>\n",
              "      <td>Butterfly</td>\n",
              "      <td>Convex</td>\n",
              "      <td>COVID</td>\n",
              "      <td>720</td>\n",
              "      <td>1236</td>\n",
              "      <td>818</td>\n",
              "      <td>30.00</td>\n",
              "      <td>27.27</td>\n",
              "      <td>yes</td>\n",
              "      <td>yes</td>\n",
              "      <td>no</td>\n",
              "      <td>no</td>\n",
              "      <td>yes</td>\n",
              "      <td>yes</td>\n",
              "      <td>yes</td>\n",
              "      <td>no</td>\n",
              "      <td>83.0</td>\n",
              "      <td>0.068</td>\n",
              "      <td>NaN</td>\n",
              "      <td>2_butterfly_covid_prc.avi</td>\n",
              "      <td>624.0</td>\n",
              "      <td>624.0</td>\n",
              "      <td>1.0</td>\n",
              "      <td>Nov_2020</td>\n",
              "      <td>NaN</td>\n",
              "      <td>NaN</td>\n",
              "    </tr>\n",
              "    <tr>\n",
              "      <th>2</th>\n",
              "      <td>3_butterfly_covid.mp4</td>\n",
              "      <td>Butterfly</td>\n",
              "      <td>Convex</td>\n",
              "      <td>COVID</td>\n",
              "      <td>1928</td>\n",
              "      <td>1080</td>\n",
              "      <td>91</td>\n",
              "      <td>19.21</td>\n",
              "      <td>4.74</td>\n",
              "      <td>no</td>\n",
              "      <td>yes</td>\n",
              "      <td>no</td>\n",
              "      <td>no</td>\n",
              "      <td>yes</td>\n",
              "      <td>yes</td>\n",
              "      <td>no</td>\n",
              "      <td>no</td>\n",
              "      <td>25.0</td>\n",
              "      <td>0.000</td>\n",
              "      <td>NaN</td>\n",
              "      <td>3_butterfly_covid_prc.avi</td>\n",
              "      <td>1055.0</td>\n",
              "      <td>1055.0</td>\n",
              "      <td>1.0</td>\n",
              "      <td>Nov_2020</td>\n",
              "      <td>NaN</td>\n",
              "      <td>NaN</td>\n",
              "    </tr>\n",
              "    <tr>\n",
              "      <th>3</th>\n",
              "      <td>4_butterfly_covid.mp4</td>\n",
              "      <td>Butterfly</td>\n",
              "      <td>Convex</td>\n",
              "      <td>COVID</td>\n",
              "      <td>880</td>\n",
              "      <td>1080</td>\n",
              "      <td>109</td>\n",
              "      <td>21.30</td>\n",
              "      <td>5.12</td>\n",
              "      <td>no</td>\n",
              "      <td>yes</td>\n",
              "      <td>no</td>\n",
              "      <td>no</td>\n",
              "      <td>yes</td>\n",
              "      <td>yes</td>\n",
              "      <td>no</td>\n",
              "      <td>no</td>\n",
              "      <td>15.0</td>\n",
              "      <td>0.035</td>\n",
              "      <td>NaN</td>\n",
              "      <td>4_butterfly_covid_prc.avi</td>\n",
              "      <td>820.0</td>\n",
              "      <td>820.0</td>\n",
              "      <td>1.0</td>\n",
              "      <td>Nov_2020</td>\n",
              "      <td>NaN</td>\n",
              "      <td>NaN</td>\n",
              "    </tr>\n",
              "    <tr>\n",
              "      <th>4</th>\n",
              "      <td>5_butterfly_covid.mp4</td>\n",
              "      <td>Butterfly</td>\n",
              "      <td>Convex</td>\n",
              "      <td>COVID</td>\n",
              "      <td>860</td>\n",
              "      <td>1080</td>\n",
              "      <td>249</td>\n",
              "      <td>30.00</td>\n",
              "      <td>8.30</td>\n",
              "      <td>no</td>\n",
              "      <td>yes</td>\n",
              "      <td>no</td>\n",
              "      <td>no</td>\n",
              "      <td>yes</td>\n",
              "      <td>yes</td>\n",
              "      <td>no</td>\n",
              "      <td>no</td>\n",
              "      <td>16.0</td>\n",
              "      <td>0.030</td>\n",
              "      <td>NaN</td>\n",
              "      <td>5_butterfly_covid_prc.avi</td>\n",
              "      <td>810.0</td>\n",
              "      <td>810.0</td>\n",
              "      <td>1.0</td>\n",
              "      <td>Nov_2020</td>\n",
              "      <td>NaN</td>\n",
              "      <td>NaN</td>\n",
              "    </tr>\n",
              "  </tbody>\n",
              "</table>\n",
              "</div>"
            ],
            "text/plain": [
              "                filename     source   probe  ... date_added  multiple_videos  Note\n",
              "0  1_butterfly_covid.mp4  Butterfly  Convex  ...   Nov_2020              NaN   NaN\n",
              "1  2_butterfly_covid.mp4  Butterfly  Convex  ...   Nov_2020              NaN   NaN\n",
              "2  3_butterfly_covid.mp4  Butterfly  Convex  ...   Nov_2020              NaN   NaN\n",
              "3  4_butterfly_covid.mp4  Butterfly  Convex  ...   Nov_2020              NaN   NaN\n",
              "4  5_butterfly_covid.mp4  Butterfly  Convex  ...   Nov_2020              NaN   NaN\n",
              "\n",
              "[5 rows x 27 columns]"
            ]
          },
          "metadata": {},
          "execution_count": 63
        }
      ]
    },
    {
      "cell_type": "code",
      "metadata": {
        "id": "jMG1nTxVIWo7",
        "colab": {
          "base_uri": "https://localhost:8080/"
        },
        "outputId": "f0c6a5f7-4a3e-4f47-8abb-98734060d30d"
      },
      "source": [
        "progress = ProgressBar(max_value=vid_crp_metadata.shape[0])\n",
        "\n",
        "for idx, row in progress(vid_crp_metadata.iterrows()):\n",
        "    vid_arr = []  # array to store frames of a video file\n",
        "\n",
        "    filename = row.filename\n",
        "    file_label = filename.split('_')[-1].split('.')[0] # label of the video file\n",
        "\n",
        "    # the following file was removed in the new release of butterfly data\n",
        "    if filename == '22_butterfly_covid.mp4':\n",
        "        continue\n",
        "\n",
        "    cap = cv2.VideoCapture(os.path.join(VIDEO_PATH_ORG, filename))\n",
        "    width = int(cap.get(cv2.CAP_PROP_FRAME_WIDTH) + 0.5)\n",
        "    height = int(cap.get(cv2.CAP_PROP_FRAME_HEIGHT) + 0.5)\n",
        "    dim = (width, height) # dimension of the original file\n",
        "\n",
        "    if pd.isna(row.x1_w_y1_h): # square cropping\n",
        "        DEL_UPPER = int(row.del_upper) # to remove top\n",
        "        WIDTH_RATE = float(row.width_rate) # to remove sides e.g. the meter\n",
        "\n",
        "        width_border = int(width * WIDTH_RATE)\n",
        "        width_box = int(width - (2 * width_border))\n",
        "        if width_box + DEL_UPPER > height:\n",
        "            width_box = int(height - DEL_UPPER)\n",
        "            width_border = int( (width / 2) - (width_box / 2))\n",
        "\n",
        "        while(True):\n",
        "            ret, frame = cap.read()\n",
        "\n",
        "            if not ret:\n",
        "                break\n",
        "\n",
        "            # crop\n",
        "            frame = frame[DEL_UPPER:width_box + DEL_UPPER, width_border:width_box + width_border]\n",
        "\n",
        "            frame = np.asarray(frame).astype(np.uint8)\n",
        "            vid_arr.append(frame)\n",
        "\n",
        "    else: # crop using (x1,y1) and (x2, y2). The output will not be necessarily a square file\n",
        "        X1 = int(row.x1_w_y1_h.split(',')[0].replace('(', ''))\n",
        "        W = int(row.x1_w_y1_h.split(',')[1].strip())\n",
        "        Y1 = int(row.x1_w_y1_h.split(',')[2].strip())\n",
        "        H = int(row.x1_w_y1_h.split(',')[3].replace(')', '').strip())\n",
        "\n",
        "        while(True):\n",
        "            ret, frame = cap.read()\n",
        "\n",
        "            if not ret:\n",
        "                break\n",
        "\n",
        "            # crop\n",
        "            frame = frame[Y1:Y1 + H, X1:X1 + W]\n",
        "\n",
        "            frame = np.asarray(frame).astype(np.uint8)\n",
        "            vid_arr.append(frame)\n",
        "\n",
        "    vid_arr = np.asarray(vid_arr)\n",
        "    prc_dim = vid_arr.shape[1:3] # dimension of the cropped file\n",
        "    prc_dim = (prc_dim[1], prc_dim[0])\n",
        "\n",
        "    fourcc = cv2.VideoWriter_fourcc(*'XVID')\n",
        "    out = cv2.VideoWriter(os.path.join(VIDEO_CROPPED_OUT + filename.split('.')[0] + '_prc.avi'), fourcc, 20.0, tuple(prc_dim))\n",
        "\n",
        "    for frame in vid_arr:\n",
        "        out.write(frame.astype(\"uint8\"))\n",
        "\n",
        "    vid_crp_metadata.iloc[idx, vid_crp_metadata.columns.get_loc('crp_width')] = prc_dim[1]\n",
        "    vid_crp_metadata.iloc[idx, vid_crp_metadata.columns.get_loc('crp_height')] = prc_dim[0]\n",
        "\n",
        "    cap.release()\n",
        "    out.release()\n",
        "    cv2.destroyAllWindows()\n",
        "\n",
        "vid_crp_metadata.to_csv('utils/video_cropping_metadata.csv', index=None)\n",
        "\n",
        "print('Initial cropping done...')"
      ],
      "execution_count": null,
      "outputs": [
        {
          "output_type": "stream",
          "name": "stderr",
          "text": [
            "100% (243 of 243) |######################| Elapsed Time: 0:04:38 Time:  0:04:38\n"
          ]
        },
        {
          "output_type": "stream",
          "name": "stdout",
          "text": [
            "Initial cropping done...\n"
          ]
        }
      ]
    },
    {
      "cell_type": "markdown",
      "metadata": {
        "id": "6IKkQC8nIWo7"
      },
      "source": [
        "# 3. Extract Ultrasound Images from Videos"
      ]
    },
    {
      "cell_type": "markdown",
      "metadata": {
        "id": "P0uCtQDQIWo8"
      },
      "source": [
        "#### Read video properties"
      ]
    },
    {
      "cell_type": "code",
      "metadata": {
        "id": "zA8FLPScIWo8",
        "colab": {
          "base_uri": "https://localhost:8080/",
          "height": 217
        },
        "outputId": "c82e0eff-80a0-409f-cce8-7539b303b442"
      },
      "source": [
        "vid_prop_df = pd.read_csv('utils/video_files_properties.csv')\n",
        "\n",
        "# merge with the video meta data file\n",
        "vid_prop_df.filename = vid_prop_df.filename.astype(str)\n",
        "vid_prop_df.filename = vid_prop_df.filename.str.strip()\n",
        "\n",
        "metadata['filename2'] = metadata.id + '.' + metadata.filetype\n",
        "metadata.filename2 = metadata.filename2.astype(str)\n",
        "metadata.filename2 = metadata.filename2.str.strip()\n",
        "\n",
        "vid_prop_df = pd.merge(vid_prop_df, metadata[['filename2', 'source', 'probe', 'class']], left_on='filename', right_on='filename2', how='left').drop('filename2', axis=1)\n",
        "\n",
        "del metadata['filename2']\n",
        "print(vid_prop_df.shape)\n",
        "vid_prop_df.head(5)"
      ],
      "execution_count": null,
      "outputs": [
        {
          "output_type": "stream",
          "name": "stdout",
          "text": [
            "(242, 9)\n"
          ]
        },
        {
          "output_type": "execute_result",
          "data": {
            "text/html": [
              "<div>\n",
              "<style scoped>\n",
              "    .dataframe tbody tr th:only-of-type {\n",
              "        vertical-align: middle;\n",
              "    }\n",
              "\n",
              "    .dataframe tbody tr th {\n",
              "        vertical-align: top;\n",
              "    }\n",
              "\n",
              "    .dataframe thead th {\n",
              "        text-align: right;\n",
              "    }\n",
              "</style>\n",
              "<table border=\"1\" class=\"dataframe\">\n",
              "  <thead>\n",
              "    <tr style=\"text-align: right;\">\n",
              "      <th></th>\n",
              "      <th>filename</th>\n",
              "      <th>framerate</th>\n",
              "      <th>width</th>\n",
              "      <th>height</th>\n",
              "      <th>frame_count</th>\n",
              "      <th>duration_secs</th>\n",
              "      <th>source</th>\n",
              "      <th>probe</th>\n",
              "      <th>class</th>\n",
              "    </tr>\n",
              "  </thead>\n",
              "  <tbody>\n",
              "    <tr>\n",
              "      <th>0</th>\n",
              "      <td>23_grepmed_pneumonia.mp4</td>\n",
              "      <td>25.00</td>\n",
              "      <td>816.0</td>\n",
              "      <td>540.0</td>\n",
              "      <td>252.0</td>\n",
              "      <td>10.08</td>\n",
              "      <td>GrepMed</td>\n",
              "      <td>Linear</td>\n",
              "      <td>Pneumonia</td>\n",
              "    </tr>\n",
              "    <tr>\n",
              "      <th>1</th>\n",
              "      <td>24_grepmed_covid.mp4</td>\n",
              "      <td>21.71</td>\n",
              "      <td>960.0</td>\n",
              "      <td>720.0</td>\n",
              "      <td>225.0</td>\n",
              "      <td>10.36</td>\n",
              "      <td>GrepMed</td>\n",
              "      <td>Convex</td>\n",
              "      <td>COVID</td>\n",
              "    </tr>\n",
              "    <tr>\n",
              "      <th>2</th>\n",
              "      <td>25_grepmed_pneumonia.mp4</td>\n",
              "      <td>30.00</td>\n",
              "      <td>1280.0</td>\n",
              "      <td>720.0</td>\n",
              "      <td>418.0</td>\n",
              "      <td>13.93</td>\n",
              "      <td>GrepMed</td>\n",
              "      <td>Convex</td>\n",
              "      <td>Pneumonia</td>\n",
              "    </tr>\n",
              "    <tr>\n",
              "      <th>3</th>\n",
              "      <td>26_grepmed_covid.mp4</td>\n",
              "      <td>20.90</td>\n",
              "      <td>720.0</td>\n",
              "      <td>720.0</td>\n",
              "      <td>70.0</td>\n",
              "      <td>3.35</td>\n",
              "      <td>GrepMed</td>\n",
              "      <td>Convex</td>\n",
              "      <td>COVID</td>\n",
              "    </tr>\n",
              "    <tr>\n",
              "      <th>4</th>\n",
              "      <td>27_grepmed_pneumonia.mp4</td>\n",
              "      <td>15.19</td>\n",
              "      <td>480.0</td>\n",
              "      <td>360.0</td>\n",
              "      <td>91.0</td>\n",
              "      <td>5.99</td>\n",
              "      <td>GrepMed</td>\n",
              "      <td>Convex</td>\n",
              "      <td>Pneumonia</td>\n",
              "    </tr>\n",
              "  </tbody>\n",
              "</table>\n",
              "</div>"
            ],
            "text/plain": [
              "                   filename  framerate   width  ...   source   probe      class\n",
              "0  23_grepmed_pneumonia.mp4      25.00   816.0  ...  GrepMed  Linear  Pneumonia\n",
              "1      24_grepmed_covid.mp4      21.71   960.0  ...  GrepMed  Convex      COVID\n",
              "2  25_grepmed_pneumonia.mp4      30.00  1280.0  ...  GrepMed  Convex  Pneumonia\n",
              "3      26_grepmed_covid.mp4      20.90   720.0  ...  GrepMed  Convex      COVID\n",
              "4  27_grepmed_pneumonia.mp4      15.19   480.0  ...  GrepMed  Convex  Pneumonia\n",
              "\n",
              "[5 rows x 9 columns]"
            ]
          },
          "metadata": {},
          "execution_count": 65
        }
      ]
    },
    {
      "cell_type": "markdown",
      "metadata": {
        "id": "zINOfvBYIWo8"
      },
      "source": [
        "#### Extract frames from original videos\n",
        "* v1.4.: 32,052 images are extracted\n",
        "* v1.3.: 19,161 images are extracted\n",
        "* v1.2.: 15,282 images are extracted"
      ]
    },
    {
      "cell_type": "code",
      "metadata": {
        "id": "1NfgsXbvIWo8"
      },
      "source": [
        "IMAGE_PATH_ORG = 'data/image/original/'\n",
        "\n",
        "# create a folder for images extracted from original videos, if doesn't exist\n",
        "if not os.path.exists(IMAGE_PATH_ORG):\n",
        "    os.makedirs(IMAGE_PATH_ORG)"
      ],
      "execution_count": null,
      "outputs": []
    },
    {
      "cell_type": "code",
      "metadata": {
        "id": "hxt2RWoqIWo8",
        "colab": {
          "base_uri": "https://localhost:8080/"
        },
        "outputId": "4a1e7b48-eb2b-4aa2-9bb1-df3d7c188492"
      },
      "source": [
        "extract_images(video_path= VIDEO_PATH_ORG, image_path=IMAGE_PATH_ORG, cropped=False)"
      ],
      "execution_count": null,
      "outputs": [
        {
          "output_type": "stream",
          "name": "stderr",
          "text": [
            "100% (242 of 242) |######################| Elapsed Time: 0:14:49 Time:  0:14:49\n"
          ]
        }
      ]
    },
    {
      "cell_type": "markdown",
      "metadata": {
        "id": "sy63kv62IWo8"
      },
      "source": [
        "## 3.1. Extract frames from cropped video files"
      ]
    },
    {
      "cell_type": "code",
      "metadata": {
        "id": "h9dhdb-tIWo9"
      },
      "source": [
        "IMAGE_CROPPED_OUT = 'data/image/cropped/'\n",
        "IMAGE_MASK_OUT = 'data/mask/'\n",
        "\n",
        "# create cropped and inpainted image folders and the mask folder if they don't already exist\n",
        "if not os.path.exists(IMAGE_CROPPED_OUT):\n",
        "    os.makedirs(IMAGE_CROPPED_OUT)\n",
        "if not os.path.exists(IMAGE_MASK_OUT):\n",
        "    os.makedirs(IMAGE_MASK_OUT)"
      ],
      "execution_count": null,
      "outputs": []
    },
    {
      "cell_type": "code",
      "metadata": {
        "id": "O5cgeOpNIWo9",
        "colab": {
          "base_uri": "https://localhost:8080/"
        },
        "outputId": "9e31a93c-895f-4b86-f86b-c5a821ec5a94"
      },
      "source": [
        "extract_images(video_path= VIDEO_CROPPED_OUT, image_path=IMAGE_CROPPED_OUT, cropped=True)"
      ],
      "execution_count": null,
      "outputs": [
        {
          "output_type": "stream",
          "name": "stderr",
          "text": [
            "100% (243 of 243) |######################| Elapsed Time: 0:20:22 Time:  0:20:22\n"
          ]
        }
      ]
    },
    {
      "cell_type": "markdown",
      "metadata": {
        "id": "YSD-JEOfIWo9"
      },
      "source": [
        "### 3.1.1. (Optional) Extracting frames from cropped ultrasound video files using a parameter set as filter\n",
        "* You can extract images using the follwoing parameters:\n",
        "    * maximum number of frames to be extracted from each video file\n",
        "    * extracting a targetted set of classes from ['COVID', 'Pneumonia', 'Normal', 'Other']\n",
        "    * extracting a targetted set of data sources from ['Butterfly', 'GrepMed', 'LITFL', 'PocusAtlas', 'CU', 'Radiopaedia', 'UF', 'Paper', 'Clarius']\n",
        "    * extracting a targetted set of probes from ['convex', 'linear']"
      ]
    },
    {
      "cell_type": "code",
      "metadata": {
        "id": "3PHCFJKoIWo9"
      },
      "source": [
        "#extract_images(video_path= VIDEO_CROPPED_OUT, image_path=IMAGE_CROPPED_OUT, cropped=True,\n",
        "#                max_frames=10,\n",
        "#                target_class=['COVID', 'Pneumonia', 'Normal'],\n",
        "#                target_source=['Butterfly', 'GrepMed', 'LITFL', 'PocusAtlas'],\n",
        "#                target_probe=['convex', 'linear']))"
      ],
      "execution_count": null,
      "outputs": []
    },
    {
      "cell_type": "markdown",
      "metadata": {
        "id": "D4mzxOQYIWo9"
      },
      "source": [
        "## 3.2. Preprocessing Images"
      ]
    },
    {
      "cell_type": "markdown",
      "metadata": {
        "id": "TODD-5aTIWo-"
      },
      "source": [
        "#### Read image preprocessing metadata"
      ]
    },
    {
      "cell_type": "code",
      "metadata": {
        "id": "4tvliooHIWo-",
        "colab": {
          "base_uri": "https://localhost:8080/",
          "height": 254
        },
        "outputId": "34b6fdf4-33c1-4d9f-f990-5d75138c0bfe"
      },
      "source": [
        "image_prc_df = pd.read_csv('utils/mask_metadata.csv')\n",
        "\n",
        "image_prc_df = image_prc_df[image_prc_df.filename !='22_butterfly_covid.mp4'] # 22_butterfly_covid.mp4 was removed in March release of butterfly\n",
        "\n",
        "print(image_prc_df.shape)\n",
        "image_prc_df.head(5)"
      ],
      "execution_count": null,
      "outputs": [
        {
          "output_type": "stream",
          "name": "stdout",
          "text": [
            "(242, 17)\n"
          ]
        },
        {
          "output_type": "execute_result",
          "data": {
            "text/html": [
              "<div>\n",
              "<style scoped>\n",
              "    .dataframe tbody tr th:only-of-type {\n",
              "        vertical-align: middle;\n",
              "    }\n",
              "\n",
              "    .dataframe tbody tr th {\n",
              "        vertical-align: top;\n",
              "    }\n",
              "\n",
              "    .dataframe thead th {\n",
              "        text-align: right;\n",
              "    }\n",
              "</style>\n",
              "<table border=\"1\" class=\"dataframe\">\n",
              "  <thead>\n",
              "    <tr style=\"text-align: right;\">\n",
              "      <th></th>\n",
              "      <th>filename</th>\n",
              "      <th>source</th>\n",
              "      <th>probe</th>\n",
              "      <th>class</th>\n",
              "      <th>org_width</th>\n",
              "      <th>org_height</th>\n",
              "      <th>cropped_filename</th>\n",
              "      <th>crp_width</th>\n",
              "      <th>crp_height</th>\n",
              "      <th>need_mask_after_crop</th>\n",
              "      <th>need_multiple_masks</th>\n",
              "      <th>frame_specific_masks</th>\n",
              "      <th>delete_frames_from_to</th>\n",
              "      <th>mask_main_filename</th>\n",
              "      <th>tight_inpainting</th>\n",
              "      <th>version</th>\n",
              "      <th>date_added</th>\n",
              "    </tr>\n",
              "  </thead>\n",
              "  <tbody>\n",
              "    <tr>\n",
              "      <th>0</th>\n",
              "      <td>1_butterfly_covid.mp4</td>\n",
              "      <td>Butterfly</td>\n",
              "      <td>Convex</td>\n",
              "      <td>COVID</td>\n",
              "      <td>880</td>\n",
              "      <td>1080</td>\n",
              "      <td>1_butterfly_covid_prc.avi</td>\n",
              "      <td>820</td>\n",
              "      <td>820</td>\n",
              "      <td>yes</td>\n",
              "      <td>no</td>\n",
              "      <td>NaN</td>\n",
              "      <td>NaN</td>\n",
              "      <td>1_butterfly_covid_prc_convex_frame0_mask.jpg</td>\n",
              "      <td>no</td>\n",
              "      <td>1.0</td>\n",
              "      <td>Nov_2020</td>\n",
              "    </tr>\n",
              "    <tr>\n",
              "      <th>1</th>\n",
              "      <td>2_butterfly_covid.mp4</td>\n",
              "      <td>Butterfly</td>\n",
              "      <td>Convex</td>\n",
              "      <td>COVID</td>\n",
              "      <td>720</td>\n",
              "      <td>1236</td>\n",
              "      <td>2_butterfly_covid_prc.avi</td>\n",
              "      <td>624</td>\n",
              "      <td>624</td>\n",
              "      <td>yes</td>\n",
              "      <td>yes</td>\n",
              "      <td>118-130, 134-139, 147-150</td>\n",
              "      <td>131-133, 143-146, 154-202, 210-813</td>\n",
              "      <td>2_butterfly_covid_prc_convex_frame0_mask.jpg</td>\n",
              "      <td>no</td>\n",
              "      <td>1.0</td>\n",
              "      <td>Nov_2020</td>\n",
              "    </tr>\n",
              "    <tr>\n",
              "      <th>2</th>\n",
              "      <td>3_butterfly_covid.mp4</td>\n",
              "      <td>Butterfly</td>\n",
              "      <td>Convex</td>\n",
              "      <td>COVID</td>\n",
              "      <td>1928</td>\n",
              "      <td>1080</td>\n",
              "      <td>3_butterfly_covid_prc.avi</td>\n",
              "      <td>1055</td>\n",
              "      <td>1055</td>\n",
              "      <td>yes</td>\n",
              "      <td>no</td>\n",
              "      <td>NaN</td>\n",
              "      <td>NaN</td>\n",
              "      <td>3_butterfly_covid_prc_convex_frame0_mask.jpg</td>\n",
              "      <td>no</td>\n",
              "      <td>1.0</td>\n",
              "      <td>Nov_2020</td>\n",
              "    </tr>\n",
              "    <tr>\n",
              "      <th>3</th>\n",
              "      <td>4_butterfly_covid.mp4</td>\n",
              "      <td>Butterfly</td>\n",
              "      <td>Convex</td>\n",
              "      <td>COVID</td>\n",
              "      <td>880</td>\n",
              "      <td>1080</td>\n",
              "      <td>4_butterfly_covid_prc.avi</td>\n",
              "      <td>820</td>\n",
              "      <td>820</td>\n",
              "      <td>yes</td>\n",
              "      <td>no</td>\n",
              "      <td>NaN</td>\n",
              "      <td>NaN</td>\n",
              "      <td>4_butterfly_covid_prc_convex_frame0_mask.jpg</td>\n",
              "      <td>no</td>\n",
              "      <td>1.0</td>\n",
              "      <td>Nov_2020</td>\n",
              "    </tr>\n",
              "    <tr>\n",
              "      <th>4</th>\n",
              "      <td>5_butterfly_covid.mp4</td>\n",
              "      <td>Butterfly</td>\n",
              "      <td>Convex</td>\n",
              "      <td>COVID</td>\n",
              "      <td>860</td>\n",
              "      <td>1080</td>\n",
              "      <td>5_butterfly_covid_prc.avi</td>\n",
              "      <td>810</td>\n",
              "      <td>810</td>\n",
              "      <td>yes</td>\n",
              "      <td>no</td>\n",
              "      <td>NaN</td>\n",
              "      <td>NaN</td>\n",
              "      <td>5_butterfly_covid_prc_convex_frame0_mask.jpg</td>\n",
              "      <td>no</td>\n",
              "      <td>1.0</td>\n",
              "      <td>Nov_2020</td>\n",
              "    </tr>\n",
              "  </tbody>\n",
              "</table>\n",
              "</div>"
            ],
            "text/plain": [
              "                filename     source  ... version date_added\n",
              "0  1_butterfly_covid.mp4  Butterfly  ...     1.0   Nov_2020\n",
              "1  2_butterfly_covid.mp4  Butterfly  ...     1.0   Nov_2020\n",
              "2  3_butterfly_covid.mp4  Butterfly  ...     1.0   Nov_2020\n",
              "3  4_butterfly_covid.mp4  Butterfly  ...     1.0   Nov_2020\n",
              "4  5_butterfly_covid.mp4  Butterfly  ...     1.0   Nov_2020\n",
              "\n",
              "[5 rows x 17 columns]"
            ]
          },
          "metadata": {},
          "execution_count": 70
        }
      ]
    },
    {
      "cell_type": "markdown",
      "metadata": {
        "id": "-DDZLkTXIWo-"
      },
      "source": [
        "### 3.2.1. Removing frames with artifacts on the ROI\n",
        "Some frames of the following files need to be deleted as the moving pointer is on ROI, we will remove them from the cropped images folder:\n",
        "* 2_butterfly_covid.mp4\n",
        "* 6_butterfly_covid.mp4\n",
        "* 16_butterfly_covid.mp4\n",
        "* 20_butterfly_normal.mp4\n",
        "* 22_butterfly_covid.mp4 (it was removed in the March release of butterfly data)\n",
        "* 25_grepmed_pneumonia.mp4\n",
        "* 178_uf_other.mp4 (initial 30 frames are removed)\n",
        "* 184_uf_pneumonia.mp4 (initial 30 frames are removed)\n",
        "\n",
        "We need 2 masks for the following videos:\n",
        "* 178_uf_other.mp4\n",
        "* 184_uf_pneumonia.mp4\n",
        "\n",
        "**Number of frames:**\n",
        "* __Initial total number of frames:__\n",
        "    * v1.4.: 32,052\n",
        "    * v1.3.: 19,161\n",
        "    * v1.2.: 13,646\n",
        "* __Total number of frames after removal:__\n",
        "    * v1.4.: 29,651\n",
        "    * v1.3.: 16,822\n",
        "    * v1.2.: 11,307"
      ]
    },
    {
      "cell_type": "code",
      "metadata": {
        "id": "h1iF47MGIWo-",
        "colab": {
          "base_uri": "https://localhost:8080/"
        },
        "outputId": "f7f1a3be-a570-43b1-c77b-51db5e019d70"
      },
      "source": [
        "progress = ProgressBar(max_value=image_prc_df[~pd.isna(image_prc_df.delete_frames_from_to)].shape[0])\n",
        "\n",
        "for idx, row in progress(image_prc_df[~pd.isna(image_prc_df.delete_frames_from_to)].iterrows()):\n",
        "    frames_to_delete = row.delete_frames_from_to.strip().split(',')\n",
        "    frame_name_main = row.mask_main_filename.split('.')[0].split('_frame')[0]\n",
        "\n",
        "    for frames in frames_to_delete:\n",
        "        from_frame = int(frames.split('-')[0])\n",
        "        to_frame = int(frames.split('-')[1]) + 1\n",
        "\n",
        "        # delete frames with moving part on the roi\n",
        "        for i in range(from_frame, to_frame):\n",
        "            file_to_remove = IMAGE_CROPPED_OUT + frame_name_main + '_frame' + str(i) + '.jpg'\n",
        "            os.remove(file_to_remove)\n",
        "\n",
        "print(\"=== Files removed! ===\")"
      ],
      "execution_count": null,
      "outputs": [
        {
          "output_type": "stream",
          "name": "stderr",
          "text": [
            "100% (7 of 7) |##########################| Elapsed Time: 0:01:42 Time:  0:01:42\n"
          ]
        },
        {
          "output_type": "stream",
          "name": "stdout",
          "text": [
            "=== Files removed! ===\n"
          ]
        }
      ]
    },
    {
      "cell_type": "markdown",
      "metadata": {
        "id": "IompY54CIWo-"
      },
      "source": [
        "### 3.2.2. Applying masks"
      ]
    },
    {
      "cell_type": "code",
      "metadata": {
        "id": "2HWlSkIfIWo-"
      },
      "source": [
        "CLEAN_IMAGE_OUT = 'data/image/clean/'\n",
        "CLEAN_VIDEO_OUT = 'data/video/clean/'\n",
        "\n",
        "# create clean image and video folders if they don't already exist\n",
        "if not os.path.exists(CLEAN_IMAGE_OUT):\n",
        "    os.makedirs(CLEAN_IMAGE_OUT)\n",
        "if not os.path.exists(CLEAN_VIDEO_OUT):\n",
        "    os.makedirs(CLEAN_VIDEO_OUT)"
      ],
      "execution_count": null,
      "outputs": []
    },
    {
      "cell_type": "code",
      "metadata": {
        "id": "wFB7FLHsIWo_"
      },
      "source": [
        "def zero_pad_array(arr, pad=5):\n",
        "    if len(arr.shape) == 3:\n",
        "        padded_arr = np.zeros((arr.shape[0]+2*pad, arr.shape[1]+2*pad, arr.shape[2]), dtype=np.uint8)\n",
        "        padded_arr[pad:pad + arr.shape[0], pad:pad + arr.shape[1], :] = arr\n",
        "    else:\n",
        "        padded_arr = np.zeros((arr.shape[0]+2*pad, arr.shape[1]+2*pad), dtype=np.uint8)\n",
        "        padded_arr[pad:pad + arr.shape[0], pad:pad + arr.shape[1]] = arr\n",
        "    return padded_arr\n",
        "\n",
        "\n",
        "def frame_inpainting(frame_dict, mask, default_mask=0, kernel_size=(5,5), method='telea', pad=5):\n",
        "    '''\n",
        "    The function performs inpainting on frames using the created masks\n",
        "\n",
        "    - frame_dict: dict of frames from video, indexed by frame number\n",
        "    - mask: (h, w, 1) array if single mask, else dict of such arrays\n",
        "        indexed by frame number\n",
        "    - default_mask: index for mask to be used as default, for frames\n",
        "        without specific mask (if mask is not constant across frames)\n",
        "    - kernel_size: Size of patch used to perform inpainting\n",
        "    - method: one of 'ns' (navier-stokes) or 'telea' - telea usually works better\n",
        "    '''\n",
        "    # Dilate mask make sure it covers enough of the ROI to be masked\n",
        "    kernel = np.ones(kernel_size, np.uint8)\n",
        "    if type(mask) is not dict:\n",
        "        mask = {default_mask: mask}\n",
        "    masks_processed = {key:cv2.dilate(zero_pad_array(m, pad=pad), kernel, iterations=1) for key, m in mask.items()}\n",
        "\n",
        "    method_dict = {'ns':cv2.INPAINT_NS, 'telea':cv2.INPAINT_TELEA}\n",
        "\n",
        "    frames_inpainted = {}\n",
        "    for key, frame in frame_dict.items():\n",
        "        if key in masks_processed:\n",
        "            #print(frame.shape, masks_processed[key].shape)\n",
        "            frames_inpainted[key] = cv2.inpaint(zero_pad_array(frame, pad=pad), masks_processed[key], 3, method_dict[method])[pad:-pad, pad:-pad, :]\n",
        "        else: # default mask\n",
        "            frames_inpainted[key] = cv2.inpaint(zero_pad_array(frame, pad=pad), masks_processed[default_mask], 3, method_dict[method])[pad:-pad, pad:-pad, :]\n",
        "\n",
        "    return frames_inpainted"
      ],
      "execution_count": null,
      "outputs": []
    },
    {
      "cell_type": "code",
      "metadata": {
        "id": "LsDWWSE7IWo_",
        "colab": {
          "base_uri": "https://localhost:8080/"
        },
        "outputId": "a7d33db2-b0af-446d-e643-82f33ebebe37"
      },
      "source": [
        "progress = ProgressBar(max_value=image_prc_df.shape[0])\n",
        "\n",
        "for idx, row in progress(image_prc_df.iterrows()):\n",
        "    # get the main token of the filename\n",
        "    if row.probe == 'Convex':\n",
        "        filename_main = row.filename.split('.')[0] + '_prc_convex'\n",
        "    elif row.probe == 'Linear':\n",
        "        filename_main = row.filename.split('.')[0] + '_prc_linear'\n",
        "\n",
        "    if row.tight_inpainting == 'yes':\n",
        "        # objects close to ROI, avoid bleeding while inpainting\n",
        "        inpainting_kernel_size = (1,1)\n",
        "    else:\n",
        "        # no objects close to ROI, more effective inpainting\n",
        "        inpainting_kernel_size = (5,5)\n",
        "\n",
        "    # check if the cropped frames need cleaning\n",
        "    if row.need_mask_after_crop == 'no':\n",
        "        frames = {}\n",
        "\n",
        "        # 1. no clearning, copy cropped images and rename them to clean folder\n",
        "        for file in os.listdir(IMAGE_CROPPED_OUT):\n",
        "            if file.startswith(filename_main):\n",
        "                #last_part = file.split('_')[-1]\n",
        "                #last_part = last_part.replace('frame', '_clean_frame')\n",
        "                new_filename = file.replace('frame', 'clean_frame')\n",
        "                #print(file, new_filename) #, last_part)\n",
        "                shutil.copy(IMAGE_CROPPED_OUT + file, CLEAN_IMAGE_OUT + new_filename)\n",
        "\n",
        "                img = cv2.imread(os.path.join(CLEAN_IMAGE_OUT, new_filename))\n",
        "                frame_num = int(re.search(r'\\d+$', file[:-4]).group())\n",
        "                frames[frame_num] = img\n",
        "\n",
        "        # make a video out of the clean frames\n",
        "        keys = list(frames.keys())\n",
        "        keys.sort()\n",
        "        clean_vid_frames = [frames[k] for k in keys]\n",
        "\n",
        "        h, w, layers = clean_vid_frames[0].shape\n",
        "        size = (w, h)\n",
        "\n",
        "        out = cv2.VideoWriter(os.path.join(CLEAN_VIDEO_OUT + filename_main + '_clean.avi'), cv2.VideoWriter_fourcc(*'DIVX'), 15, size)\n",
        "        for i in range(len(clean_vid_frames)):\n",
        "            out.write(clean_vid_frames[i])\n",
        "        out.release()\n",
        "\n",
        "    # 2. frames need cleaning\n",
        "    else:\n",
        "        # create a dictionary of frames\n",
        "        frames = {}\n",
        "        for f in os.listdir(IMAGE_CROPPED_OUT):\n",
        "            if f.startswith(filename_main):\n",
        "                img = cv2.imread(os.path.join(IMAGE_CROPPED_OUT, f))\n",
        "                frame_num = int(re.search(r'\\d+$', f[:-4]).group())\n",
        "                frames[frame_num] = img\n",
        "\n",
        "        # check if the video file requires multiple masks or a single mask is enough\n",
        "        if row.need_multiple_masks == 'no':\n",
        "            mask = cv2.imread(os.path.join(IMAGE_MASK_OUT, filename_main + '_frame0_mask.jpg'))[:,:,0]\n",
        "\n",
        "            # perform inpainting on frames using a single main mask\n",
        "            frames_inpainted = frame_inpainting(frames, mask, kernel_size=inpainting_kernel_size)\n",
        "        else:\n",
        "            masks = {}\n",
        "\n",
        "            for f in os.listdir(IMAGE_MASK_OUT):\n",
        "                if f.startswith(filename_main):\n",
        "                    img = cv2.imread(os.path.join(IMAGE_MASK_OUT, f))\n",
        "                    frame_num = int(re.search(r'\\d+$', f[:-9]).group())\n",
        "                    masks[frame_num] = img[:,:,0]\n",
        "\n",
        "            # perform inpainting on frames using multiple masks\n",
        "            frames_inpainted = frame_inpainting(frames, masks, default_mask=0, kernel_size=inpainting_kernel_size)\n",
        "\n",
        "        # write clean frames to the disk\n",
        "        for key, value in frames_inpainted.items():\n",
        "            cv2.imwrite(CLEAN_IMAGE_OUT + filename_main + \"_clean_frame\" + str(key) + \".jpg\", value)\n",
        "\n",
        "        # write clean video to the disk\n",
        "        keys = list(frames_inpainted.keys())\n",
        "        keys.sort()\n",
        "        clean_vid_frames = [frames_inpainted[k] for k in keys]\n",
        "\n",
        "        h, w, layers = clean_vid_frames[0].shape\n",
        "        size = (w, h)\n",
        "\n",
        "        out = cv2.VideoWriter(os.path.join(CLEAN_VIDEO_OUT + filename_main + '_clean.avi'), cv2.VideoWriter_fourcc(*'DIVX'), 15, size)\n",
        "        for i in range(len(clean_vid_frames)):\n",
        "            out.write(clean_vid_frames[i])\n",
        "        out.release()"
      ],
      "execution_count": null,
      "outputs": [
        {
          "output_type": "stream",
          "name": "stderr",
          "text": [
            "100% (242 of 242) |######################| Elapsed Time: 0:32:11 Time:  0:32:11\n"
          ]
        }
      ]
    },
    {
      "cell_type": "code",
      "metadata": {
        "id": "YXJg7l67Nv9T",
        "colab": {
          "base_uri": "https://localhost:8080/"
        },
        "outputId": "72c2ee9b-4b03-4667-c395-ecf2259c0452"
      },
      "source": [
        "VIDEO_PATH_CLN = 'data/video/clean/'\n",
        "\n",
        "vid_files = os.listdir(VIDEO_PATH_CLN)\n",
        "\n",
        "progress = ProgressBar(max_value=metadata.shape[0])\n",
        "with open('utils/video_files_clean_properties.csv', 'w') as f:\n",
        "    # write the file header\n",
        "    f.write('filename,framerate,width,height,frame_count,duration_secs\\n')\n",
        "\n",
        "    # loop over the video files and get their properties\n",
        "    for vid in progress(vid_files):\n",
        "        vid_filename = VIDEO_PATH_CLN + str(vid)\n",
        "        file_type = vid.split('.')[-1]\n",
        "\n",
        "        # get video file properties\n",
        "        cv2video = cv2.VideoCapture(vid_filename)\n",
        "        height = cv2video.get(cv2.CAP_PROP_FRAME_HEIGHT)\n",
        "        width  = cv2video.get(cv2.CAP_PROP_FRAME_WIDTH)\n",
        "        frame_rate = round(cv2video.get(cv2.CAP_PROP_FPS), 2)\n",
        "\n",
        "        if file_type == 'mp4':\n",
        "            frame_count = cv2video.get(cv2.CAP_PROP_FRAME_COUNT)\n",
        "            duration = round((frame_count / frame_rate), 2)\n",
        "        elif file_type == 'gif':\n",
        "            frame_count = round(Image.open(vid_filename).n_frames) #round((duration * frame_rate ), 0)\n",
        "            duration = round((frame_count / frame_rate), 2)\n",
        "\n",
        "        frame_count = cv2video.get(cv2.CAP_PROP_FRAME_COUNT)\n",
        "        duration = round((frame_count / frame_rate), 2)\n",
        "\n",
        "        # write video properties to the file\n",
        "        line_to_write = str(vid) + ',' + str(frame_rate) + ',' + str(width) + ',' + str(height) + ',' + str(frame_count) + ',' + str(duration) + '\\n'\n",
        "        f.write(line_to_write)"
      ],
      "execution_count": null,
      "outputs": [
        {
          "output_type": "stream",
          "name": "stderr",
          "text": [
            "100% (242 of 242) |######################| Elapsed Time: 0:01:57 Time:  0:01:57\n"
          ]
        }
      ]
    }
  ]
}
