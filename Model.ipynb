{
  "nbformat": 4,
  "nbformat_minor": 0,
  "metadata": {
    "accelerator": "GPU",
    "colab": {
      "name": "compression_lab.ipynb",
      "provenance": [],
      "collapsed_sections": [
        "ypvtjOMHk_Tl",
        "8sn6wjUqpOoL",
        "BNMlsLE6f6dm",
        "0iPv35nBrbG_"
      ],
      "machine_shape": "hm"
    },
    "kernelspec": {
      "display_name": "Python 3",
      "name": "python3"
    },
    "language_info": {
      "name": "python"
    }
  },
  "cells": [
    {
      "cell_type": "markdown",
      "metadata": {
        "id": "ypvtjOMHk_Tl"
      },
      "source": [
        "# 1. Setup"
      ]
    },
    {
      "cell_type": "code",
      "metadata": {
        "colab": {
          "base_uri": "https://localhost:8080/"
        },
        "id": "0h0TL_CXkqjg",
        "outputId": "2bbc56be-9fa2-44ea-8f7a-337c3bc778ba"
      },
      "source": [
        "from google.colab import drive\n",
        "drive.mount('/content/drive')"
      ],
      "execution_count": 1,
      "outputs": [
        {
          "output_type": "stream",
          "name": "stdout",
          "text": [
            "Mounted at /content/drive\n"
          ]
        }
      ]
    },
    {
      "cell_type": "code",
      "metadata": {
        "colab": {
          "base_uri": "https://localhost:8080/"
        },
        "id": "4wpVvmvRpV2r",
        "outputId": "4801d5f7-55fd-43db-e499-68b570f8e4be"
      },
      "source": [
        "%cd /content/drive/MyDrive/dp\n",
        "route = '/content/drive/MyDrive/dp/'\n",
        "!ls"
      ],
      "execution_count": 2,
      "outputs": [
        {
          "output_type": "stream",
          "name": "stdout",
          "text": [
            "/content/drive/MyDrive/dp\n",
            "create_COVIDxUS.ipynb  labels\tmodel.png    README.md\n",
            "data\t\t       LICENSE\t__pycache__  utils\n"
          ]
        }
      ]
    },
    {
      "cell_type": "code",
      "metadata": {
        "id": "eqir0eQLk5ZO",
        "colab": {
          "base_uri": "https://localhost:8080/"
        },
        "outputId": "e39f170a-665f-4ab5-c49f-9b6b51ffd56a"
      },
      "source": [
        "import cv2 # for capturing videos\n",
        "import math # for mathematical operations\n",
        "%matplotlib inline\n",
        "import pandas as pd\n",
        "import numpy as np\n",
        "import os\n",
        "import random \n",
        "\n",
        "from progressbar import ProgressBar\n",
        "from sklearn.metrics import accuracy_score\n",
        "! pip install -q tensorflow-model-optimization\n",
        "from tensorflow_model_optimization.sparsity import keras as sparsity\n",
        "from keras.callbacks import ModelCheckpoint\n",
        "\n",
        "import time\n",
        "import matplotlib.pyplot as plt\n",
        "import glob\n",
        "\n",
        "import keras\n",
        "from keras.models import Sequential\n",
        "from keras.applications.vgg16 import VGG16\n",
        "from keras.layers import Dense, InputLayer, Dropout, Flatten, Reshape\n",
        "from keras.layers import Conv2D, MaxPooling2D, GlobalMaxPooling2D, ConvLSTM2D, BatchNormalization, Conv3D, MaxPooling3D\n",
        "from keras.layers import TimeDistributed, GRU, LSTM, GlobalAveragePooling1D, GlobalAveragePooling2D\n",
        "from keras.preprocessing import image\n",
        "from keras import Model\n",
        "\n",
        "import numpy as np\n",
        "import pandas as pd\n",
        "from tqdm import tqdm\n",
        "\n",
        "import tensorflow_model_optimization as tfmot\n",
        "import tempfile\n",
        "import tensorflow as tf\n",
        "from tensorflow import keras\n",
        "%load_ext tensorboard"
      ],
      "execution_count": 3,
      "outputs": [
        {
          "output_type": "stream",
          "name": "stdout",
          "text": [
            "\u001b[?25l\r\u001b[K     |█▌                              | 10 kB 39.8 MB/s eta 0:00:01\r\u001b[K     |███                             | 20 kB 9.1 MB/s eta 0:00:01\r\u001b[K     |████▋                           | 30 kB 8.1 MB/s eta 0:00:01\r\u001b[K     |██████▏                         | 40 kB 7.7 MB/s eta 0:00:01\r\u001b[K     |███████▊                        | 51 kB 4.2 MB/s eta 0:00:01\r\u001b[K     |█████████▎                      | 61 kB 4.4 MB/s eta 0:00:01\r\u001b[K     |██████████▊                     | 71 kB 4.5 MB/s eta 0:00:01\r\u001b[K     |████████████▎                   | 81 kB 5.1 MB/s eta 0:00:01\r\u001b[K     |█████████████▉                  | 92 kB 5.3 MB/s eta 0:00:01\r\u001b[K     |███████████████▍                | 102 kB 4.2 MB/s eta 0:00:01\r\u001b[K     |█████████████████               | 112 kB 4.2 MB/s eta 0:00:01\r\u001b[K     |██████████████████▌             | 122 kB 4.2 MB/s eta 0:00:01\r\u001b[K     |████████████████████            | 133 kB 4.2 MB/s eta 0:00:01\r\u001b[K     |█████████████████████▌          | 143 kB 4.2 MB/s eta 0:00:01\r\u001b[K     |███████████████████████         | 153 kB 4.2 MB/s eta 0:00:01\r\u001b[K     |████████████████████████▋       | 163 kB 4.2 MB/s eta 0:00:01\r\u001b[K     |██████████████████████████▏     | 174 kB 4.2 MB/s eta 0:00:01\r\u001b[K     |███████████████████████████▊    | 184 kB 4.2 MB/s eta 0:00:01\r\u001b[K     |█████████████████████████████▏  | 194 kB 4.2 MB/s eta 0:00:01\r\u001b[K     |██████████████████████████████▊ | 204 kB 4.2 MB/s eta 0:00:01\r\u001b[K     |████████████████████████████████| 213 kB 4.2 MB/s \n",
            "\u001b[?25h"
          ]
        }
      ]
    },
    {
      "cell_type": "code",
      "metadata": {
        "id": "nTKJOMArHuMQ"
      },
      "source": [
        ""
      ],
      "execution_count": null,
      "outputs": []
    },
    {
      "cell_type": "markdown",
      "metadata": {
        "id": "xF0Ir3v4k0iN"
      },
      "source": [
        ""
      ]
    },
    {
      "cell_type": "markdown",
      "metadata": {
        "id": "8sn6wjUqpOoL"
      },
      "source": [
        "# 2. Loading DataSet"
      ]
    },
    {
      "cell_type": "code",
      "metadata": {
        "id": "p0-MOYUzpRZ9"
      },
      "source": [
        "X_train=np.load('data/X_train_save_0.npy')\n",
        "X_val = np.load('data/X_val_save_0.npy')\n",
        "y_train = np.load(\"data/y_train_save_0.npy\")\n",
        "y_val = np.load(\"data/y_val_save_0.npy\")"
      ],
      "execution_count": 4,
      "outputs": []
    },
    {
      "cell_type": "code",
      "metadata": {
        "id": "gzJxaB4vpcRG",
        "colab": {
          "base_uri": "https://localhost:8080/"
        },
        "outputId": "ef3e17cd-681f-47e6-de39-4b44d4bfe85e"
      },
      "source": [
        "#max = X_train.max()\n",
        "#X_train = X_train/max\n",
        "#X_val = X_val/max\n",
        "y_train = pd.get_dummies(y_train)\n",
        "y_val = pd.get_dummies(y_val)\n",
        "\n",
        "print(\"X_train size : {}\".format(X_train.shape))\n",
        "print(\"y_train size : {}\".format(y_train.shape))\n",
        "print(\"X_val size : {}\".format(X_val.shape))\n",
        "print(\"y_val size : {}\".format(y_val.shape))"
      ],
      "execution_count": 5,
      "outputs": [
        {
          "output_type": "stream",
          "name": "stdout",
          "text": [
            "X_train size : (159, 14, 224, 224, 3)\n",
            "y_train size : (159, 3)\n",
            "X_val size : (39, 14, 224, 224, 3)\n",
            "y_val size : (39, 3)\n"
          ]
        }
      ]
    },
    {
      "cell_type": "markdown",
      "metadata": {
        "id": "Lo7xftLflH6Q"
      },
      "source": [
        "# 3. Training ConvLSTM2D Model"
      ]
    },
    {
      "cell_type": "code",
      "metadata": {
        "colab": {
          "base_uri": "https://localhost:8080/"
        },
        "id": "IvI6G1C-m5eq",
        "outputId": "bfd43b93-9bcb-4dc1-a066-2ed7003d86f4"
      },
      "source": [
        "print(\"X_train size : {}\".format(X_train.shape))\n",
        "print(\"X_val size : {}\".format(X_val.shape))\n",
        "print(\"y_train size : {}\".format(y_train.shape))\n",
        "print(\"y_val size : {}\".format(y_val.shape))"
      ],
      "execution_count": null,
      "outputs": [
        {
          "output_type": "stream",
          "name": "stdout",
          "text": [
            "X_train size : (159, 14, 224, 224, 3)\n",
            "X_val size : (39, 14, 224, 224, 3)\n",
            "y_train size : (159, 3)\n",
            "y_val size : (39, 3)\n"
          ]
        }
      ]
    },
    {
      "cell_type": "code",
      "metadata": {
        "id": "WVZSfWREnBun",
        "colab": {
          "base_uri": "https://localhost:8080/"
        },
        "outputId": "8dc05ab8-949b-4e90-b93c-26ac4d0c639a"
      },
      "source": [
        "model = Sequential()\n",
        "model.add(ConvLSTM2D(filters = 64, kernel_size = (3, 3), return_sequences = False, data_format = \"channels_last\", input_shape = (14, 224, 224, 3)))\n",
        "model.add(Dropout(0.4))\n",
        "model.add(Flatten())\n",
        "model.add(Dense(256, activation=\"relu\"))\n",
        "model.add(Dropout(0.4))\n",
        "model.add(Dense(3, activation = \"softmax\"))\n",
        "model.summary()"
      ],
      "execution_count": null,
      "outputs": [
        {
          "output_type": "stream",
          "name": "stdout",
          "text": [
            "Model: \"sequential\"\n",
            "_________________________________________________________________\n",
            " Layer (type)                Output Shape              Param #   \n",
            "=================================================================\n",
            " conv_lstm2d (ConvLSTM2D)    (None, 222, 222, 64)      154624    \n",
            "                                                                 \n",
            " dropout (Dropout)           (None, 222, 222, 64)      0         \n",
            "                                                                 \n",
            " flatten (Flatten)           (None, 3154176)           0         \n",
            "                                                                 \n",
            " dense (Dense)               (None, 256)               807469312 \n",
            "                                                                 \n",
            " dropout_1 (Dropout)         (None, 256)               0         \n",
            "                                                                 \n",
            " dense_1 (Dense)             (None, 3)                 771       \n",
            "                                                                 \n",
            "=================================================================\n",
            "Total params: 807,624,707\n",
            "Trainable params: 807,624,707\n",
            "Non-trainable params: 0\n",
            "_________________________________________________________________\n"
          ]
        }
      ]
    },
    {
      "cell_type": "code",
      "metadata": {
        "colab": {
          "base_uri": "https://localhost:8080/",
          "height": 753
        },
        "id": "gM9r7FDCHo3D",
        "outputId": "41d82aa4-d8d9-4050-ec42-50037f0453d2"
      },
      "source": [
        "tf.keras.utils.plot_model(model,show_shapes=True)"
      ],
      "execution_count": null,
      "outputs": [
        {
          "output_type": "execute_result",
          "data": {
            "image/png": "[encoded data removed]",
            "text/plain": [
              "<IPython.core.display.Image object>"
            ]
          },
          "metadata": {},
          "execution_count": 6
        }
      ]
    },
    {
      "cell_type": "code",
      "metadata": {
        "colab": {
          "base_uri": "https://localhost:8080/"
        },
        "id": "8jagY76en28m",
        "outputId": "f3527825-d866-44e3-ad93-727cfb0250f3"
      },
      "source": [
        "opt = keras.optimizers.SGD(lr=0.001)\n",
        "model.compile(loss='categorical_crossentropy', optimizer=opt, metrics=[\"accuracy\"])\n",
        "mcp_save = ModelCheckpoint('data/covid_us_weight.hdf5', save_best_only=True, monitor='val_loss', mode='min') # monitor='val_accuracy', mode='max')"
      ],
      "execution_count": null,
      "outputs": [
        {
          "output_type": "stream",
          "name": "stderr",
          "text": [
            "/usr/local/lib/python3.7/dist-packages/keras/optimizer_v2/gradient_descent.py:102: UserWarning: The `lr` argument is deprecated, use `learning_rate` instead.\n",
            "  super(SGD, self).__init__(name, **kwargs)\n"
          ]
        }
      ]
    },
    {
      "cell_type": "code",
      "metadata": {
        "colab": {
          "base_uri": "https://localhost:8080/"
        },
        "id": "vod_tH1Mn6w0",
        "outputId": "535f6ac1-5433-4d84-b05c-c2291bf0e9c9"
      },
      "source": [
        "train_start = time.time()\n",
        "result = model.fit(X_train, y_train, epochs=15, validation_data=(X_val, y_val), callbacks=[mcp_save], batch_size=1)\n",
        "train_end = time.time()"
      ],
      "execution_count": null,
      "outputs": [
        {
          "output_type": "stream",
          "name": "stdout",
          "text": [
            "Epoch 1/15\n",
            "159/159 [==============================] - 44s 211ms/step - loss: 0.9456 - accuracy: 0.5535 - val_loss: 0.9905 - val_accuracy: 0.4359\n",
            "Epoch 2/15\n",
            "159/159 [==============================] - 34s 216ms/step - loss: 0.7735 - accuracy: 0.6478 - val_loss: 0.8134 - val_accuracy: 0.5128\n",
            "Epoch 3/15\n",
            "159/159 [==============================] - 30s 188ms/step - loss: 0.7363 - accuracy: 0.6667 - val_loss: 1.0690 - val_accuracy: 0.5897\n",
            "Epoch 4/15\n",
            "159/159 [==============================] - 30s 188ms/step - loss: 0.6549 - accuracy: 0.7547 - val_loss: 0.9401 - val_accuracy: 0.5385\n",
            "Epoch 5/15\n",
            "159/159 [==============================] - 34s 213ms/step - loss: 0.6141 - accuracy: 0.7170 - val_loss: 0.8122 - val_accuracy: 0.5641\n",
            "Epoch 6/15\n",
            "159/159 [==============================] - 34s 216ms/step - loss: 0.5818 - accuracy: 0.7673 - val_loss: 0.6740 - val_accuracy: 0.6410\n",
            "Epoch 7/15\n",
            "159/159 [==============================] - 30s 189ms/step - loss: 0.4715 - accuracy: 0.7799 - val_loss: 0.8806 - val_accuracy: 0.5641\n",
            "Epoch 8/15\n",
            "159/159 [==============================] - 30s 188ms/step - loss: 0.4420 - accuracy: 0.8113 - val_loss: 0.8029 - val_accuracy: 0.6410\n",
            "Epoch 9/15\n",
            "159/159 [==============================] - 30s 188ms/step - loss: 0.4179 - accuracy: 0.8239 - val_loss: 0.7984 - val_accuracy: 0.6667\n",
            "Epoch 10/15\n",
            "159/159 [==============================] - 30s 188ms/step - loss: 0.4854 - accuracy: 0.7925 - val_loss: 0.8696 - val_accuracy: 0.5641\n",
            "Epoch 11/15\n",
            "159/159 [==============================] - 30s 188ms/step - loss: 0.3608 - accuracy: 0.8616 - val_loss: 0.7179 - val_accuracy: 0.7179\n",
            "Epoch 12/15\n",
            "159/159 [==============================] - 30s 188ms/step - loss: 0.2830 - accuracy: 0.9182 - val_loss: 0.9969 - val_accuracy: 0.5128\n",
            "Epoch 13/15\n",
            "159/159 [==============================] - 30s 188ms/step - loss: 0.2840 - accuracy: 0.9057 - val_loss: 0.8064 - val_accuracy: 0.6923\n",
            "Epoch 14/15\n",
            "159/159 [==============================] - 30s 188ms/step - loss: 0.3001 - accuracy: 0.9057 - val_loss: 0.7263 - val_accuracy: 0.6923\n",
            "Epoch 15/15\n",
            "159/159 [==============================] - 30s 188ms/step - loss: 0.2461 - accuracy: 0.9119 - val_loss: 1.0339 - val_accuracy: 0.4615\n"
          ]
        }
      ]
    },
    {
      "cell_type": "code",
      "metadata": {
        "colab": {
          "base_uri": "https://localhost:8080/"
        },
        "id": "yKKTp4yI0o7r",
        "outputId": "0e0f0a4a-cef4-49af-f460-72870d36bd62"
      },
      "source": [
        "print(\"It takes {:.2f} seconds to train\".format((train_end - train_start)))\n",
        "print(\"It takes {:.2f} minutes to train\".format((train_end - train_start)/60))"
      ],
      "execution_count": null,
      "outputs": [
        {
          "output_type": "stream",
          "name": "stdout",
          "text": [
            "It takes 505.25 seconds to train\n",
            "It takes 8.42 minutes to train\n"
          ]
        }
      ]
    },
    {
      "cell_type": "code",
      "metadata": {
        "colab": {
          "base_uri": "https://localhost:8080/",
          "height": 591
        },
        "id": "NDihJ2BrVbPs",
        "outputId": "c17c9800-432f-4725-ad93-2b20c6505613"
      },
      "source": [
        "print(result.history.keys())\n",
        "\n",
        "# summarize history for accuracy\n",
        "plt.plot(result.history['accuracy'])\n",
        "plt.plot(result.history['val_accuracy'])\n",
        "plt.title('model accuracy')\n",
        "plt.ylabel('accuracy')\n",
        "plt.xlabel('epoch')\n",
        "plt.legend(['train', 'val'], loc='upper left')\n",
        "plt.show()\n",
        "\n",
        "# summarize history for loss\n",
        "plt.plot(result.history['loss'])\n",
        "plt.plot(result.history['val_loss'])\n",
        "plt.title('model loss')\n",
        "plt.ylabel('loss')\n",
        "plt.xlabel('epoch')\n",
        "plt.legend(['train', 'val'], loc='upper center')\n",
        "plt.show()"
      ],
      "execution_count": null,
      "outputs": [
        {
          "output_type": "stream",
          "name": "stdout",
          "text": [
            "dict_keys(['loss', 'accuracy', 'val_loss', 'val_accuracy'])\n"
          ]
        },
        {
          "output_type": "display_data",
          "data": {
            "image/png": "[encoded data removed]",
            "text/plain": [
              "<Figure size 432x288 with 1 Axes>"
            ]
          },
          "metadata": {
            "needs_background": "light"
          }
        },
        {
          "output_type": "display_data",
          "data": {
            "image/png": "[encoded data removed]",
            "text/plain": [
              "<Figure size 432x288 with 1 Axes>"
            ]
          },
          "metadata": {
            "needs_background": "light"
          }
        }
      ]
    },
    {
      "cell_type": "code",
      "metadata": {
        "colab": {
          "base_uri": "https://localhost:8080/"
        },
        "id": "qjKVSSUTfkuo",
        "outputId": "f6bcd946-705c-412c-adde-b22984c0455c"
      },
      "source": [
        "model.save(\"data/convlstm_model\")"
      ],
      "execution_count": null,
      "outputs": [
        {
          "output_type": "stream",
          "name": "stdout",
          "text": [
            "INFO:tensorflow:Assets written to: data/fcn_model/assets\n"
          ]
        }
      ]
    },
    {
      "cell_type": "markdown",
      "metadata": {
        "id": "BNMlsLE6f6dm"
      },
      "source": [
        "# 4. Weight Pruning"
      ]
    },
    {
      "cell_type": "code",
      "metadata": {
        "id": "hrpHAMS-gDgc"
      },
      "source": [
        "model=keras.models.load_model(\"data/covid_us_weight.hdf5\")"
      ],
      "execution_count": null,
      "outputs": []
    },
    {
      "cell_type": "code",
      "metadata": {
        "colab": {
          "base_uri": "https://localhost:8080/"
        },
        "id": "q5lUh0jhpgaQ",
        "outputId": "a0685c65-0902-4695-8291-872030b193e2"
      },
      "source": [
        "print(\"X_train size : {}\".format(X_train.shape))\n",
        "print(\"X_val size : {}\".format(X_val.shape))\n",
        "print(\"y_train size : {}\".format(y_train.shape))\n",
        "print(\"y_val size : {}\".format(y_val.shape))"
      ],
      "execution_count": null,
      "outputs": [
        {
          "output_type": "stream",
          "name": "stdout",
          "text": [
            "X_train size : (159, 14, 224, 224, 3)\n",
            "X_val size : (39, 14, 224, 224, 3)\n",
            "y_train size : (159, 3)\n",
            "y_val size : (39, 3)\n"
          ]
        }
      ]
    },
    {
      "cell_type": "code",
      "metadata": {
        "id": "HIVzjK-VgDir"
      },
      "source": [
        "batch_size=1\n",
        "epochs = 10\n",
        "end_step = np.ceil(1.0 * X_train.shape[0] / batch_size).astype(np.int32) * epochs\n",
        "\n",
        "new_pruning_params = {\n",
        "      'pruning_schedule': sparsity.PolynomialDecay(initial_sparsity=0.25,\n",
        "                                                   final_sparsity=0.5,\n",
        "                                                   begin_step=0,\n",
        "                                                   end_step=end_step,\n",
        "                                                   frequency=100)\n",
        "}"
      ],
      "execution_count": null,
      "outputs": []
    },
    {
      "cell_type": "code",
      "metadata": {
        "colab": {
          "base_uri": "https://localhost:8080/"
        },
        "id": "Zyud3kqwcuHe",
        "outputId": "be66ca53-3d3b-410b-dea9-2c1792c74d0d"
      },
      "source": [
        "def apply_pruning_to_dense(layer):\n",
        "  if isinstance(layer, tf.keras.layers.Dense):\n",
        "    return tfmot.sparsity.keras.prune_low_magnitude(layer, **new_pruning_params)\n",
        "  return layer\n",
        "model_for_pruning = tf.keras.models.clone_model(\n",
        "    model,\n",
        "    clone_function=apply_pruning_to_dense,\n",
        ")\n",
        "\n",
        "model_for_pruning.compile(\n",
        "    loss=tf.keras.losses.categorical_crossentropy,\n",
        "    optimizer='adam',\n",
        "    metrics=['accuracy'])\n",
        "model_for_pruning.summary()"
      ],
      "execution_count": null,
      "outputs": [
        {
          "output_type": "stream",
          "name": "stderr",
          "text": [
            "/usr/local/lib/python3.7/dist-packages/tensorflow_model_optimization/python/core/sparsity/keras/pruning_wrapper.py:218: UserWarning: `layer.add_variable` is deprecated and will be removed in a future version. Please use `layer.add_weight` method instead.\n",
            "  aggregation=tf.VariableAggregation.MEAN)\n",
            "/usr/local/lib/python3.7/dist-packages/tensorflow_model_optimization/python/core/sparsity/keras/pruning_wrapper.py:225: UserWarning: `layer.add_variable` is deprecated and will be removed in a future version. Please use `layer.add_weight` method instead.\n",
            "  aggregation=tf.VariableAggregation.MEAN)\n",
            "/usr/local/lib/python3.7/dist-packages/tensorflow_model_optimization/python/core/sparsity/keras/pruning_wrapper.py:238: UserWarning: `layer.add_variable` is deprecated and will be removed in a future version. Please use `layer.add_weight` method instead.\n",
            "  trainable=False)\n"
          ]
        },
        {
          "output_type": "stream",
          "name": "stdout",
          "text": [
            "Model: \"sequential\"\n",
            "_________________________________________________________________\n",
            " Layer (type)                Output Shape              Param #   \n",
            "=================================================================\n",
            " conv_lstm2d (ConvLSTM2D)    (None, 222, 222, 64)      154624    \n",
            "                                                                 \n",
            " max_pooling2d (MaxPooling2D  (None, 111, 111, 64)     0         \n",
            " )                                                               \n",
            "                                                                 \n",
            " dropout (Dropout)           (None, 111, 111, 64)      0         \n",
            "                                                                 \n",
            " flatten (Flatten)           (None, 788544)            0         \n",
            "                                                                 \n",
            " prune_low_magnitude_dense (  (None, 256)              403734786 \n",
            " PruneLowMagnitude)                                              \n",
            "                                                                 \n",
            " dropout_1 (Dropout)         (None, 256)               0         \n",
            "                                                                 \n",
            " prune_low_magnitude_dense_1  (None, 3)                1541      \n",
            "  (PruneLowMagnitude)                                            \n",
            "                                                                 \n",
            "=================================================================\n",
            "Total params: 403,890,951\n",
            "Trainable params: 202,022,915\n",
            "Non-trainable params: 201,868,036\n",
            "_________________________________________________________________\n"
          ]
        }
      ]
    },
    {
      "cell_type": "code",
      "metadata": {
        "id": "xkx-X7yUWj2j"
      },
      "source": [
        "logdir = tempfile.mkdtemp()\n",
        "\n",
        "callbacks = [\n",
        "  tfmot.sparsity.keras.UpdatePruningStep(),\n",
        "  tfmot.sparsity.keras.PruningSummaries(log_dir=logdir),\n",
        "]\n"
      ],
      "execution_count": null,
      "outputs": []
    },
    {
      "cell_type": "code",
      "metadata": {
        "colab": {
          "base_uri": "https://localhost:8080/"
        },
        "id": "a5gWXDNMgDkw",
        "outputId": "12e6c10f-48a6-441b-e41e-9afcd545b68b"
      },
      "source": [
        "train_start = time.time()\n",
        "result = model_for_pruning.fit(X_train, y_train, batch_size=1, epochs=epochs, validation_data=(X_val, y_val), callbacks=callbacks)\n",
        "train_end = time.time()"
      ],
      "execution_count": null,
      "outputs": [
        {
          "output_type": "stream",
          "name": "stdout",
          "text": [
            "Epoch 1/10\n",
            "159/159 [==============================] - 40s 222ms/step - loss: 6.4618 - accuracy: 0.5031 - val_loss: 3.2669 - val_accuracy: 0.4872\n",
            "Epoch 2/10\n",
            "159/159 [==============================] - 37s 235ms/step - loss: 1.8626 - accuracy: 0.6415 - val_loss: 1.4815 - val_accuracy: 0.5128\n",
            "Epoch 3/10\n",
            "159/159 [==============================] - 35s 218ms/step - loss: 1.0070 - accuracy: 0.7736 - val_loss: 1.3481 - val_accuracy: 0.5641\n",
            "Epoch 4/10\n",
            "159/159 [==============================] - 37s 235ms/step - loss: 1.7169 - accuracy: 0.7233 - val_loss: 1.2386 - val_accuracy: 0.5385\n",
            "Epoch 5/10\n",
            "159/159 [==============================] - 35s 219ms/step - loss: 0.6741 - accuracy: 0.8050 - val_loss: 1.0028 - val_accuracy: 0.5897\n",
            "Epoch 6/10\n",
            "159/159 [==============================] - 37s 235ms/step - loss: 0.3457 - accuracy: 0.8931 - val_loss: 0.7364 - val_accuracy: 0.7179\n",
            "Epoch 7/10\n",
            "159/159 [==============================] - 37s 235ms/step - loss: 0.5154 - accuracy: 0.8931 - val_loss: 1.0370 - val_accuracy: 0.6410\n",
            "Epoch 8/10\n",
            "159/159 [==============================] - 35s 218ms/step - loss: 0.2430 - accuracy: 0.9057 - val_loss: 1.9780 - val_accuracy: 0.6667\n",
            "Epoch 9/10\n",
            "159/159 [==============================] - 37s 235ms/step - loss: 0.2482 - accuracy: 0.9434 - val_loss: 1.2854 - val_accuracy: 0.7949\n",
            "Epoch 10/10\n",
            "159/159 [==============================] - 35s 218ms/step - loss: 0.2985 - accuracy: 0.9371 - val_loss: 1.8612 - val_accuracy: 0.5897\n"
          ]
        }
      ]
    },
    {
      "cell_type": "code",
      "metadata": {
        "id": "oIcjDfbuMhkV",
        "colab": {
          "base_uri": "https://localhost:8080/"
        },
        "outputId": "3a9b990e-a53e-4305-c883-2f7a88cd0af3"
      },
      "source": [
        "print(\"It takes {:.2f} seconds to train\".format((train_end - train_start)))\n",
        "print(\"It takes {:.2f} minutes to train\".format((train_end - train_start)/60))"
      ],
      "execution_count": null,
      "outputs": [
        {
          "output_type": "stream",
          "name": "stdout",
          "text": [
            "It takes 370.97 seconds to train\n",
            "It takes 6.18 minutes to train\n"
          ]
        }
      ]
    },
    {
      "cell_type": "code",
      "metadata": {
        "id": "0XqGuy8QN_6c",
        "colab": {
          "base_uri": "https://localhost:8080/",
          "height": 591
        },
        "outputId": "acb892f3-b77b-4ba4-8a23-24b4b4e4ebb2"
      },
      "source": [
        "print(result.history.keys())\n",
        "\n",
        "# summarize history for accuracy\n",
        "plt.plot(result.history['accuracy'])\n",
        "plt.plot(result.history['val_accuracy'])\n",
        "plt.title('model accuracy')\n",
        "plt.ylabel('accuracy')\n",
        "plt.xlabel('epoch')\n",
        "plt.legend(['train', 'val'], loc='upper left')\n",
        "plt.show()\n",
        "\n",
        "# summarize history for loss\n",
        "plt.plot(result.history['loss'])\n",
        "plt.plot(result.history['val_loss'])\n",
        "plt.title('model loss')\n",
        "plt.ylabel('loss')\n",
        "plt.xlabel('epoch')\n",
        "plt.legend(['train', 'val'], loc='upper center')\n",
        "plt.show()"
      ],
      "execution_count": null,
      "outputs": [
        {
          "output_type": "stream",
          "name": "stdout",
          "text": [
            "dict_keys(['loss', 'accuracy', 'val_loss', 'val_accuracy'])\n"
          ]
        },
        {
          "output_type": "display_data",
          "data": {
            "image/png": "[encoded data removed]",
            "text/plain": [
              "<Figure size 432x288 with 1 Axes>"
            ]
          },
          "metadata": {
            "needs_background": "light"
          }
        },
        {
          "output_type": "display_data",
          "data": {
            "image/png": "[encoded data removed]",
            "text/plain": [
              "<Figure size 432x288 with 1 Axes>"
            ]
          },
          "metadata": {
            "needs_background": "light"
          }
        }
      ]
    },
    {
      "cell_type": "code",
      "metadata": {
        "colab": {
          "base_uri": "https://localhost:8080/"
        },
        "id": "ngyNnpNIgDon",
        "outputId": "4ac128c8-ebde-48b4-8239-b2294bc4ee99"
      },
      "source": [
        "exportModel = tfmot.sparsity.keras.strip_pruning(model_for_pruning)\n",
        "exportModel.save(\"data/pruned_model.hd5f\")"
      ],
      "execution_count": null,
      "outputs": [
        {
          "output_type": "stream",
          "name": "stdout",
          "text": [
            "WARNING:tensorflow:Compiled the loaded model, but the compiled metrics have yet to be built. `model.compile_metrics` will be empty until you train or evaluate the model.\n",
            "INFO:tensorflow:Assets written to: data/pruned_model2/assets\n"
          ]
        }
      ]
    },
    {
      "cell_type": "markdown",
      "metadata": {
        "id": "balYI6htoN7y"
      },
      "source": [
        "# 5. Knowledge Distillation (X)\n"
      ]
    },
    {
      "cell_type": "code",
      "metadata": {
        "id": "XraCHRAToTVt"
      },
      "source": [
        "class Distiller(keras.Model):\n",
        "\n",
        "  def __init__(self, student, teacher):\n",
        "        super(Distiller, self).__init__()\n",
        "        self.teacher = teacher\n",
        "        self.student = student\n",
        "  def compile(\n",
        "        self,\n",
        "        optimizer,\n",
        "        metrics,\n",
        "        student_loss_fn,\n",
        "        distillation_loss_fn,\n",
        "        alpha=0.1,\n",
        "        temperature=3,\n",
        "    ):\n",
        "        \"\"\" Configure the distiller.\n",
        "student_loss_fn: Loss function of difference between student\n",
        "                predictions and ground-truth\n",
        "distillation_loss_fn: Loss function of difference between soft\n",
        "                student predictions and soft teacher predictions\n",
        "alpha: weight to student_loss_fn and 1-alpha to distillation_loss_fn\n",
        "temperature: Temperature for softening probability distributions.\n",
        "                Larger temperature gives softer distributions.\n",
        "        \"\"\"\n",
        "        super(Distiller, self).compile(optimizer=optimizer, metrics=metrics)\n",
        "        self.student_loss_fn=student_loss_fn\n",
        "        self.distillation_loss_fn= distillation_loss_fn\n",
        "        self.temperature= temperature\n",
        "        self.alpha= alpha\n",
        "        \n",
        "  def train_step(self, data):\n",
        "        x,y=data\n",
        "        \n",
        "        # Forward pass of teacher\n",
        "        teacher_prediction=self.teacher(x, training=False)\n",
        "        print(\"Tecaher prediction   ...\", teacher_prediction)\n",
        "        with tf.GradientTape() as tape:\n",
        "            # Forward pass of student\n",
        "            student_predcition= self.student(x, training=True)\n",
        "            # Compute losses\n",
        "            student_loss= self.student_loss_fn(y, student_predcition)\n",
        "            \n",
        "            distillation_loss=self.distillation_loss_fn(\n",
        "            tf.nn.softmax(teacher_prediction/self.temperature, axis=1),\n",
        "            tf.nn.softmax(student_predcition/self.temperature, axis=1)\n",
        "            )\n",
        "            loss= self.alpha* student_loss + (1-self.alpha)* distillation_loss\n",
        "            print(\"Loss in distiller :\",loss)\n",
        "            # Compute gradients\n",
        "            trainable_vars= self.student.trainable_variables\n",
        "            gradients=tape.gradient(loss, trainable_vars)\n",
        "            gradients = [gradient * (self.temperature ** 2) for gradient in gradients]\n",
        "            # Update weights\n",
        "            self.optimizer.apply_gradients(zip(gradients, trainable_vars))\n",
        "            \n",
        "            # Update the metrics configured in `compile()`\n",
        "            self.compiled_metrics.update_state(y, student_predcition)\n",
        "            \n",
        "            # Return a dict of performance\n",
        "            results={ m.name: m.result()  for m in self.metrics}\n",
        "            results.update({\"student_loss\": student_loss, \"distillation_loss\": distillation_loss})\n",
        "            print(\"Train...\", results)\n",
        "            return results\n",
        "  def test_step(self, data):\n",
        "        # Unpack the data\n",
        "        x, y = data\n",
        "        \n",
        "        ## Compute predictions\n",
        "        y_prediction= self.student(x, training=False)\n",
        "        \n",
        "        # calculate the loss\n",
        "        student_loss= self.student_loss_fn(y, y_prediction)\n",
        "        \n",
        "        # Update the metrics.\n",
        "        self.compiled_metrics.update_state(y, y_prediction)\n",
        "        \n",
        "        # Return a dict of performance\n",
        "        results ={m.name: m.result() for m in self.metrics}\n",
        "        results.update({\"student_loss\": student_loss})\n",
        "        print(\"Test...\", results)\n",
        "        return results"
      ],
      "execution_count": null,
      "outputs": []
    },
    {
      "cell_type": "code",
      "metadata": {
        "id": "C4JgzHj4rlmh"
      },
      "source": [
        "org_model=keras.models.load_model(\"data/covid_us_weight.hdf5\")\n",
        "student_model = Sequential()\n",
        "student_model.add(ConvLSTM2D(filters = 16, kernel_size = (3, 3), return_sequences = False, data_format = \"channels_last\", input_shape = (14, 224, 224, 3)))\n",
        "student_model.add(MaxPooling2D())\n",
        "student_model.add(Dropout(0.4))\n",
        "student_model.add(Flatten())\n",
        "student_model.add(Dense(256, activation=\"relu\"))\n",
        "student_model.add(Dropout(0.4))\n",
        "student_model.add(Dense(3, activation = \"softmax\"))"
      ],
      "execution_count": null,
      "outputs": []
    },
    {
      "cell_type": "code",
      "metadata": {
        "id": "FEzBydFbsQDC"
      },
      "source": [
        "student = student_model\n",
        "teacher = org_model\n",
        "\n",
        "distiller= Distiller(student=student, teacher=teacher)"
      ],
      "execution_count": null,
      "outputs": []
    },
    {
      "cell_type": "code",
      "metadata": {
        "colab": {
          "base_uri": "https://localhost:8080/"
        },
        "id": "KAy5yAKh_wxL",
        "outputId": "c54cb1bb-128e-4fa3-8578-2da0c51fade0"
      },
      "source": [
        "print(\"X_train size : {}\".format(X_train.shape))\n",
        "print(\"X_val size : {}\".format(X_val.shape))\n",
        "print(\"y_train size : {}\".format(y_train.shape))\n",
        "print(\"y_val size : {}\".format(y_val.shape))"
      ],
      "execution_count": null,
      "outputs": [
        {
          "output_type": "stream",
          "name": "stdout",
          "text": [
            "X_train size : (219, 14, 224, 224, 3)\n",
            "X_val size : (42, 14, 224, 224, 3)\n",
            "y_train size : (219, 3)\n",
            "y_val size : (42, 3)\n"
          ]
        }
      ]
    },
    {
      "cell_type": "code",
      "metadata": {
        "id": "TBldnMqudgw8",
        "colab": {
          "base_uri": "https://localhost:8080/"
        },
        "outputId": "616838df-e3d9-4110-c6c7-8785a6718a69"
      },
      "source": [
        "y_temp=[]\n",
        "y_train2=y_train.to_numpy()\n",
        "for i in range(y_train2.shape[0]):\n",
        "  y_temp.append(np.argmax(y_train2[i]))\n",
        "y_train2=np.array(y_temp)\n",
        "y_train2.shape"
      ],
      "execution_count": null,
      "outputs": [
        {
          "output_type": "execute_result",
          "data": {
            "text/plain": [
              "array([1, 1, 1, 1, 1, 1, 1, 1, 1, 1, 2, 1, 0, 0, 0, 0, 2, 0, 1, 2, 2, 2,\n",
              "       1, 0, 0, 0, 0, 2, 2, 1, 0, 1, 1, 1, 1, 0, 0, 0, 1, 2, 0, 1, 1, 1,\n",
              "       1, 1, 1, 2, 0, 0, 0, 1, 2, 1, 1, 1, 1, 1, 1, 1, 0, 1, 1, 1, 1, 1,\n",
              "       1, 1, 1, 1, 1, 1, 1, 2, 2, 2, 0, 1, 1, 1, 1, 1, 1, 1, 0, 2, 0, 1,\n",
              "       1, 1, 1, 1, 1, 0, 0, 0, 0, 1, 1, 1, 1, 1, 1, 1, 0, 1, 2, 2, 0, 2,\n",
              "       1, 0, 1, 1, 1, 1, 1, 1, 2, 0, 0, 2, 1, 1, 1, 0, 0, 0, 0, 0, 0, 2,\n",
              "       2, 0, 0, 2, 1, 2, 0, 0, 0, 0, 2, 0, 2, 1, 1, 0, 0, 0, 0, 0, 2, 2,\n",
              "       1, 0, 0, 0, 0, 0, 0, 0, 0, 0, 0, 0, 0, 0, 0, 0, 1, 1, 1, 1, 1, 1,\n",
              "       1, 1, 1, 0, 0, 1, 2, 2, 0, 2, 2, 2, 2, 1, 1, 1, 1, 1, 1, 2, 0, 0,\n",
              "       0, 0, 0, 1, 0, 2, 0, 0, 0, 1, 1, 1, 1, 1, 1, 1, 2, 2, 1, 2, 2])"
            ]
          },
          "metadata": {},
          "execution_count": 17
        }
      ]
    },
    {
      "cell_type": "markdown",
      "metadata": {
        "id": "mxTaK__2BfTq"
      },
      "source": [
        ""
      ]
    },
    {
      "cell_type": "code",
      "metadata": {
        "colab": {
          "base_uri": "https://localhost:8080/",
          "height": 1000
        },
        "id": "fyVymQ08rlom",
        "outputId": "b117bbdb-b74c-4aa1-ae2c-280f0214580f"
      },
      "source": [
        "distiller.compile(\n",
        "    optimizer=keras.optimizers.Adam(),\n",
        "    metrics=[keras.metrics.SparseCategoricalAccuracy()],\n",
        "    student_loss_fn=keras.losses.SparseCategoricalCrossentropy(from_logits=True),\n",
        "    distillation_loss_fn=keras.losses.KLDivergence(),\n",
        "    alpha=0.1,\n",
        "    temperature=1,\n",
        ")\n",
        "\n",
        "# Distill teacher to student\n",
        "distiller.fit(X_train, y_train2, epochs=4)"
      ],
      "execution_count": null,
      "outputs": [
        {
          "output_type": "stream",
          "name": "stdout",
          "text": [
            "Epoch 1/4\n",
            "Tecaher prediction   ... Tensor(\"sequential/dense_1/Softmax:0\", shape=(None, 3), dtype=float32)\n"
          ]
        },
        {
          "output_type": "stream",
          "name": "stderr",
          "text": [
            "/usr/local/lib/python3.7/dist-packages/tensorflow/python/util/dispatch.py:1096: UserWarning: \"`sparse_categorical_crossentropy` received `from_logits=True`, but the `output` argument was produced by a sigmoid or softmax activation and thus does not represent logits. Was this intended?\"\n",
            "  return dispatch_target(*args, **kwargs)\n"
          ]
        },
        {
          "output_type": "stream",
          "name": "stdout",
          "text": [
            "Loss in distiller : Tensor(\"add:0\", shape=(), dtype=float32)\n",
            "Train... {'sparse_categorical_accuracy': <tf.Tensor 'Identity:0' shape=() dtype=float32>, 'student_loss': <tf.Tensor 'sparse_categorical_crossentropy/weighted_loss/value:0' shape=() dtype=float32>, 'distillation_loss': <tf.Tensor 'kl_divergence/weighted_loss/value:0' shape=() dtype=float32>}\n",
            "Tecaher prediction   ... Tensor(\"sequential/dense_1/Softmax:0\", shape=(None, 3), dtype=float32)\n",
            "Loss in distiller : Tensor(\"add:0\", shape=(), dtype=float32)\n",
            "Train... {'sparse_categorical_accuracy': <tf.Tensor 'Identity:0' shape=() dtype=float32>, 'student_loss': <tf.Tensor 'sparse_categorical_crossentropy/weighted_loss/value:0' shape=() dtype=float32>, 'distillation_loss': <tf.Tensor 'kl_divergence/weighted_loss/value:0' shape=() dtype=float32>}\n"
          ]
        },
        {
          "output_type": "error",
          "ename": "ResourceExhaustedError",
          "evalue": "ignored",
          "traceback": [
            "\u001b[0;31m---------------------------------------------------------------------------\u001b[0m",
            "\u001b[0;31mResourceExhaustedError\u001b[0m                    Traceback (most recent call last)",
            "\u001b[0;32m<ipython-input-18-217f5bc27aab>\u001b[0m in \u001b[0;36m<module>\u001b[0;34m()\u001b[0m\n\u001b[1;32m      9\u001b[0m \u001b[0;34m\u001b[0m\u001b[0m\n\u001b[1;32m     10\u001b[0m \u001b[0;31m# Distill teacher to student\u001b[0m\u001b[0;34m\u001b[0m\u001b[0;34m\u001b[0m\u001b[0;34m\u001b[0m\u001b[0m\n\u001b[0;32m---> 11\u001b[0;31m \u001b[0mdistiller\u001b[0m\u001b[0;34m.\u001b[0m\u001b[0mfit\u001b[0m\u001b[0;34m(\u001b[0m\u001b[0mX_train\u001b[0m\u001b[0;34m,\u001b[0m \u001b[0my_train2\u001b[0m\u001b[0;34m,\u001b[0m \u001b[0mepochs\u001b[0m\u001b[0;34m=\u001b[0m\u001b[0;36m4\u001b[0m\u001b[0;34m)\u001b[0m\u001b[0;34m\u001b[0m\u001b[0;34m\u001b[0m\u001b[0m\n\u001b[0m",
            "\u001b[0;32m/usr/local/lib/python3.7/dist-packages/keras/utils/traceback_utils.py\u001b[0m in \u001b[0;36merror_handler\u001b[0;34m(*args, **kwargs)\u001b[0m\n\u001b[1;32m     65\u001b[0m     \u001b[0;32mexcept\u001b[0m \u001b[0mException\u001b[0m \u001b[0;32mas\u001b[0m \u001b[0me\u001b[0m\u001b[0;34m:\u001b[0m  \u001b[0;31m# pylint: disable=broad-except\u001b[0m\u001b[0;34m\u001b[0m\u001b[0;34m\u001b[0m\u001b[0m\n\u001b[1;32m     66\u001b[0m       \u001b[0mfiltered_tb\u001b[0m \u001b[0;34m=\u001b[0m \u001b[0m_process_traceback_frames\u001b[0m\u001b[0;34m(\u001b[0m\u001b[0me\u001b[0m\u001b[0;34m.\u001b[0m\u001b[0m__traceback__\u001b[0m\u001b[0;34m)\u001b[0m\u001b[0;34m\u001b[0m\u001b[0;34m\u001b[0m\u001b[0m\n\u001b[0;32m---> 67\u001b[0;31m       \u001b[0;32mraise\u001b[0m \u001b[0me\u001b[0m\u001b[0;34m.\u001b[0m\u001b[0mwith_traceback\u001b[0m\u001b[0;34m(\u001b[0m\u001b[0mfiltered_tb\u001b[0m\u001b[0;34m)\u001b[0m \u001b[0;32mfrom\u001b[0m \u001b[0;32mNone\u001b[0m\u001b[0;34m\u001b[0m\u001b[0;34m\u001b[0m\u001b[0m\n\u001b[0m\u001b[1;32m     68\u001b[0m     \u001b[0;32mfinally\u001b[0m\u001b[0;34m:\u001b[0m\u001b[0;34m\u001b[0m\u001b[0;34m\u001b[0m\u001b[0m\n\u001b[1;32m     69\u001b[0m       \u001b[0;32mdel\u001b[0m \u001b[0mfiltered_tb\u001b[0m\u001b[0;34m\u001b[0m\u001b[0;34m\u001b[0m\u001b[0m\n",
            "\u001b[0;32m/usr/local/lib/python3.7/dist-packages/tensorflow/python/eager/execute.py\u001b[0m in \u001b[0;36mquick_execute\u001b[0;34m(op_name, num_outputs, inputs, attrs, ctx, name)\u001b[0m\n\u001b[1;32m     57\u001b[0m     \u001b[0mctx\u001b[0m\u001b[0;34m.\u001b[0m\u001b[0mensure_initialized\u001b[0m\u001b[0;34m(\u001b[0m\u001b[0;34m)\u001b[0m\u001b[0;34m\u001b[0m\u001b[0;34m\u001b[0m\u001b[0m\n\u001b[1;32m     58\u001b[0m     tensors = pywrap_tfe.TFE_Py_Execute(ctx._handle, device_name, op_name,\n\u001b[0;32m---> 59\u001b[0;31m                                         inputs, attrs, num_outputs)\n\u001b[0m\u001b[1;32m     60\u001b[0m   \u001b[0;32mexcept\u001b[0m \u001b[0mcore\u001b[0m\u001b[0;34m.\u001b[0m\u001b[0m_NotOkStatusException\u001b[0m \u001b[0;32mas\u001b[0m \u001b[0me\u001b[0m\u001b[0;34m:\u001b[0m\u001b[0;34m\u001b[0m\u001b[0;34m\u001b[0m\u001b[0m\n\u001b[1;32m     61\u001b[0m     \u001b[0;32mif\u001b[0m \u001b[0mname\u001b[0m \u001b[0;32mis\u001b[0m \u001b[0;32mnot\u001b[0m \u001b[0;32mNone\u001b[0m\u001b[0;34m:\u001b[0m\u001b[0;34m\u001b[0m\u001b[0;34m\u001b[0m\u001b[0m\n",
            "\u001b[0;31mResourceExhaustedError\u001b[0m:  OOM when allocating tensor with shape[32,64,222,222] and type float on /job:localhost/replica:0/task:0/device:GPU:0 by allocator GPU_0_bfc\n\t [[node sequential/conv_lstm2d/while/convolution_3\n (defined at /usr/local/lib/python3.7/dist-packages/keras/backend.py:5465)\n]]\nHint: If you want to see a list of allocated tensors when OOM happens, add report_tensor_allocations_upon_oom to RunOptions for current allocation info. This isn't available when running in Eager mode.\n [Op:__inference_train_function_6851]\n\nErrors may have originated from an input operation.\nInput Source operations connected to node sequential/conv_lstm2d/while/convolution_3:\nIn[0] sequential/conv_lstm2d/while/TensorArrayV2Read/TensorListGetItem (defined at /usr/local/lib/python3.7/dist-packages/keras/backend.py:4638)\t\nIn[1] sequential/conv_lstm2d/while/split (defined at /usr/local/lib/python3.7/dist-packages/keras/layers/convolutional_recurrent.py:600)\n\nOperation defined at: (most recent call last)\n>>>   File \"/usr/lib/python3.7/runpy.py\", line 193, in _run_module_as_main\n>>>     \"__main__\", mod_spec)\n>>> \n>>>   File \"/usr/lib/python3.7/runpy.py\", line 85, in _run_code\n>>>     exec(code, run_globals)\n>>> \n>>>   File \"/usr/local/lib/python3.7/dist-packages/ipykernel_launcher.py\", line 16, in <module>\n>>>     app.launch_new_instance()\n>>> \n>>>   File \"/usr/local/lib/python3.7/dist-packages/traitlets/config/application.py\", line 846, in launch_instance\n>>>     app.start()\n>>> \n>>>   File \"/usr/local/lib/python3.7/dist-packages/ipykernel/kernelapp.py\", line 499, in start\n>>>     self.io_loop.start()\n>>> \n>>>   File \"/usr/local/lib/python3.7/dist-packages/tornado/platform/asyncio.py\", line 132, in start\n>>>     self.asyncio_loop.run_forever()\n>>> \n>>>   File \"/usr/lib/python3.7/asyncio/base_events.py\", line 541, in run_forever\n>>>     self._run_once()\n>>> \n>>>   File \"/usr/lib/python3.7/asyncio/base_events.py\", line 1786, in _run_once\n>>>     handle._run()\n>>> \n>>>   File \"/usr/lib/python3.7/asyncio/events.py\", line 88, in _run\n>>>     self._context.run(self._callback, *self._args)\n>>> \n>>>   File \"/usr/local/lib/python3.7/dist-packages/tornado/platform/asyncio.py\", line 122, in _handle_events\n>>>     handler_func(fileobj, events)\n>>> \n>>>   File \"/usr/local/lib/python3.7/dist-packages/tornado/stack_context.py\", line 300, in null_wrapper\n>>>     return fn(*args, **kwargs)\n>>> \n>>>   File \"/usr/local/lib/python3.7/dist-packages/zmq/eventloop/zmqstream.py\", line 452, in _handle_events\n>>>     self._handle_recv()\n>>> \n>>>   File \"/usr/local/lib/python3.7/dist-packages/zmq/eventloop/zmqstream.py\", line 481, in _handle_recv\n>>>     self._run_callback(callback, msg)\n>>> \n>>>   File \"/usr/local/lib/python3.7/dist-packages/zmq/eventloop/zmqstream.py\", line 431, in _run_callback\n>>>     callback(*args, **kwargs)\n>>> \n>>>   File \"/usr/local/lib/python3.7/dist-packages/tornado/stack_context.py\", line 300, in null_wrapper\n>>>     return fn(*args, **kwargs)\n>>> \n>>>   File \"/usr/local/lib/python3.7/dist-packages/ipykernel/kernelbase.py\", line 283, in dispatcher\n>>>     return self.dispatch_shell(stream, msg)\n>>> \n>>>   File \"/usr/local/lib/python3.7/dist-packages/ipykernel/kernelbase.py\", line 233, in dispatch_shell\n>>>     handler(stream, idents, msg)\n>>> \n>>>   File \"/usr/local/lib/python3.7/dist-packages/ipykernel/kernelbase.py\", line 399, in execute_request\n>>>     user_expressions, allow_stdin)\n>>> \n>>>   File \"/usr/local/lib/python3.7/dist-packages/ipykernel/ipkernel.py\", line 208, in do_execute\n>>>     res = shell.run_cell(code, store_history=store_history, silent=silent)\n>>> \n>>>   File \"/usr/local/lib/python3.7/dist-packages/ipykernel/zmqshell.py\", line 537, in run_cell\n>>>     return super(ZMQInteractiveShell, self).run_cell(*args, **kwargs)\n>>> \n>>>   File \"/usr/local/lib/python3.7/dist-packages/IPython/core/interactiveshell.py\", line 2718, in run_cell\n>>>     interactivity=interactivity, compiler=compiler, result=result)\n>>> \n>>>   File \"/usr/local/lib/python3.7/dist-packages/IPython/core/interactiveshell.py\", line 2828, in run_ast_nodes\n>>>     if self.run_code(code, result):\n>>> \n>>>   File \"/usr/local/lib/python3.7/dist-packages/IPython/core/interactiveshell.py\", line 2882, in run_code\n>>>     exec(code_obj, self.user_global_ns, self.user_ns)\n>>> \n>>>   File \"<ipython-input-18-217f5bc27aab>\", line 11, in <module>\n>>>     distiller.fit(X_train, y_train2, epochs=4)\n>>> \n>>>   File \"/usr/local/lib/python3.7/dist-packages/keras/utils/traceback_utils.py\", line 64, in error_handler\n>>>     return fn(*args, **kwargs)\n>>> \n>>>   File \"/usr/local/lib/python3.7/dist-packages/keras/engine/training.py\", line 1216, in fit\n>>>     tmp_logs = self.train_function(iterator)\n>>> \n>>>   File \"/usr/local/lib/python3.7/dist-packages/keras/engine/training.py\", line 878, in train_function\n>>>     return step_function(self, iterator)\n>>> \n>>>   File \"/usr/local/lib/python3.7/dist-packages/keras/engine/training.py\", line 867, in step_function\n>>>     outputs = model.distribute_strategy.run(run_step, args=(data,))\n>>> \n>>>   File \"/usr/local/lib/python3.7/dist-packages/keras/engine/training.py\", line 860, in run_step\n>>>     outputs = model.train_step(data)\n>>> \n>>>   File \"<ipython-input-6-df5b61f4deb2>\", line 35, in train_step\n>>>     teacher_prediction=self.teacher(x, training=False)\n>>> \n>>>   File \"/usr/local/lib/python3.7/dist-packages/keras/utils/traceback_utils.py\", line 64, in error_handler\n>>>     return fn(*args, **kwargs)\n>>> \n>>>   File \"/usr/local/lib/python3.7/dist-packages/keras/engine/base_layer.py\", line 1083, in __call__\n>>>     outputs = call_fn(inputs, *args, **kwargs)\n>>> \n>>>   File \"/usr/local/lib/python3.7/dist-packages/keras/utils/traceback_utils.py\", line 92, in error_handler\n>>>     return fn(*args, **kwargs)\n>>> \n>>>   File \"/usr/local/lib/python3.7/dist-packages/keras/engine/sequential.py\", line 373, in call\n>>>     return super(Sequential, self).call(inputs, training=training, mask=mask)\n>>> \n>>>   File \"/usr/local/lib/python3.7/dist-packages/keras/engine/functional.py\", line 452, in call\n>>>     inputs, training=training, mask=mask)\n>>> \n>>>   File \"/usr/local/lib/python3.7/dist-packages/keras/engine/functional.py\", line 589, in _run_internal_graph\n>>>     outputs = node.layer(*args, **kwargs)\n>>> \n>>>   File \"/usr/local/lib/python3.7/dist-packages/keras/layers/recurrent.py\", line 679, in __call__\n>>>     return super(RNN, self).__call__(inputs, **kwargs)\n>>> \n>>>   File \"/usr/local/lib/python3.7/dist-packages/keras/utils/traceback_utils.py\", line 64, in error_handler\n>>>     return fn(*args, **kwargs)\n>>> \n>>>   File \"/usr/local/lib/python3.7/dist-packages/keras/engine/base_layer.py\", line 1083, in __call__\n>>>     outputs = call_fn(inputs, *args, **kwargs)\n>>> \n>>>   File \"/usr/local/lib/python3.7/dist-packages/keras/utils/traceback_utils.py\", line 92, in error_handler\n>>>     return fn(*args, **kwargs)\n>>> \n>>>   File \"/usr/local/lib/python3.7/dist-packages/keras/layers/convolutional_recurrent.py\", line 847, in call\n>>>     inputs, mask=mask, training=training, initial_state=initial_state)\n>>> \n>>>   File \"/usr/local/lib/python3.7/dist-packages/keras/layers/convolutional_recurrent.py\", line 307, in call\n>>>     input_length=timesteps)\n>>> \n>>>   File \"/usr/local/lib/python3.7/dist-packages/keras/backend.py\", line 4657, in rnn\n>>>     **while_loop_kwargs)\n>>> \n>>>   File \"/usr/local/lib/python3.7/dist-packages/keras/backend.py\", line 4641, in _step\n>>>     tuple(states) + tuple(constants))\n>>> \n>>>   File \"/usr/local/lib/python3.7/dist-packages/keras/layers/convolutional_recurrent.py\", line 299, in step\n>>>     return self.cell.call(inputs, states, **kwargs)\n>>> \n>>>   File \"/usr/local/lib/python3.7/dist-packages/keras/layers/convolutional_recurrent.py\", line 613, in call\n>>>     x_o = self.input_conv(inputs_o, kernel_o, bias_o, padding=self.padding)\n>>> \n>>>   File \"/usr/local/lib/python3.7/dist-packages/keras/layers/convolutional_recurrent.py\", line 642, in input_conv\n>>>     dilation_rate=self.dilation_rate)\n>>> \n>>>   File \"/usr/local/lib/python3.7/dist-packages/keras/backend.py\", line 5465, in conv2d\n>>>     data_format=tf_data_format)\n>>> \n\nFunction call stack:\ntrain_function -> sequential_conv_lstm2d_while_body_5013\n"
          ]
        }
      ]
    },
    {
      "cell_type": "code",
      "metadata": {
        "id": "a4fVt7UMrlrW"
      },
      "source": [
        "#compile distiller\n",
        "distiller.compile(optimizer=keras.optimizers.Adam(),\n",
        "                 metrics=[keras.metrics.SparseCategoricalAccuracy()],\n",
        "                 student_loss_fn=keras.losses.SparseCategoricalCrossentropy(from_logits=True),\n",
        "                 distillation_loss_fn=keras.losses.KLDivergence(),\n",
        "                 alpha=0.3,\n",
        "                 temperature=7)"
      ],
      "execution_count": null,
      "outputs": []
    },
    {
      "cell_type": "markdown",
      "metadata": {
        "id": "0iPv35nBrbG_"
      },
      "source": [
        "# 6. Post-Training Quantiazion"
      ]
    },
    {
      "cell_type": "code",
      "metadata": {
        "colab": {
          "base_uri": "https://localhost:8080/"
        },
        "id": "kuXYDKB7gP3c",
        "outputId": "15fcf7dd-a701-47b7-a107-b24759fde3a9"
      },
      "source": [
        "org_model=keras.models.load_model(\"data/covid_us_weight.hdf5\")\n",
        "pruned_model=keras.models.load_model(\"data/pruned_model.hdf5\")"
      ],
      "execution_count": null,
      "outputs": [
        {
          "output_type": "stream",
          "name": "stdout",
          "text": [
            "WARNING:tensorflow:No training configuration found in the save file, so the model was *not* compiled. Compile it manually.\n"
          ]
        }
      ]
    },
    {
      "cell_type": "code",
      "metadata": {
        "id": "jPuoeacer6to"
      },
      "source": [
        "def get_gzipped_model_size(file):\n",
        "  # Returns size of gzipped model, in bytes.\n",
        "  import os\n",
        "  import zipfile\n",
        "\n",
        "  _, zipped_file = tempfile.mkstemp('.zip')\n",
        "  with zipfile.ZipFile(zipped_file, 'w', compression=zipfile.ZIP_DEFLATED) as f:\n",
        "    f.write(file)\n",
        "\n",
        "  return os.path.getsize(zipped_file)"
      ],
      "execution_count": null,
      "outputs": []
    },
    {
      "cell_type": "code",
      "metadata": {
        "colab": {
          "base_uri": "https://localhost:8080/"
        },
        "id": "nr3nae41vmsE",
        "outputId": "ac4c7e41-96ed-4b85-8f4f-8c127e767e3c"
      },
      "source": [
        "_, org_keras_file = tempfile.mkstemp('.h5')\n",
        "tf.keras.models.save_model(org_model, org_keras_file, include_optimizer=False)\n",
        "\n",
        "_, pruned_keras_file = tempfile.mkstemp('.h5')\n",
        "tf.keras.models.save_model(pruned_model, pruned_keras_file, include_optimizer=False)"
      ],
      "execution_count": null,
      "outputs": [
        {
          "output_type": "stream",
          "name": "stdout",
          "text": [
            "WARNING:tensorflow:Compiled the loaded model, but the compiled metrics have yet to be built. `model.compile_metrics` will be empty until you train or evaluate the model.\n"
          ]
        }
      ]
    },
    {
      "cell_type": "code",
      "metadata": {
        "id": "m3y11XIm2xYS"
      },
      "source": [
        "lite_model = tfmot.sparsity.keras.strip_pruning(pruned_model)"
      ],
      "execution_count": null,
      "outputs": []
    },
    {
      "cell_type": "code",
      "metadata": {
        "colab": {
          "base_uri": "https://localhost:8080/"
        },
        "id": "H4mpnSg4whWD",
        "outputId": "b4cf81c8-01d4-4e2b-917b-1ef16e8e3f8d"
      },
      "source": [
        "converter = tf.lite.TFLiteConverter.from_keras_model(lite_model)\n",
        "\n",
        "converter.target_spec.supported_ops = [\n",
        "  tf.lite.OpsSet.TFLITE_BUILTINS, # enable TensorFlow Lite ops.\n",
        "  tf.lite.OpsSet.SELECT_TF_OPS # enable TensorFlow ops.\n",
        "]\n",
        "pruned_tflite_model = converter.convert()\n",
        "\n",
        "_, pruned_tflite_file = tempfile.mkstemp('.tflite')\n",
        "\n",
        "with open(pruned_tflite_file, 'wb') as f:\n",
        "  f.write(pruned_tflite_model)\n",
        "\n",
        "print('Saved pruned TFLite model to:', pruned_tflite_file)"
      ],
      "execution_count": null,
      "outputs": [
        {
          "output_type": "stream",
          "name": "stdout",
          "text": [
            "INFO:tensorflow:Assets written to: /tmp/tmpkgbuegqd/assets\n"
          ]
        },
        {
          "output_type": "stream",
          "name": "stderr",
          "text": [
            "WARNING:absl:Buffer deduplication procedure will be skipped when flatbuffer library is not properly loaded\n"
          ]
        },
        {
          "output_type": "stream",
          "name": "stdout",
          "text": [
            "Saved pruned TFLite model to: /tmp/tmpldne1ixb.tflite\n"
          ]
        }
      ]
    },
    {
      "cell_type": "code",
      "metadata": {
        "colab": {
          "base_uri": "https://localhost:8080/"
        },
        "id": "SSNCUoSmr6wH",
        "outputId": "35681f90-17cc-4219-bace-4b78a18c604e"
      },
      "source": [
        "print(\"Size of gzipped original Keras model: %.2f bytes\" % (get_gzipped_model_size(org_keras_file)))\n",
        "print(\"Size of gzipped pruned Keras model: %.2f bytes\" % (get_gzipped_model_size(pruned_keras_file)))\n",
        "print(\"Size of gzipped quantized tflite model: %.2f bytes\" % (get_gzipped_model_size(pruned_tflite_file)))"
      ],
      "execution_count": null,
      "outputs": [
        {
          "output_type": "stream",
          "name": "stdout",
          "text": [
            "Size of gzipped original Keras model: 748051518.00 bytes\n",
            "Size of gzipped pruned Keras model: 595833134.00 bytes\n",
            "Size of gzipped quantized tflite model: 591767602.00 bytes\n"
          ]
        }
      ]
    },
    {
      "cell_type": "markdown",
      "metadata": {
        "id": "-BRxwjj_gRl9"
      },
      "source": [
        "# ※Accuracy Test"
      ]
    },
    {
      "cell_type": "code",
      "metadata": {
        "id": "IIjGpXoYggRR"
      },
      "source": [
        "test_dataset = pd.read_csv(\"data/test_dataset.csv\")"
      ],
      "execution_count": 7,
      "outputs": []
    },
    {
      "cell_type": "code",
      "metadata": {
        "id": "PyOkYz-5kY3N",
        "colab": {
          "base_uri": "https://localhost:8080/"
        },
        "outputId": "01ea8a0c-bc72-494d-c6f8-a70077a348d9"
      },
      "source": [
        "model=keras.models.load_model(\"data/pruned_model.hdf5\")"
      ],
      "execution_count": 9,
      "outputs": [
        {
          "output_type": "stream",
          "name": "stdout",
          "text": [
            "WARNING:tensorflow:No training configuration found in the save file, so the model was *not* compiled. Compile it manually.\n"
          ]
        }
      ]
    },
    {
      "cell_type": "code",
      "metadata": {
        "id": "ThEVhQ6eggVv"
      },
      "source": [
        "# create images_14frames_test folders, if they do not exist\n",
        "if not os.path.exists('data/images_captured_test'):\n",
        "    os.makedirs('data/images_captured_test')"
      ],
      "execution_count": 10,
      "outputs": []
    },
    {
      "cell_type": "code",
      "metadata": {
        "id": "hQnVcSXOggXs"
      },
      "source": [
        "def load_image_into_numpy_array(image):\n",
        "  (im_width, im_height) = image.size\n",
        "  return np.array(image.getdata()).reshape(\n",
        "\t  (im_height, im_width, channels)).astype(np.uint8)\n",
        "   \n",
        "def featuring_space(frame_count):\n",
        "  if frame_count<=28:\n",
        "    return 1\n",
        "  elif frame_count<=56:\n",
        "    return 2\n",
        "  elif frame_count<=84:\n",
        "    return 3\n",
        "  elif frame_count<=112:\n",
        "    return 4\n",
        "  else : return 5"
      ],
      "execution_count": 11,
      "outputs": []
    },
    {
      "cell_type": "code",
      "metadata": {
        "id": "L-5bsCGJggdU"
      },
      "source": [
        "files = glob.glob('data/images_captured_test/*')\n",
        "for f in files:\n",
        "    os.remove(f)"
      ],
      "execution_count": 16,
      "outputs": []
    },
    {
      "cell_type": "code",
      "metadata": {
        "id": "xULoRlylggaP"
      },
      "source": [
        "frames=14\n",
        "channels=3\n",
        "rows=224\n",
        "columns=224\n",
        "height=224\n",
        "width=224\n",
        "classes=3"
      ],
      "execution_count": 13,
      "outputs": []
    },
    {
      "cell_type": "code",
      "metadata": {
        "colab": {
          "base_uri": "https://localhost:8080/",
          "height": 1000
        },
        "id": "Yp3t-1TLUnGH",
        "outputId": "645623e9-e77f-4da9-b558-eeaf4a098cc2"
      },
      "source": [
        "test_dataset"
      ],
      "execution_count": 14,
      "outputs": [
        {
          "output_type": "execute_result",
          "data": {
            "text/html": [
              "<div>\n",
              "<style scoped>\n",
              "    .dataframe tbody tr th:only-of-type {\n",
              "        vertical-align: middle;\n",
              "    }\n",
              "\n",
              "    .dataframe tbody tr th {\n",
              "        vertical-align: top;\n",
              "    }\n",
              "\n",
              "    .dataframe thead th {\n",
              "        text-align: right;\n",
              "    }\n",
              "</style>\n",
              "<table border=\"1\" class=\"dataframe\">\n",
              "  <thead>\n",
              "    <tr style=\"text-align: right;\">\n",
              "      <th></th>\n",
              "      <th>filename</th>\n",
              "    </tr>\n",
              "  </thead>\n",
              "  <tbody>\n",
              "    <tr>\n",
              "      <th>0</th>\n",
              "      <td>132_litfl_pneumonia_prc_convex_clean.avi</td>\n",
              "    </tr>\n",
              "    <tr>\n",
              "      <th>1</th>\n",
              "      <td>218_clarius_covid_prc_convex_clean.avi</td>\n",
              "    </tr>\n",
              "    <tr>\n",
              "      <th>2</th>\n",
              "      <td>220_clarius_covid_prc_convex_clean.avi</td>\n",
              "    </tr>\n",
              "    <tr>\n",
              "      <th>3</th>\n",
              "      <td>151_litfl_pneumonia_prc_convex_clean.avi</td>\n",
              "    </tr>\n",
              "    <tr>\n",
              "      <th>4</th>\n",
              "      <td>175_uf_normal_prc_convex_clean.avi</td>\n",
              "    </tr>\n",
              "    <tr>\n",
              "      <th>5</th>\n",
              "      <td>7_butterfly_covid_prc_convex_clean.avi</td>\n",
              "    </tr>\n",
              "    <tr>\n",
              "      <th>6</th>\n",
              "      <td>45_litfl_pneumonia_prc_convex_clean.avi</td>\n",
              "    </tr>\n",
              "    <tr>\n",
              "      <th>7</th>\n",
              "      <td>93_butterfly_covid_prc_convex_clean.avi</td>\n",
              "    </tr>\n",
              "    <tr>\n",
              "      <th>8</th>\n",
              "      <td>46_litfl_pneumonia_prc_convex_clean.avi</td>\n",
              "    </tr>\n",
              "    <tr>\n",
              "      <th>9</th>\n",
              "      <td>72_pocusatlas_pneumonia_prc_convex_clean.avi</td>\n",
              "    </tr>\n",
              "    <tr>\n",
              "      <th>10</th>\n",
              "      <td>236_clarius_normal_prc_convex_clean.avi</td>\n",
              "    </tr>\n",
              "    <tr>\n",
              "      <th>11</th>\n",
              "      <td>8_butterfly_covid_prc_convex_clean.avi</td>\n",
              "    </tr>\n",
              "    <tr>\n",
              "      <th>12</th>\n",
              "      <td>62_pocusatlas_normal_prc_convex_clean_aug.avi</td>\n",
              "    </tr>\n",
              "    <tr>\n",
              "      <th>13</th>\n",
              "      <td>191_uf_normal_prc_convex_clean.avi</td>\n",
              "    </tr>\n",
              "    <tr>\n",
              "      <th>14</th>\n",
              "      <td>89_butterfly_covid_prc_convex_clean.avi</td>\n",
              "    </tr>\n",
              "    <tr>\n",
              "      <th>15</th>\n",
              "      <td>71_pocusatlas_normal_prc_convex_clean.avi</td>\n",
              "    </tr>\n",
              "    <tr>\n",
              "      <th>16</th>\n",
              "      <td>86_butterfly_covid_prc_convex_clean.avi</td>\n",
              "    </tr>\n",
              "    <tr>\n",
              "      <th>17</th>\n",
              "      <td>3_butterfly_covid_prc_convex_clean.avi</td>\n",
              "    </tr>\n",
              "    <tr>\n",
              "      <th>18</th>\n",
              "      <td>153_radio_pneumonia_prc_convex_clean.avi</td>\n",
              "    </tr>\n",
              "    <tr>\n",
              "      <th>19</th>\n",
              "      <td>180_uf_normal_prc_convex_clean_aug.avi</td>\n",
              "    </tr>\n",
              "    <tr>\n",
              "      <th>20</th>\n",
              "      <td>1_butterfly_covid_prc_convex_clean.avi</td>\n",
              "    </tr>\n",
              "    <tr>\n",
              "      <th>21</th>\n",
              "      <td>79_pocusatlas_pneumonia_prc_convex_clean.avi</td>\n",
              "    </tr>\n",
              "    <tr>\n",
              "      <th>22</th>\n",
              "      <td>177_uf_normal_prc_convex_clean.avi</td>\n",
              "    </tr>\n",
              "    <tr>\n",
              "      <th>23</th>\n",
              "      <td>12_butterfly_covid_prc_convex_clean.avi</td>\n",
              "    </tr>\n",
              "    <tr>\n",
              "      <th>24</th>\n",
              "      <td>200_paper_covid_prc_convex_clean.avi</td>\n",
              "    </tr>\n",
              "    <tr>\n",
              "      <th>25</th>\n",
              "      <td>11_butterfly_covid_prc_convex_clean.avi</td>\n",
              "    </tr>\n",
              "    <tr>\n",
              "      <th>26</th>\n",
              "      <td>4_butterfly_covid_prc_convex_clean.avi</td>\n",
              "    </tr>\n",
              "    <tr>\n",
              "      <th>27</th>\n",
              "      <td>201_paper_covid_prc_convex_clean.avi</td>\n",
              "    </tr>\n",
              "    <tr>\n",
              "      <th>28</th>\n",
              "      <td>38_grepmed_pneumonia_prc_convex_clean.avi</td>\n",
              "    </tr>\n",
              "    <tr>\n",
              "      <th>29</th>\n",
              "      <td>48_litfl_pneumonia_prc_convex_clean.avi</td>\n",
              "    </tr>\n",
              "    <tr>\n",
              "      <th>30</th>\n",
              "      <td>88_butterfly_covid_prc_convex_clean.avi</td>\n",
              "    </tr>\n",
              "    <tr>\n",
              "      <th>31</th>\n",
              "      <td>184_uf_pneumonia_prc_convex_clean.avi</td>\n",
              "    </tr>\n",
              "    <tr>\n",
              "      <th>32</th>\n",
              "      <td>71_pocusatlas_normal_prc_convex_clean_aug.avi</td>\n",
              "    </tr>\n",
              "    <tr>\n",
              "      <th>33</th>\n",
              "      <td>36_grepmed_normal_prc_convex_clean_aug.avi</td>\n",
              "    </tr>\n",
              "    <tr>\n",
              "      <th>34</th>\n",
              "      <td>152_radio_normal_prc_convex_clean_aug.avi</td>\n",
              "    </tr>\n",
              "    <tr>\n",
              "      <th>35</th>\n",
              "      <td>42_grepmed_covid_prc_convex_clean.avi</td>\n",
              "    </tr>\n",
              "  </tbody>\n",
              "</table>\n",
              "</div>"
            ],
            "text/plain": [
              "                                         filename\n",
              "0        132_litfl_pneumonia_prc_convex_clean.avi\n",
              "1          218_clarius_covid_prc_convex_clean.avi\n",
              "2          220_clarius_covid_prc_convex_clean.avi\n",
              "3        151_litfl_pneumonia_prc_convex_clean.avi\n",
              "4              175_uf_normal_prc_convex_clean.avi\n",
              "5          7_butterfly_covid_prc_convex_clean.avi\n",
              "6         45_litfl_pneumonia_prc_convex_clean.avi\n",
              "7         93_butterfly_covid_prc_convex_clean.avi\n",
              "8         46_litfl_pneumonia_prc_convex_clean.avi\n",
              "9    72_pocusatlas_pneumonia_prc_convex_clean.avi\n",
              "10        236_clarius_normal_prc_convex_clean.avi\n",
              "11         8_butterfly_covid_prc_convex_clean.avi\n",
              "12  62_pocusatlas_normal_prc_convex_clean_aug.avi\n",
              "13             191_uf_normal_prc_convex_clean.avi\n",
              "14        89_butterfly_covid_prc_convex_clean.avi\n",
              "15      71_pocusatlas_normal_prc_convex_clean.avi\n",
              "16        86_butterfly_covid_prc_convex_clean.avi\n",
              "17         3_butterfly_covid_prc_convex_clean.avi\n",
              "18       153_radio_pneumonia_prc_convex_clean.avi\n",
              "19         180_uf_normal_prc_convex_clean_aug.avi\n",
              "20         1_butterfly_covid_prc_convex_clean.avi\n",
              "21   79_pocusatlas_pneumonia_prc_convex_clean.avi\n",
              "22             177_uf_normal_prc_convex_clean.avi\n",
              "23        12_butterfly_covid_prc_convex_clean.avi\n",
              "24           200_paper_covid_prc_convex_clean.avi\n",
              "25        11_butterfly_covid_prc_convex_clean.avi\n",
              "26         4_butterfly_covid_prc_convex_clean.avi\n",
              "27           201_paper_covid_prc_convex_clean.avi\n",
              "28      38_grepmed_pneumonia_prc_convex_clean.avi\n",
              "29        48_litfl_pneumonia_prc_convex_clean.avi\n",
              "30        88_butterfly_covid_prc_convex_clean.avi\n",
              "31          184_uf_pneumonia_prc_convex_clean.avi\n",
              "32  71_pocusatlas_normal_prc_convex_clean_aug.avi\n",
              "33     36_grepmed_normal_prc_convex_clean_aug.avi\n",
              "34      152_radio_normal_prc_convex_clean_aug.avi\n",
              "35          42_grepmed_covid_prc_convex_clean.avi"
            ]
          },
          "metadata": {},
          "execution_count": 14
        }
      ]
    },
    {
      "cell_type": "code",
      "metadata": {
        "colab": {
          "base_uri": "https://localhost:8080/"
        },
        "id": "GrQXOZSNh3VF",
        "outputId": "403970d2-831a-405f-af60-8956ad90b7c6"
      },
      "source": [
        "test_label=[]\n",
        "actual=[]\n",
        "predict=[]\n",
        "for i in range(test_dataset.shape[0]):\n",
        "\n",
        "    prediction_images = []\n",
        "    each_pred = [0, 0, 0]\n",
        "    count = 0\n",
        "    current = 0\n",
        "    videoFile = test_dataset['filename'][i]\n",
        "    disease = videoFile.split('_')[2]\n",
        "    if disease == 'covid' :\n",
        "      disease_num = 0\n",
        "    elif disease == 'pneumonia' :\n",
        "      disease_num = 1\n",
        "    else : disease_num = 2\n",
        "    actual.append(disease_num)\n",
        "    cap = cv2.VideoCapture('data/video/clean_copy2/' + videoFile) # capturing the video from the given path\n",
        "    frame_count = cap.get(cv2.CAP_PROP_FRAME_COUNT)\n",
        "    space = featuring_space(frame_count)\n",
        "    capture_epoch = math.floor( frame_count / (14*space) )\n",
        "    capture_num = capture_epoch*14\n",
        "\n",
        "    while(cap.isOpened()):\n",
        "      if(count!=0 and count%14==0 and len(prediction_images)!=0):\n",
        "        prediction_images=np.array(prediction_images)\n",
        "        prediction = model.predict(prediction_images.reshape(-1,14,224,224,3))\n",
        "        predict_temp =np.argmax(prediction,axis=1)\n",
        "        each_pred[predict_temp[0]]=each_pred[predict_temp[0]]+1\n",
        "        prediction_images=[]\n",
        "      if(count==capture_num):\n",
        "        break\n",
        "      cap.get(1)\n",
        "      ret, frame = cap.read()\n",
        "      if (ret != True):\n",
        "        break\n",
        "      if current%space==0 :\n",
        "        filename = 'data/images_captured_test/' + videoFile + \"_frame_%d.jpg\" % count; count += 1\n",
        "        cv2.imwrite(filename, frame)\n",
        "        img = image.load_img(filename, target_size=(height,width,channels))\n",
        "        img = image.img_to_array(img)\n",
        "        img = img/255\n",
        "        prediction_images.append(img)\n",
        "        if(count%14==0):\n",
        "          test_label.append(disease_num)\n",
        "      current=current+1\n",
        "    cap.release()\n",
        "    predict.append(np.argmax(each_pred))\n",
        "\n",
        "len(os.listdir('data/images_captured_test/'))"
      ],
      "execution_count": 17,
      "outputs": [
        {
          "output_type": "execute_result",
          "data": {
            "text/plain": [
              "812"
            ]
          },
          "metadata": {},
          "execution_count": 17
        }
      ]
    },
    {
      "cell_type": "code",
      "metadata": {
        "id": "C9Z3gQ0TmJEW",
        "colab": {
          "base_uri": "https://localhost:8080/"
        },
        "outputId": "dcea0934-b84b-4ea8-d5da-089725ca818f"
      },
      "source": [
        "print(\"Actual  Predict\")\n",
        "count=0\n",
        "for i in range(len(actual)) :\n",
        "  if count == len(actual):\n",
        "    count=0\n",
        "    print(\"\\nActual  Predict\")\n",
        "  print(actual[i],\"       \",predict[i])\n",
        "  count=count+1"
      ],
      "execution_count": 18,
      "outputs": [
        {
          "output_type": "stream",
          "name": "stdout",
          "text": [
            "Actual  Predict\n",
            "1         1\n",
            "0         1\n",
            "0         0\n",
            "1         0\n",
            "2         0\n",
            "0         0\n",
            "1         1\n",
            "0         0\n",
            "1         1\n",
            "1         1\n",
            "2         1\n",
            "0         0\n",
            "2         2\n",
            "2         0\n",
            "0         0\n",
            "2         2\n",
            "0         0\n",
            "0         0\n",
            "1         1\n",
            "2         2\n",
            "0         0\n",
            "1         1\n",
            "2         0\n",
            "0         0\n",
            "0         0\n",
            "0         0\n",
            "0         0\n",
            "0         0\n",
            "1         1\n",
            "1         1\n",
            "0         1\n",
            "1         1\n",
            "2         0\n",
            "2         2\n",
            "2         0\n",
            "0         0\n"
          ]
        }
      ]
    },
    {
      "cell_type": "code",
      "metadata": {
        "id": "Ykx8LRzyh3fo",
        "colab": {
          "base_uri": "https://localhost:8080/"
        },
        "outputId": "91f6f2a0-2c2b-4f5e-908a-64c377045aa7"
      },
      "source": [
        "# checking the accuracy of the predicted tags\n",
        "accuracy = accuracy_score(predict, actual)\n",
        "print('accuracy :', accuracy*100, '%')"
      ],
      "execution_count": 19,
      "outputs": [
        {
          "output_type": "stream",
          "name": "stdout",
          "text": [
            "accuracy : 75.0 %\n"
          ]
        }
      ]
    },
    {
      "cell_type": "code",
      "metadata": {
        "colab": {
          "base_uri": "https://localhost:8080/",
          "height": 1000
        },
        "id": "R1oQgw9RezJO",
        "outputId": "84edd7a3-c4d7-4238-f939-e8789fcbb2f6"
      },
      "source": [
        "con_mat = tf.math.confusion_matrix(labels=actual, predictions=predict, num_classes=3).numpy()\n",
        "\n",
        "print(\"<metrics of covid class>\\n\")\n",
        "\n",
        "TP = con_mat[0][0]                                                               # 관심 범주(positive)를 정확하게 분류\n",
        "FN = con_mat[0][1] + con_mat[0][2]                                               # 관심 범주를 아닌 것으로 잘못 분류\n",
        "FP = con_mat[1][0] + con_mat[2][0]                                               # 관심 범주가 아닌 것을 관심 범주로 잘못 분류\n",
        "TN = con_mat[1][1] + con_mat[1][2] + con_mat[2][1] + con_mat[2][2]               # 관심 범주가 아닌 것(negative)을 정확하게 분류\n",
        "print(' TP (true positive) :', TP, '\\n', \n",
        "      'FN (false negative) :', FN, '\\n', \n",
        "      'FP (false positive) :', FP, '\\n', \n",
        "      'TN (true negative) :', TN, '\\n')\n",
        "\n",
        "Accuracy = (TP+TN)/(TP+FN+FP+TN)                                                 # 정확도는 전체 중 모델이 바르게 분류한 비율\n",
        "print(' Accuracy (=(TP+TN)/(TP+FN+FP+TN)) :', '{:.4f}'.format(Accuracy))\n",
        "Error_rate = (FP+FN)/(TP+FN+FP+TN)                                               # 정확도의 반대\n",
        "print(' Error_rate (=(FP+FN)/(TP+FN+FP+TN)) :', '{:.4f}'.format(Error_rate))\n",
        "Precision = TP/(TP+FP)                                                           # 정밀도는 모델이 positive라 분류한 것 중 실제값이 positive인 비율\n",
        "print(' Precision (=TP/(TP+FP)) :', '{:.4f}'.format(Precision))\n",
        "Recall = TP/(TP+FN)                                                              # 재현도는 실제값이 positive인 것 중 모델이 positive라 분류한 비율 (Sensitivity)\n",
        "print(' Recall (=TP/(TP+FN)) :', '{:.4f}'.format(Recall))\n",
        "Specificity = TN/(FP+TN)                                                         # 특이도는 실제값이 negative인 것 중 모델이 negative라 분류한 비율\n",
        "print(' Specificity (=TN/(FP+TN)) :', '{:.4f}'.format(Specificity))\n",
        "F1_score = 2*(Recall*Precision)/(Recall+Precision)                               # 보통 불균형 분류 문제에서 평가 척도로 사용\n",
        "print(' F1_score (=2*(Recall*Precision)/(Recall+Precision)) :', '{:.4f}'.format(F1_score))\n",
        "print()\n",
        "print()\n",
        "\n",
        "print(\"<metrics of pneumonia class>\\n\")\n",
        "\n",
        "TP = con_mat[1][1]                                                               # 관심 범주(positive)를 정확하게 분류\n",
        "FN = con_mat[1][0] + con_mat[1][2]                                               # 관심 범주를 아닌 것으로 잘못 분류\n",
        "FP = con_mat[0][1] + con_mat[2][1]                                               # 관심 범주가 아닌 것을 관심 범주로 잘못 분류\n",
        "TN = con_mat[0][0] + con_mat[0][2] + con_mat[2][0] + con_mat[2][2]               # 관심 범주가 아닌 것(negative)을 정확하게 분류\n",
        "print(' TP (true positive) :', TP, '\\n', \n",
        "      'FN (false negative) :', FN, '\\n', \n",
        "      'FP (false positive) :', FP, '\\n', \n",
        "      'TN (true negative) :', TN, '\\n')\n",
        "\n",
        "Accuracy = (TP+TN)/(TP+FN+FP+TN)                                                 # 정확도는 전체 중 모델이 바르게 분류한 비율\n",
        "print(' Accuracy (=(TP+TN)/(TP+FN+FP+TN)) :', '{:.4f}'.format(Accuracy))\n",
        "Error_rate = (FP+FN)/(TP+FN+FP+TN)                                               # 정확도의 반대\n",
        "print(' Error_rate (=(FP+FN)/(TP+FN+FP+TN)) :', '{:.4f}'.format(Error_rate))\n",
        "Precision = TP/(TP+FP)                                                           # 정밀도는 모델이 positive라 분류한 것 중 실제값이 positive인 비율\n",
        "print(' Precision (=TP/(TP+FP)) :', '{:.4f}'.format(Precision))\n",
        "Recall = TP/(TP+FN)                                                              # 재현도는 실제값이 positive인 것 중 모델이 positive라 분류한 비율 (Sensitivity)\n",
        "print(' Recall (=TP/(TP+FN)) :', '{:.4f}'.format(Recall))\n",
        "Specificity = TN/(FP+TN)                                                         # 특이도는 실제값이 negative인 것 중 모델이 negative라 분류한 비율\n",
        "print(' Specificity (=TN/(FP+TN)) :', '{:.4f}'.format(Specificity))\n",
        "F1_score = 2*(Recall*Precision)/(Recall+Precision)                               # 보통 불균형 분류 문제에서 평가 척도로 사용\n",
        "print(' F1_score (=2*(Recall*Precision)/(Recall+Precision)) :', '{:.4f}'.format(F1_score))\n",
        "print()\n",
        "print()\n",
        "\n",
        "print(\"<metrics of normal class>\\n\")\n",
        "\n",
        "TP = con_mat[2][2]                                                               # 관심 범주(positive)를 정확하게 분류\n",
        "FN = con_mat[2][0] + con_mat[2][1]                                               # 관심 범주를 아닌 것으로 잘못 분류\n",
        "FP = con_mat[0][2] + con_mat[1][2]                                               # 관심 범주가 아닌 것을 관심 범주로 잘못 분류\n",
        "TN = con_mat[0][0] + con_mat[0][1] + con_mat[1][0] + con_mat[1][1]               # 관심 범주가 아닌 것(negative)을 정확하게 분류\n",
        "print(' TP (true positive) :', TP, '\\n', \n",
        "      'FN (false negative) :', FN, '\\n', \n",
        "      'FP (false positive) :', FP, '\\n', \n",
        "      'TN (true negative) :', TN, '\\n')\n",
        "\n",
        "Accuracy = (TP+TN)/(TP+FN+FP+TN)                                                 # 정확도는 전체 중 모델이 바르게 분류한 비율\n",
        "print(' Accuracy (=(TP+TN)/(TP+FN+FP+TN)) :', '{:.4f}'.format(Accuracy))\n",
        "Error_rate = (FP+FN)/(TP+FN+FP+TN)                                               # 정확도의 반대\n",
        "print(' Error_rate (=(FP+FN)/(TP+FN+FP+TN)) :', '{:.4f}'.format(Error_rate))\n",
        "Precision = TP/(TP+FP)                                                           # 정밀도는 모델이 positive라 분류한 것 중 실제값이 positive인 비율\n",
        "print(' Precision (=TP/(TP+FP)) :', '{:.4f}'.format(Precision))\n",
        "Recall = TP/(TP+FN)                                                              # 재현도는 실제값이 positive인 것 중 모델이 positive라 분류한 비율 (Sensitivity)\n",
        "print(' Recall (=TP/(TP+FN)) :', '{:.4f}'.format(Recall))\n",
        "Specificity = TN/(FP+TN)                                                         # 특이도는 실제값이 negative인 것 중 모델이 negative라 분류한 비율\n",
        "print(' Specificity (=TN/(FP+TN)) :', '{:.4f}'.format(Specificity))\n",
        "F1_score = 2*(Recall*Precision)/(Recall+Precision)                               # 보통 불균형 분류 문제에서 평가 척도로 사용\n",
        "print(' F1_score (=2*(Recall*Precision)/(Recall+Precision)) :', '{:.4f}'.format(F1_score))\n",
        "print()\n",
        "\n",
        "plt.imshow(con_mat)\n",
        "plt.title('Confusion Matrix', fontsize=15)\n",
        "plt.colorbar()\n",
        "label = [\"covid\", \"pneumonia\", \"normal\"]\n",
        "tick_marks = np.arange(len(label)) \n",
        "plt.xticks(tick_marks, label)\n",
        "plt.yticks(tick_marks, label)\n",
        "plt.xlabel('Predicted label', fontsize=12)\n",
        "plt.ylabel('True label', fontsize=12)\n",
        "# name = [['TP','FN'], ['FP', 'TN']]\n",
        "thresh = con_mat.max() / 2.\n",
        "for i in range(3):\n",
        "     for j in range(3):\n",
        "        plt.text(j, i, str(con_mat[i, j]), # str(name[i][j])+\" = \"+\n",
        "                 horizontalalignment=\"center\",\n",
        "                 color=\"white\" if con_mat[i, j] < thresh else \"black\",\n",
        "                 fontsize=16)\n",
        "plt.show()"
      ],
      "execution_count": 20,
      "outputs": [
        {
          "output_type": "stream",
          "name": "stdout",
          "text": [
            "<metrics of covid class>\n",
            "\n",
            " TP (true positive) : 14 \n",
            " FN (false negative) : 2 \n",
            " FP (false positive) : 6 \n",
            " TN (true negative) : 14 \n",
            "\n",
            " Accuracy (=(TP+TN)/(TP+FN+FP+TN)) : 0.7778\n",
            " Error_rate (=(FP+FN)/(TP+FN+FP+TN)) : 0.2222\n",
            " Precision (=TP/(TP+FP)) : 0.7000\n",
            " Recall (=TP/(TP+FN)) : 0.8750\n",
            " Specificity (=TN/(FP+TN)) : 0.7000\n",
            " F1_score (=2*(Recall*Precision)/(Recall+Precision)) : 0.7778\n",
            "\n",
            "\n",
            "<metrics of pneumonia class>\n",
            "\n",
            " TP (true positive) : 9 \n",
            " FN (false negative) : 1 \n",
            " FP (false positive) : 3 \n",
            " TN (true negative) : 23 \n",
            "\n",
            " Accuracy (=(TP+TN)/(TP+FN+FP+TN)) : 0.8889\n",
            " Error_rate (=(FP+FN)/(TP+FN+FP+TN)) : 0.1111\n",
            " Precision (=TP/(TP+FP)) : 0.7500\n",
            " Recall (=TP/(TP+FN)) : 0.9000\n",
            " Specificity (=TN/(FP+TN)) : 0.8846\n",
            " F1_score (=2*(Recall*Precision)/(Recall+Precision)) : 0.8182\n",
            "\n",
            "\n",
            "<metrics of normal class>\n",
            "\n",
            " TP (true positive) : 4 \n",
            " FN (false negative) : 6 \n",
            " FP (false positive) : 0 \n",
            " TN (true negative) : 26 \n",
            "\n",
            " Accuracy (=(TP+TN)/(TP+FN+FP+TN)) : 0.8333\n",
            " Error_rate (=(FP+FN)/(TP+FN+FP+TN)) : 0.1667\n",
            " Precision (=TP/(TP+FP)) : 1.0000\n",
            " Recall (=TP/(TP+FN)) : 0.4000\n",
            " Specificity (=TN/(FP+TN)) : 1.0000\n",
            " F1_score (=2*(Recall*Precision)/(Recall+Precision)) : 0.5714\n",
            "\n"
          ]
        },
        {
          "output_type": "display_data",
          "data": {
            "image/png": "[encoded data removed]",
            "text/plain": [
              "<Figure size 432x288 with 2 Axes>"
            ]
          },
          "metadata": {
            "needs_background": "light"
          }
        }
      ]
    },
    {
      "cell_type": "code",
      "metadata": {
        "colab": {
          "base_uri": "https://localhost:8080/",
          "height": 573
        },
        "id": "RJG_x3Y4fku0",
        "outputId": "93f75e80-07fc-4ea7-8c17-8edc7f06bbd6"
      },
      "source": [
        "from sklearn.preprocessing import label_binarize\n",
        "from sklearn.metrics import roc_curve, auc\n",
        "\n",
        "PREDICTION_LIST_1 = label_binarize(predict, classes=[0, 1, 2])\n",
        "ACTUAL_LIST_1 = label_binarize(actual, classes=[0, 1, 2])\n",
        "\n",
        "# Compute ROC curve and ROC area for each class\n",
        "fpr = dict()\n",
        "tpr = dict()\n",
        "roc_auc = dict()\n",
        "for i in range(3):\n",
        "    fpr[i], tpr[i], _ = roc_curve(ACTUAL_LIST_1[:, i], PREDICTION_LIST_1[:, i])\n",
        "    roc_auc[i] = auc(fpr[i], tpr[i])\n",
        "\n",
        "# Compute micro-average ROC curve and ROC area\n",
        "fpr[\"micro\"], tpr[\"micro\"], _ = roc_curve(ACTUAL_LIST_1.ravel(), PREDICTION_LIST_1.ravel())\n",
        "roc_auc[\"micro\"] = auc(fpr[\"micro\"], tpr[\"micro\"])\n",
        "\n",
        "# Plot of a ROC curve for a specific class\n",
        "plt.figure()\n",
        "plt.plot(fpr[2], tpr[2], label='ROC curve (area = %0.2f)' % roc_auc[2])\n",
        "plt.plot([0, 1], [0, 1], 'k--')\n",
        "plt.xlim([0.0, 1.0])\n",
        "plt.ylim([0.0, 1.05])\n",
        "plt.xlabel('False Positive Rate')\n",
        "plt.ylabel('True Positive Rate')\n",
        "plt.title('Receiver operating characteristic example')\n",
        "plt.legend(loc=\"lower right\")\n",
        "plt.show()\n",
        "\n",
        "# Plot ROC curve\n",
        "plt.figure()\n",
        "plt.plot(fpr[\"micro\"], tpr[\"micro\"],\n",
        "         label='micro-average ROC curve (area = {0:0.2f})'\n",
        "               ''.format(roc_auc[\"micro\"]))\n",
        "for i in range(3):\n",
        "    plt.plot(fpr[i], tpr[i], label='ROC curve of class {0} (area = {1:0.2f})'\n",
        "                                   ''.format(i, roc_auc[i]))\n",
        "\n",
        "plt.plot([0, 1], [0, 1], 'k--')\n",
        "plt.xlim([0.0, 1.0])\n",
        "plt.ylim([0.0, 1.05])\n",
        "plt.xlabel('False Positive Rate')\n",
        "plt.ylabel('True Positive Rate')\n",
        "plt.title('Receiver operating characteristic to multi-class')\n",
        "plt.legend(loc=\"lower right\")\n",
        "plt.show()"
      ],
      "execution_count": 21,
      "outputs": [
        {
          "output_type": "display_data",
          "data": {
            "image/png": "[encoded data removed]",
            "text/plain": [
              "<Figure size 432x288 with 1 Axes>"
            ]
          },
          "metadata": {
            "needs_background": "light"
          }
        },
        {
          "output_type": "display_data",
          "data": {
            "image/png": "[encoded data removed]",
            "text/plain": [
              "<Figure size 432x288 with 1 Axes>"
            ]
          },
          "metadata": {
            "needs_background": "light"
          }
        }
      ]
    }
  ]
}
