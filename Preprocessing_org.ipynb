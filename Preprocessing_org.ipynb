{
  "nbformat": 4,
  "nbformat_minor": 0,
  "metadata": {
    "accelerator": "GPU",
    "colab": {
      "name": "Preprocessing_org.ipynb",
      "provenance": [],
      "collapsed_sections": []
    },
    "kernelspec": {
      "display_name": "Python 3",
      "name": "python3"
    },
    "language_info": {
      "name": "python"
    }
  },
  "cells": [
    {
      "cell_type": "markdown",
      "metadata": {
        "id": "pq74TXZEWfS4"
      },
      "source": [
        "#video classification (1) of COVID-US (data preparation)"
      ]
    },
    {
      "cell_type": "markdown",
      "metadata": {
        "id": "QQAZaKtgfsT2"
      },
      "source": [
        "https://www.analyticsvidhya.com/blog/2019/09/step-by-step-deep-learning-tutorial-video-classification-python/"
      ]
    },
    {
      "cell_type": "markdown",
      "metadata": {
        "id": "xpKpVjqvWlOo"
      },
      "source": [
        "**preprocessed(clean) videos -> split -> pre-trained CNN** -> LSTM or GRU -> dense layer -> result(accuracy)"
      ]
    },
    {
      "cell_type": "code",
      "metadata": {
        "colab": {
          "base_uri": "https://localhost:8080/"
        },
        "id": "LgMnsSprV_N1",
        "outputId": "3bc0ec53-7e93-4552-a55d-997cc28ac575"
      },
      "source": [
        "from google.colab import drive\n",
        "drive.mount('/content/drive')"
      ],
      "execution_count": 1,
      "outputs": [
        {
          "output_type": "stream",
          "name": "stdout",
          "text": [
            "Drive already mounted at /content/drive; to attempt to forcibly remount, call drive.mount(\"/content/drive\", force_remount=True).\n"
          ]
        }
      ]
    },
    {
      "cell_type": "code",
      "metadata": {
        "colab": {
          "base_uri": "https://localhost:8080/"
        },
        "id": "60UizHN-WMkU",
        "outputId": "fa0a1672-9b70-44f0-f380-91b1bdf8a728"
      },
      "source": [
        "%cd /content/drive/MyDrive/dp/"
      ],
      "execution_count": 2,
      "outputs": [
        {
          "output_type": "stream",
          "name": "stdout",
          "text": [
            "/content/drive/MyDrive/dp\n"
          ]
        }
      ]
    },
    {
      "cell_type": "code",
      "metadata": {
        "id": "7alOyY5WWXba"
      },
      "source": [
        "route = '/content/drive/MyDrive/dp/'"
      ],
      "execution_count": 3,
      "outputs": []
    },
    {
      "cell_type": "markdown",
      "metadata": {
        "id": "vqOXyBl8YHC5"
      },
      "source": [
        "##0. Import libraries"
      ]
    },
    {
      "cell_type": "code",
      "metadata": {
        "id": "Efg_oibkYGFs"
      },
      "source": [
        "import cv2 # for capturing videos\n",
        "import math # for mathematical operations\n",
        "%matplotlib inline\n",
        "import matplotlib.pyplot as plt # for plotting the images\n",
        "import numpy as np # for mathematical operations\n",
        "import pandas as pd\n",
        "import tensorflow as tf\n",
        "\n",
        "from skimage.transform import resize # for resizing images\n",
        "from sklearn.model_selection import train_test_split\n",
        "from glob import glob\n",
        "from tqdm import tqdm\n",
        "\n",
        "import keras\n",
        "from keras.utils import np_utils\n",
        "from keras.preprocessing import image # for preprocessing the images\n",
        "from keras.models import Sequential\n",
        "from keras.applications.vgg16 import VGG16\n",
        "from tensorflow.keras.applications.resnet50 import ResNet50\n",
        "from keras.layers import Dense, InputLayer, Dropout, Flatten\n",
        "from keras.layers import Conv2D, MaxPooling2D, GlobalMaxPooling2D\n",
        "from keras.layers import TimeDistributed, GRU, LSTM, GlobalAveragePooling1D\n",
        "\n",
        "from scipy import stats as s\n",
        "from sklearn.metrics import accuracy_score\n",
        "\n",
        "import os\n",
        "import time\n",
        "import random\n",
        "import PIL\n",
        "from PIL import Image\n",
        "# import re\n",
        "# import shutil"
      ],
      "execution_count": 4,
      "outputs": []
    },
    {
      "cell_type": "code",
      "metadata": {
        "id": "I_iIxGM6Y9OY"
      },
      "source": [
        "frames=14\n",
        "width=224\n",
        "height=224\n",
        "channels=3\n",
        "train_test_ratio=0.3\n",
        "train_val_ratio=0.2"
      ],
      "execution_count": 5,
      "outputs": []
    },
    {
      "cell_type": "markdown",
      "metadata": {
        "id": "gwUSJAfSY3lp"
      },
      "source": [
        "##1. Prepare preprocessd(clean) videos"
      ]
    },
    {
      "cell_type": "code",
      "metadata": {
        "colab": {
          "base_uri": "https://localhost:8080/",
          "height": 423
        },
        "id": "04Q3re9OY2Wr",
        "outputId": "5728c450-ae75-478d-d21f-196d874caf4a"
      },
      "source": [
        "video_dataset = pd.read_csv(\"utils/video_files_clean_properties_addition.csv\")\n",
        "video_dataset"
      ],
      "execution_count": 6,
      "outputs": [
        {
          "output_type": "execute_result",
          "data": {
            "text/html": [
              "<div>\n",
              "<style scoped>\n",
              "    .dataframe tbody tr th:only-of-type {\n",
              "        vertical-align: middle;\n",
              "    }\n",
              "\n",
              "    .dataframe tbody tr th {\n",
              "        vertical-align: top;\n",
              "    }\n",
              "\n",
              "    .dataframe thead th {\n",
              "        text-align: right;\n",
              "    }\n",
              "</style>\n",
              "<table border=\"1\" class=\"dataframe\">\n",
              "  <thead>\n",
              "    <tr style=\"text-align: right;\">\n",
              "      <th></th>\n",
              "      <th>filename</th>\n",
              "      <th>framerate</th>\n",
              "      <th>width</th>\n",
              "      <th>height</th>\n",
              "      <th>frame_count</th>\n",
              "      <th>duration_secs</th>\n",
              "      <th>disease</th>\n",
              "      <th>source</th>\n",
              "    </tr>\n",
              "  </thead>\n",
              "  <tbody>\n",
              "    <tr>\n",
              "      <th>0</th>\n",
              "      <td>1_butterfly_covid_prc_convex_clean.avi</td>\n",
              "      <td>15.0</td>\n",
              "      <td>820.0</td>\n",
              "      <td>820.0</td>\n",
              "      <td>64.0</td>\n",
              "      <td>4.27</td>\n",
              "      <td>0</td>\n",
              "      <td>1</td>\n",
              "    </tr>\n",
              "    <tr>\n",
              "      <th>1</th>\n",
              "      <td>2_butterfly_covid_prc_convex_clean.avi</td>\n",
              "      <td>15.0</td>\n",
              "      <td>624.0</td>\n",
              "      <td>624.0</td>\n",
              "      <td>158.0</td>\n",
              "      <td>10.53</td>\n",
              "      <td>0</td>\n",
              "      <td>1</td>\n",
              "    </tr>\n",
              "    <tr>\n",
              "      <th>2</th>\n",
              "      <td>3_butterfly_covid_prc_convex_clean.avi</td>\n",
              "      <td>15.0</td>\n",
              "      <td>1054.0</td>\n",
              "      <td>1054.0</td>\n",
              "      <td>90.0</td>\n",
              "      <td>6.00</td>\n",
              "      <td>0</td>\n",
              "      <td>1</td>\n",
              "    </tr>\n",
              "    <tr>\n",
              "      <th>3</th>\n",
              "      <td>4_butterfly_covid_prc_convex_clean.avi</td>\n",
              "      <td>15.0</td>\n",
              "      <td>820.0</td>\n",
              "      <td>820.0</td>\n",
              "      <td>108.0</td>\n",
              "      <td>7.20</td>\n",
              "      <td>0</td>\n",
              "      <td>1</td>\n",
              "    </tr>\n",
              "    <tr>\n",
              "      <th>4</th>\n",
              "      <td>5_butterfly_covid_prc_convex_clean.avi</td>\n",
              "      <td>15.0</td>\n",
              "      <td>810.0</td>\n",
              "      <td>810.0</td>\n",
              "      <td>249.0</td>\n",
              "      <td>16.60</td>\n",
              "      <td>0</td>\n",
              "      <td>1</td>\n",
              "    </tr>\n",
              "    <tr>\n",
              "      <th>...</th>\n",
              "      <td>...</td>\n",
              "      <td>...</td>\n",
              "      <td>...</td>\n",
              "      <td>...</td>\n",
              "      <td>...</td>\n",
              "      <td>...</td>\n",
              "      <td>...</td>\n",
              "      <td>...</td>\n",
              "    </tr>\n",
              "    <tr>\n",
              "      <th>237</th>\n",
              "      <td>239_paper_normal_prc_convex_clean.avi</td>\n",
              "      <td>15.0</td>\n",
              "      <td>512.0</td>\n",
              "      <td>512.0</td>\n",
              "      <td>197.0</td>\n",
              "      <td>13.13</td>\n",
              "      <td>2</td>\n",
              "      <td>8</td>\n",
              "    </tr>\n",
              "    <tr>\n",
              "      <th>238</th>\n",
              "      <td>240_paper_other_prc_convex_clean.avi</td>\n",
              "      <td>15.0</td>\n",
              "      <td>512.0</td>\n",
              "      <td>512.0</td>\n",
              "      <td>96.0</td>\n",
              "      <td>6.40</td>\n",
              "      <td>2</td>\n",
              "      <td>8</td>\n",
              "    </tr>\n",
              "    <tr>\n",
              "      <th>239</th>\n",
              "      <td>241_paper_other_prc_convex_clean.avi</td>\n",
              "      <td>15.0</td>\n",
              "      <td>512.0</td>\n",
              "      <td>512.0</td>\n",
              "      <td>98.0</td>\n",
              "      <td>6.53</td>\n",
              "      <td>2</td>\n",
              "      <td>8</td>\n",
              "    </tr>\n",
              "    <tr>\n",
              "      <th>240</th>\n",
              "      <td>242_paper_other_prc_convex_clean.avi</td>\n",
              "      <td>15.0</td>\n",
              "      <td>512.0</td>\n",
              "      <td>512.0</td>\n",
              "      <td>299.0</td>\n",
              "      <td>19.93</td>\n",
              "      <td>2</td>\n",
              "      <td>8</td>\n",
              "    </tr>\n",
              "    <tr>\n",
              "      <th>241</th>\n",
              "      <td>243_paper_other_prc_convex_clean.avi</td>\n",
              "      <td>15.0</td>\n",
              "      <td>512.0</td>\n",
              "      <td>512.0</td>\n",
              "      <td>447.0</td>\n",
              "      <td>29.80</td>\n",
              "      <td>2</td>\n",
              "      <td>8</td>\n",
              "    </tr>\n",
              "  </tbody>\n",
              "</table>\n",
              "<p>242 rows × 8 columns</p>\n",
              "</div>"
            ],
            "text/plain": [
              "                                   filename  framerate  ...  disease  source\n",
              "0    1_butterfly_covid_prc_convex_clean.avi       15.0  ...        0       1\n",
              "1    2_butterfly_covid_prc_convex_clean.avi       15.0  ...        0       1\n",
              "2    3_butterfly_covid_prc_convex_clean.avi       15.0  ...        0       1\n",
              "3    4_butterfly_covid_prc_convex_clean.avi       15.0  ...        0       1\n",
              "4    5_butterfly_covid_prc_convex_clean.avi       15.0  ...        0       1\n",
              "..                                      ...        ...  ...      ...     ...\n",
              "237   239_paper_normal_prc_convex_clean.avi       15.0  ...        2       8\n",
              "238    240_paper_other_prc_convex_clean.avi       15.0  ...        2       8\n",
              "239    241_paper_other_prc_convex_clean.avi       15.0  ...        2       8\n",
              "240    242_paper_other_prc_convex_clean.avi       15.0  ...        2       8\n",
              "241    243_paper_other_prc_convex_clean.avi       15.0  ...        2       8\n",
              "\n",
              "[242 rows x 8 columns]"
            ]
          },
          "metadata": {},
          "execution_count": 6
        }
      ]
    },
    {
      "cell_type": "code",
      "metadata": {
        "colab": {
          "base_uri": "https://localhost:8080/",
          "height": 423
        },
        "id": "JpXa5xZybCeo",
        "outputId": "59260bb0-edc6-4927-b786-99e09177a321"
      },
      "source": [
        "video_dataset=video_dataset[video_dataset['filename'].str.contains('covid|pneumonia|normal')]\n",
        "video_dataset=video_dataset[video_dataset['filename'].str.contains('convex')]\n",
        "\n",
        "video_dataset"
      ],
      "execution_count": 7,
      "outputs": [
        {
          "output_type": "execute_result",
          "data": {
            "text/html": [
              "<div>\n",
              "<style scoped>\n",
              "    .dataframe tbody tr th:only-of-type {\n",
              "        vertical-align: middle;\n",
              "    }\n",
              "\n",
              "    .dataframe tbody tr th {\n",
              "        vertical-align: top;\n",
              "    }\n",
              "\n",
              "    .dataframe thead th {\n",
              "        text-align: right;\n",
              "    }\n",
              "</style>\n",
              "<table border=\"1\" class=\"dataframe\">\n",
              "  <thead>\n",
              "    <tr style=\"text-align: right;\">\n",
              "      <th></th>\n",
              "      <th>filename</th>\n",
              "      <th>framerate</th>\n",
              "      <th>width</th>\n",
              "      <th>height</th>\n",
              "      <th>frame_count</th>\n",
              "      <th>duration_secs</th>\n",
              "      <th>disease</th>\n",
              "      <th>source</th>\n",
              "    </tr>\n",
              "  </thead>\n",
              "  <tbody>\n",
              "    <tr>\n",
              "      <th>0</th>\n",
              "      <td>1_butterfly_covid_prc_convex_clean.avi</td>\n",
              "      <td>15.0</td>\n",
              "      <td>820.0</td>\n",
              "      <td>820.0</td>\n",
              "      <td>64.0</td>\n",
              "      <td>4.27</td>\n",
              "      <td>0</td>\n",
              "      <td>1</td>\n",
              "    </tr>\n",
              "    <tr>\n",
              "      <th>1</th>\n",
              "      <td>2_butterfly_covid_prc_convex_clean.avi</td>\n",
              "      <td>15.0</td>\n",
              "      <td>624.0</td>\n",
              "      <td>624.0</td>\n",
              "      <td>158.0</td>\n",
              "      <td>10.53</td>\n",
              "      <td>0</td>\n",
              "      <td>1</td>\n",
              "    </tr>\n",
              "    <tr>\n",
              "      <th>2</th>\n",
              "      <td>3_butterfly_covid_prc_convex_clean.avi</td>\n",
              "      <td>15.0</td>\n",
              "      <td>1054.0</td>\n",
              "      <td>1054.0</td>\n",
              "      <td>90.0</td>\n",
              "      <td>6.00</td>\n",
              "      <td>0</td>\n",
              "      <td>1</td>\n",
              "    </tr>\n",
              "    <tr>\n",
              "      <th>3</th>\n",
              "      <td>4_butterfly_covid_prc_convex_clean.avi</td>\n",
              "      <td>15.0</td>\n",
              "      <td>820.0</td>\n",
              "      <td>820.0</td>\n",
              "      <td>108.0</td>\n",
              "      <td>7.20</td>\n",
              "      <td>0</td>\n",
              "      <td>1</td>\n",
              "    </tr>\n",
              "    <tr>\n",
              "      <th>4</th>\n",
              "      <td>5_butterfly_covid_prc_convex_clean.avi</td>\n",
              "      <td>15.0</td>\n",
              "      <td>810.0</td>\n",
              "      <td>810.0</td>\n",
              "      <td>249.0</td>\n",
              "      <td>16.60</td>\n",
              "      <td>0</td>\n",
              "      <td>1</td>\n",
              "    </tr>\n",
              "    <tr>\n",
              "      <th>...</th>\n",
              "      <td>...</td>\n",
              "      <td>...</td>\n",
              "      <td>...</td>\n",
              "      <td>...</td>\n",
              "      <td>...</td>\n",
              "      <td>...</td>\n",
              "      <td>...</td>\n",
              "      <td>...</td>\n",
              "    </tr>\n",
              "    <tr>\n",
              "      <th>231</th>\n",
              "      <td>233_clarius_pneumonia_prc_convex_clean.avi</td>\n",
              "      <td>15.0</td>\n",
              "      <td>458.0</td>\n",
              "      <td>458.0</td>\n",
              "      <td>482.0</td>\n",
              "      <td>32.13</td>\n",
              "      <td>1</td>\n",
              "      <td>9</td>\n",
              "    </tr>\n",
              "    <tr>\n",
              "      <th>232</th>\n",
              "      <td>234_clarius_pneumonia_prc_convex_clean.avi</td>\n",
              "      <td>15.0</td>\n",
              "      <td>458.0</td>\n",
              "      <td>458.0</td>\n",
              "      <td>482.0</td>\n",
              "      <td>32.13</td>\n",
              "      <td>1</td>\n",
              "      <td>9</td>\n",
              "    </tr>\n",
              "    <tr>\n",
              "      <th>233</th>\n",
              "      <td>235_clarius_pneumonia_prc_convex_clean.avi</td>\n",
              "      <td>15.0</td>\n",
              "      <td>458.0</td>\n",
              "      <td>458.0</td>\n",
              "      <td>481.0</td>\n",
              "      <td>32.07</td>\n",
              "      <td>1</td>\n",
              "      <td>9</td>\n",
              "    </tr>\n",
              "    <tr>\n",
              "      <th>234</th>\n",
              "      <td>236_clarius_normal_prc_convex_clean.avi</td>\n",
              "      <td>15.0</td>\n",
              "      <td>482.0</td>\n",
              "      <td>482.0</td>\n",
              "      <td>365.0</td>\n",
              "      <td>24.33</td>\n",
              "      <td>2</td>\n",
              "      <td>9</td>\n",
              "    </tr>\n",
              "    <tr>\n",
              "      <th>237</th>\n",
              "      <td>239_paper_normal_prc_convex_clean.avi</td>\n",
              "      <td>15.0</td>\n",
              "      <td>512.0</td>\n",
              "      <td>512.0</td>\n",
              "      <td>197.0</td>\n",
              "      <td>13.13</td>\n",
              "      <td>2</td>\n",
              "      <td>8</td>\n",
              "    </tr>\n",
              "  </tbody>\n",
              "</table>\n",
              "<p>122 rows × 8 columns</p>\n",
              "</div>"
            ],
            "text/plain": [
              "                                       filename  framerate  ...  disease  source\n",
              "0        1_butterfly_covid_prc_convex_clean.avi       15.0  ...        0       1\n",
              "1        2_butterfly_covid_prc_convex_clean.avi       15.0  ...        0       1\n",
              "2        3_butterfly_covid_prc_convex_clean.avi       15.0  ...        0       1\n",
              "3        4_butterfly_covid_prc_convex_clean.avi       15.0  ...        0       1\n",
              "4        5_butterfly_covid_prc_convex_clean.avi       15.0  ...        0       1\n",
              "..                                          ...        ...  ...      ...     ...\n",
              "231  233_clarius_pneumonia_prc_convex_clean.avi       15.0  ...        1       9\n",
              "232  234_clarius_pneumonia_prc_convex_clean.avi       15.0  ...        1       9\n",
              "233  235_clarius_pneumonia_prc_convex_clean.avi       15.0  ...        1       9\n",
              "234     236_clarius_normal_prc_convex_clean.avi       15.0  ...        2       9\n",
              "237       239_paper_normal_prc_convex_clean.avi       15.0  ...        2       8\n",
              "\n",
              "[122 rows x 8 columns]"
            ]
          },
          "metadata": {},
          "execution_count": 7
        }
      ]
    },
    {
      "cell_type": "code",
      "metadata": {
        "id": "LBPN9N60ei9S"
      },
      "source": [
        "# separating the target\n",
        "X = video_dataset\n",
        "y = video_dataset['disease']\n",
        "\n",
        "# creating the training and validation set\n",
        "X_training, X_test, y_training, y_test = train_test_split(X, y, test_size=train_test_ratio, stratify = y)\n",
        "X_train, X_val, y_train, y_val = train_test_split(X_training, y_training, shuffle=True, test_size=train_val_ratio, stratify = y_training)\n",
        "\n",
        "X_train = X_train.reset_index(drop = True)\n",
        "X_val = X_val.reset_index(drop = True)\n",
        "X_test = X_test.reset_index(drop = True)\n",
        "y_train = y_train.reset_index(drop = True)\n",
        "y_val = y_val.reset_index(drop = True)\n",
        "y_test = y_test.reset_index(drop = True)"
      ],
      "execution_count": 8,
      "outputs": []
    },
    {
      "cell_type": "code",
      "metadata": {
        "colab": {
          "base_uri": "https://localhost:8080/"
        },
        "id": "x03WmlP_Ntzq",
        "outputId": "11d5a0c5-324f-4c4b-83f5-cb15c0da8c9d"
      },
      "source": [
        "print(\"X_train size : {}\".format(X_train.shape))\n",
        "print(\"y_train size : {}\".format(y_train.shape))\n",
        "print(\"X_val size : {}\".format(X_val.shape))\n",
        "print(\"y_val size : {}\".format(y_val.shape))\n",
        "print(\"X_test size : {}\".format(X_test.shape))\n",
        "print(\"y_test size : {}\".format(y_test.shape))"
      ],
      "execution_count": 9,
      "outputs": [
        {
          "output_type": "stream",
          "name": "stdout",
          "text": [
            "X_train size : (68, 8)\n",
            "y_train size : (68,)\n",
            "X_val size : (17, 8)\n",
            "y_val size : (17,)\n",
            "X_test size : (37, 8)\n",
            "y_test size : (37,)\n"
          ]
        }
      ]
    },
    {
      "cell_type": "markdown",
      "metadata": {
        "id": "h5ncO1GXPyrE"
      },
      "source": [
        "test 영상만 이후 evaluate 하는 과정에서 frame을 추출하므로 파일 이름을 csv 파일로 저장"
      ]
    },
    {
      "cell_type": "code",
      "metadata": {
        "id": "h55Ns63aOwlB"
      },
      "source": [
        "# storing the frames from training videos\n",
        "test_dataset = pd.DataFrame()\n",
        "test_dataset['filename'] = X_test['filename']\n",
        "test_dataset.to_csv('data/test_dataset.csv', header=True, index=False)"
      ],
      "execution_count": 10,
      "outputs": []
    },
    {
      "cell_type": "markdown",
      "metadata": {
        "id": "jcM5YdX7S4RX"
      },
      "source": [
        "train 영상과 val 영상은 지금 frame을 추출\n",
        "\n",
        "다음 과정에서 생성되는 폴더는 코드를 다시 실행하는 경우 중복이나 필요없는 데이터를 제거하기 위해 이 폴더를 삭제하고 진행 (다음 코드 참고)"
      ]
    },
    {
      "cell_type": "code",
      "metadata": {
        "id": "J5ZP95KnZypW"
      },
      "source": [
        "# create images_14frames_train and images_14frames_val folders, if they do not exist\n",
        "if not os.path.exists('data/images_captured_train'):\n",
        "    os.makedirs('data/images_captured_train')\n",
        "if not os.path.exists('data/images_captured_val'):\n",
        "    os.makedirs('data/images_captured_val')\n",
        "\n",
        "files = glob('data/images_captured_train/*')\n",
        "for f in files:\n",
        "    os.remove(f)\n",
        "files = glob('data/images_captured_val/*')\n",
        "for f in files:\n",
        "    os.remove(f)"
      ],
      "execution_count": 11,
      "outputs": []
    },
    {
      "cell_type": "markdown",
      "metadata": {
        "id": "vpLuhCJ9tTrr"
      },
      "source": [
        "Converts a PIL Image instance to a Numpy array. \n",
        "(tf.keras.image.img_to_array와 동일)"
      ]
    },
    {
      "cell_type": "code",
      "metadata": {
        "id": "ujpqaCA1Efpu"
      },
      "source": [
        "def load_image_into_numpy_array(image):\n",
        "  (im_width, im_height) = image.size\n",
        "  return np.array(image.getdata()).reshape(\n",
        "\t  (im_height, im_width, channels)).astype(np.uint8)\n",
        "   \n",
        "def featuring_space(frame_count):\n",
        "  if frame_count<28:\n",
        "    return 1\n",
        "  elif frame_count<56:\n",
        "    return 2\n",
        "  elif frame_count<80:\n",
        "    return 3\n",
        "  elif frame_count<120:\n",
        "    return 4\n",
        "  else : return 5"
      ],
      "execution_count": 12,
      "outputs": []
    },
    {
      "cell_type": "markdown",
      "metadata": {
        "id": "VgmWKRrlzpNY"
      },
      "source": [
        "**모든 영상에서 뽑아내는 frame 길이를 동일하게 맞춘 뒤에 LSTM을 통과시키고자**\n",
        "\n",
        "**모든 영상에 대해 frames에 해당하는 프레임을 capture함**"
      ]
    },
    {
      "cell_type": "code",
      "metadata": {
        "colab": {
          "base_uri": "https://localhost:8080/"
        },
        "id": "Y2-u_fRuaCU1",
        "outputId": "0e0abed7-9a2a-435a-fb18-b5dd0e1f8374"
      },
      "source": [
        "train_label=[]\n",
        "for i in tqdm(range(X_train.shape[0])):\n",
        "\n",
        "    count = 0\n",
        "    current = 0\n",
        "    videoFile = X_train['filename'][i]\n",
        "    disease = videoFile.split('_')[2]\n",
        "    if disease == 'covid' :\n",
        "      disease_num = 0\n",
        "    elif disease == 'pneumonia' :\n",
        "      disease_num = 1\n",
        "    else : disease_num = 2\n",
        "    cap = cv2.VideoCapture('data/video/clean/' + videoFile) # capturing the video from the given path\n",
        "    frame_count = cap.get(cv2.CAP_PROP_FRAME_COUNT)\n",
        "    space = featuring_space(frame_count)\n",
        "    capture_epoch = math.floor( frame_count / (14*space) )\n",
        "    capture_num = capture_epoch*14\n",
        "\n",
        "    while(cap.isOpened()):\n",
        "      if(count==capture_num):\n",
        "        break\n",
        "      cap.get(1)\n",
        "      ret, frame = cap.read()\n",
        "      if (ret != True):\n",
        "        break\n",
        "      if current%space==0 :\n",
        "        filename = 'data/images_captured_train/' + videoFile + \"_frame_%d.jpg\" % count; count += 1\n",
        "        cv2.imwrite(filename, frame)\n",
        "        if(count%14==0):\n",
        "          train_label.append(disease_num)\n",
        "      current=current+1\n",
        "    cap.release()\n",
        "\n",
        "len(os.listdir('data/images_captured_train/'))"
      ],
      "execution_count": 13,
      "outputs": [
        {
          "output_type": "stream",
          "name": "stderr",
          "text": [
            "100%|██████████| 68/68 [00:41<00:00,  1.65it/s]\n"
          ]
        },
        {
          "output_type": "execute_result",
          "data": {
            "text/plain": [
              "1722"
            ]
          },
          "metadata": {},
          "execution_count": 13
        }
      ]
    },
    {
      "cell_type": "code",
      "metadata": {
        "colab": {
          "base_uri": "https://localhost:8080/"
        },
        "id": "Zs964MKlR_-G",
        "outputId": "f3e74d96-d87e-4d5e-cc97-dd8fe6c02011"
      },
      "source": [
        "val_label=[]\n",
        "for i in tqdm(range(X_val.shape[0])):\n",
        "\n",
        "    count = 0\n",
        "    current = 0\n",
        "    videoFile = X_val['filename'][i]\n",
        "    disease = videoFile.split('_')[2]\n",
        "    if disease == 'covid' :\n",
        "      disease_num = 0\n",
        "    elif disease == 'pneumonia' :\n",
        "      disease_num = 1\n",
        "    else : disease_num = 2\n",
        "    cap = cv2.VideoCapture('data/video/clean/' + videoFile) # capturing the video from the given path\n",
        "    frame_count = cap.get(cv2.CAP_PROP_FRAME_COUNT)\n",
        "    space = featuring_space(frame_count)\n",
        "    capture_epoch = math.floor( frame_count / (14*space) )\n",
        "    capture_num = capture_epoch*14\n",
        "\n",
        "    while(cap.isOpened()):\n",
        "      if(count==capture_num):\n",
        "        break\n",
        "      cap.get(1)\n",
        "      ret, frame = cap.read()\n",
        "      if (ret != True):\n",
        "        break\n",
        "      if current%space==0 :\n",
        "        filename = 'data/images_captured_val/' + videoFile + \"_frame_%d.jpg\" % count; count += 1\n",
        "        cv2.imwrite(filename, frame)\n",
        "        if(count%14==0):\n",
        "          val_label.append(disease_num)\n",
        "      current=current+1\n",
        "    cap.release()\n",
        "\n",
        "len(os.listdir('data/images_captured_val/'))"
      ],
      "execution_count": 14,
      "outputs": [
        {
          "output_type": "stream",
          "name": "stderr",
          "text": [
            "100%|██████████| 17/17 [00:10<00:00,  1.66it/s]\n"
          ]
        },
        {
          "output_type": "execute_result",
          "data": {
            "text/plain": [
              "406"
            ]
          },
          "metadata": {},
          "execution_count": 14
        }
      ]
    },
    {
      "cell_type": "code",
      "metadata": {
        "colab": {
          "base_uri": "https://localhost:8080/",
          "height": 582
        },
        "id": "CwnCFPbPTYbh",
        "outputId": "334994d1-576f-4709-a0b1-0e3e459fe246"
      },
      "source": [
        "X_val"
      ],
      "execution_count": 15,
      "outputs": [
        {
          "output_type": "execute_result",
          "data": {
            "text/html": [
              "<div>\n",
              "<style scoped>\n",
              "    .dataframe tbody tr th:only-of-type {\n",
              "        vertical-align: middle;\n",
              "    }\n",
              "\n",
              "    .dataframe tbody tr th {\n",
              "        vertical-align: top;\n",
              "    }\n",
              "\n",
              "    .dataframe thead th {\n",
              "        text-align: right;\n",
              "    }\n",
              "</style>\n",
              "<table border=\"1\" class=\"dataframe\">\n",
              "  <thead>\n",
              "    <tr style=\"text-align: right;\">\n",
              "      <th></th>\n",
              "      <th>filename</th>\n",
              "      <th>framerate</th>\n",
              "      <th>width</th>\n",
              "      <th>height</th>\n",
              "      <th>frame_count</th>\n",
              "      <th>duration_secs</th>\n",
              "      <th>disease</th>\n",
              "      <th>source</th>\n",
              "    </tr>\n",
              "  </thead>\n",
              "  <tbody>\n",
              "    <tr>\n",
              "      <th>0</th>\n",
              "      <td>220_clarius_covid_prc_convex_clean.avi</td>\n",
              "      <td>15.0</td>\n",
              "      <td>400.0</td>\n",
              "      <td>400.0</td>\n",
              "      <td>118.0</td>\n",
              "      <td>7.87</td>\n",
              "      <td>0</td>\n",
              "      <td>9</td>\n",
              "    </tr>\n",
              "    <tr>\n",
              "      <th>1</th>\n",
              "      <td>12_butterfly_covid_prc_convex_clean.avi</td>\n",
              "      <td>15.0</td>\n",
              "      <td>820.0</td>\n",
              "      <td>820.0</td>\n",
              "      <td>111.0</td>\n",
              "      <td>7.40</td>\n",
              "      <td>0</td>\n",
              "      <td>1</td>\n",
              "    </tr>\n",
              "    <tr>\n",
              "      <th>2</th>\n",
              "      <td>203_paper_covid_prc_convex_clean.avi</td>\n",
              "      <td>15.0</td>\n",
              "      <td>680.0</td>\n",
              "      <td>680.0</td>\n",
              "      <td>242.0</td>\n",
              "      <td>16.13</td>\n",
              "      <td>0</td>\n",
              "      <td>8</td>\n",
              "    </tr>\n",
              "    <tr>\n",
              "      <th>3</th>\n",
              "      <td>191_uf_normal_prc_convex_clean.avi</td>\n",
              "      <td>15.0</td>\n",
              "      <td>542.0</td>\n",
              "      <td>542.0</td>\n",
              "      <td>120.0</td>\n",
              "      <td>8.00</td>\n",
              "      <td>2</td>\n",
              "      <td>7</td>\n",
              "    </tr>\n",
              "    <tr>\n",
              "      <th>4</th>\n",
              "      <td>85_butterfly_covid_prc_convex_clean.avi</td>\n",
              "      <td>15.0</td>\n",
              "      <td>622.0</td>\n",
              "      <td>622.0</td>\n",
              "      <td>153.0</td>\n",
              "      <td>10.20</td>\n",
              "      <td>0</td>\n",
              "      <td>1</td>\n",
              "    </tr>\n",
              "    <tr>\n",
              "      <th>5</th>\n",
              "      <td>9_butterfly_covid_prc_convex_clean.avi</td>\n",
              "      <td>15.0</td>\n",
              "      <td>1054.0</td>\n",
              "      <td>1054.0</td>\n",
              "      <td>80.0</td>\n",
              "      <td>5.33</td>\n",
              "      <td>0</td>\n",
              "      <td>1</td>\n",
              "    </tr>\n",
              "    <tr>\n",
              "      <th>6</th>\n",
              "      <td>81_butterfly_covid_prc_convex_clean.avi</td>\n",
              "      <td>15.0</td>\n",
              "      <td>656.0</td>\n",
              "      <td>656.0</td>\n",
              "      <td>242.0</td>\n",
              "      <td>16.13</td>\n",
              "      <td>0</td>\n",
              "      <td>1</td>\n",
              "    </tr>\n",
              "    <tr>\n",
              "      <th>7</th>\n",
              "      <td>73_pocusatlas_covid_prc_convex_clean.avi</td>\n",
              "      <td>15.0</td>\n",
              "      <td>406.0</td>\n",
              "      <td>406.0</td>\n",
              "      <td>46.0</td>\n",
              "      <td>3.07</td>\n",
              "      <td>0</td>\n",
              "      <td>4</td>\n",
              "    </tr>\n",
              "    <tr>\n",
              "      <th>8</th>\n",
              "      <td>80_pocusatlas_pneumonia_prc_convex_clean.avi</td>\n",
              "      <td>15.0</td>\n",
              "      <td>196.0</td>\n",
              "      <td>196.0</td>\n",
              "      <td>30.0</td>\n",
              "      <td>2.00</td>\n",
              "      <td>1</td>\n",
              "      <td>4</td>\n",
              "    </tr>\n",
              "    <tr>\n",
              "      <th>9</th>\n",
              "      <td>221_clarius_covid_prc_convex_clean.avi</td>\n",
              "      <td>15.0</td>\n",
              "      <td>400.0</td>\n",
              "      <td>400.0</td>\n",
              "      <td>83.0</td>\n",
              "      <td>5.53</td>\n",
              "      <td>0</td>\n",
              "      <td>9</td>\n",
              "    </tr>\n",
              "    <tr>\n",
              "      <th>10</th>\n",
              "      <td>190_uf_normal_prc_convex_clean.avi</td>\n",
              "      <td>15.0</td>\n",
              "      <td>528.0</td>\n",
              "      <td>528.0</td>\n",
              "      <td>82.0</td>\n",
              "      <td>5.47</td>\n",
              "      <td>2</td>\n",
              "      <td>7</td>\n",
              "    </tr>\n",
              "    <tr>\n",
              "      <th>11</th>\n",
              "      <td>25_grepmed_pneumonia_prc_convex_clean.avi</td>\n",
              "      <td>15.0</td>\n",
              "      <td>664.0</td>\n",
              "      <td>664.0</td>\n",
              "      <td>300.0</td>\n",
              "      <td>20.00</td>\n",
              "      <td>1</td>\n",
              "      <td>2</td>\n",
              "    </tr>\n",
              "    <tr>\n",
              "      <th>12</th>\n",
              "      <td>2_butterfly_covid_prc_convex_clean.avi</td>\n",
              "      <td>15.0</td>\n",
              "      <td>624.0</td>\n",
              "      <td>624.0</td>\n",
              "      <td>158.0</td>\n",
              "      <td>10.53</td>\n",
              "      <td>0</td>\n",
              "      <td>1</td>\n",
              "    </tr>\n",
              "    <tr>\n",
              "      <th>13</th>\n",
              "      <td>41_grepmed_pneumonia_prc_convex_clean.avi</td>\n",
              "      <td>15.0</td>\n",
              "      <td>386.0</td>\n",
              "      <td>386.0</td>\n",
              "      <td>151.0</td>\n",
              "      <td>10.07</td>\n",
              "      <td>1</td>\n",
              "      <td>2</td>\n",
              "    </tr>\n",
              "    <tr>\n",
              "      <th>14</th>\n",
              "      <td>48_litfl_pneumonia_prc_convex_clean.avi</td>\n",
              "      <td>15.0</td>\n",
              "      <td>540.0</td>\n",
              "      <td>540.0</td>\n",
              "      <td>14.0</td>\n",
              "      <td>0.93</td>\n",
              "      <td>1</td>\n",
              "      <td>3</td>\n",
              "    </tr>\n",
              "    <tr>\n",
              "      <th>15</th>\n",
              "      <td>121_litfl_pneumonia_prc_convex_clean.avi</td>\n",
              "      <td>15.0</td>\n",
              "      <td>360.0</td>\n",
              "      <td>360.0</td>\n",
              "      <td>27.0</td>\n",
              "      <td>1.80</td>\n",
              "      <td>1</td>\n",
              "      <td>3</td>\n",
              "    </tr>\n",
              "    <tr>\n",
              "      <th>16</th>\n",
              "      <td>229_clarius_pneumonia_prc_convex_clean.avi</td>\n",
              "      <td>15.0</td>\n",
              "      <td>458.0</td>\n",
              "      <td>458.0</td>\n",
              "      <td>188.0</td>\n",
              "      <td>12.53</td>\n",
              "      <td>1</td>\n",
              "      <td>9</td>\n",
              "    </tr>\n",
              "  </tbody>\n",
              "</table>\n",
              "</div>"
            ],
            "text/plain": [
              "                                        filename  framerate  ...  disease  source\n",
              "0         220_clarius_covid_prc_convex_clean.avi       15.0  ...        0       9\n",
              "1        12_butterfly_covid_prc_convex_clean.avi       15.0  ...        0       1\n",
              "2           203_paper_covid_prc_convex_clean.avi       15.0  ...        0       8\n",
              "3             191_uf_normal_prc_convex_clean.avi       15.0  ...        2       7\n",
              "4        85_butterfly_covid_prc_convex_clean.avi       15.0  ...        0       1\n",
              "5         9_butterfly_covid_prc_convex_clean.avi       15.0  ...        0       1\n",
              "6        81_butterfly_covid_prc_convex_clean.avi       15.0  ...        0       1\n",
              "7       73_pocusatlas_covid_prc_convex_clean.avi       15.0  ...        0       4\n",
              "8   80_pocusatlas_pneumonia_prc_convex_clean.avi       15.0  ...        1       4\n",
              "9         221_clarius_covid_prc_convex_clean.avi       15.0  ...        0       9\n",
              "10            190_uf_normal_prc_convex_clean.avi       15.0  ...        2       7\n",
              "11     25_grepmed_pneumonia_prc_convex_clean.avi       15.0  ...        1       2\n",
              "12        2_butterfly_covid_prc_convex_clean.avi       15.0  ...        0       1\n",
              "13     41_grepmed_pneumonia_prc_convex_clean.avi       15.0  ...        1       2\n",
              "14       48_litfl_pneumonia_prc_convex_clean.avi       15.0  ...        1       3\n",
              "15      121_litfl_pneumonia_prc_convex_clean.avi       15.0  ...        1       3\n",
              "16    229_clarius_pneumonia_prc_convex_clean.avi       15.0  ...        1       9\n",
              "\n",
              "[17 rows x 8 columns]"
            ]
          },
          "metadata": {},
          "execution_count": 15
        }
      ]
    },
    {
      "cell_type": "code",
      "metadata": {
        "colab": {
          "base_uri": "https://localhost:8080/"
        },
        "id": "yq1zGQQUZRZq",
        "outputId": "bed5b16d-57a7-4388-fb98-0625f969cf84"
      },
      "source": [
        "train_images = glob(\"data/images_captured_train/*.jpg\")\n",
        "\n",
        "train_image_name = []\n",
        "train_image_class = []\n",
        "for i in tqdm(range(len(train_images))):\n",
        "    # creating the image name\n",
        "    train_image_name.append(train_images[i].split('/')[2])\n",
        "    # creating the class of image\n",
        "    disease = train_images[i].split('/')[2].split('_')[2]\n",
        "    if disease == 'covid':\n",
        "        train_image_class.append(0)\n",
        "    elif disease == 'pneumonia':\n",
        "      train_image_class.append(1)\n",
        "    else:\n",
        "        train_image_class.append(2)\n",
        "\n",
        "train_image_dataset = pd.DataFrame()\n",
        "train_image_dataset['filename'] = train_image_name\n",
        "train_image_dataset['disease'] = train_image_class # \n",
        "\n",
        "train_image_dataset.to_csv('data/image_files_clean_train.csv', header=True, index=False)"
      ],
      "execution_count": 16,
      "outputs": [
        {
          "output_type": "stream",
          "name": "stderr",
          "text": [
            "100%|██████████| 1722/1722 [00:00<00:00, 620018.16it/s]\n"
          ]
        }
      ]
    },
    {
      "cell_type": "code",
      "metadata": {
        "colab": {
          "base_uri": "https://localhost:8080/",
          "height": 423
        },
        "id": "IWgM8ozAczBk",
        "outputId": "7b7eb7a3-d9f0-4d35-8d4f-44e10d7bcefa"
      },
      "source": [
        "train_image_dataset"
      ],
      "execution_count": 17,
      "outputs": [
        {
          "output_type": "execute_result",
          "data": {
            "text/html": [
              "<div>\n",
              "<style scoped>\n",
              "    .dataframe tbody tr th:only-of-type {\n",
              "        vertical-align: middle;\n",
              "    }\n",
              "\n",
              "    .dataframe tbody tr th {\n",
              "        vertical-align: top;\n",
              "    }\n",
              "\n",
              "    .dataframe thead th {\n",
              "        text-align: right;\n",
              "    }\n",
              "</style>\n",
              "<table border=\"1\" class=\"dataframe\">\n",
              "  <thead>\n",
              "    <tr style=\"text-align: right;\">\n",
              "      <th></th>\n",
              "      <th>filename</th>\n",
              "      <th>disease</th>\n",
              "    </tr>\n",
              "  </thead>\n",
              "  <tbody>\n",
              "    <tr>\n",
              "      <th>0</th>\n",
              "      <td>87_butterfly_covid_prc_convex_clean.avi_frame_...</td>\n",
              "      <td>0</td>\n",
              "    </tr>\n",
              "    <tr>\n",
              "      <th>1</th>\n",
              "      <td>87_butterfly_covid_prc_convex_clean.avi_frame_...</td>\n",
              "      <td>0</td>\n",
              "    </tr>\n",
              "    <tr>\n",
              "      <th>2</th>\n",
              "      <td>87_butterfly_covid_prc_convex_clean.avi_frame_...</td>\n",
              "      <td>0</td>\n",
              "    </tr>\n",
              "    <tr>\n",
              "      <th>3</th>\n",
              "      <td>87_butterfly_covid_prc_convex_clean.avi_frame_...</td>\n",
              "      <td>0</td>\n",
              "    </tr>\n",
              "    <tr>\n",
              "      <th>4</th>\n",
              "      <td>87_butterfly_covid_prc_convex_clean.avi_frame_...</td>\n",
              "      <td>0</td>\n",
              "    </tr>\n",
              "    <tr>\n",
              "      <th>...</th>\n",
              "      <td>...</td>\n",
              "      <td>...</td>\n",
              "    </tr>\n",
              "    <tr>\n",
              "      <th>1717</th>\n",
              "      <td>44_litfl_pneumonia_prc_convex_clean.avi_frame_...</td>\n",
              "      <td>1</td>\n",
              "    </tr>\n",
              "    <tr>\n",
              "      <th>1718</th>\n",
              "      <td>44_litfl_pneumonia_prc_convex_clean.avi_frame_...</td>\n",
              "      <td>1</td>\n",
              "    </tr>\n",
              "    <tr>\n",
              "      <th>1719</th>\n",
              "      <td>44_litfl_pneumonia_prc_convex_clean.avi_frame_...</td>\n",
              "      <td>1</td>\n",
              "    </tr>\n",
              "    <tr>\n",
              "      <th>1720</th>\n",
              "      <td>44_litfl_pneumonia_prc_convex_clean.avi_frame_...</td>\n",
              "      <td>1</td>\n",
              "    </tr>\n",
              "    <tr>\n",
              "      <th>1721</th>\n",
              "      <td>44_litfl_pneumonia_prc_convex_clean.avi_frame_...</td>\n",
              "      <td>1</td>\n",
              "    </tr>\n",
              "  </tbody>\n",
              "</table>\n",
              "<p>1722 rows × 2 columns</p>\n",
              "</div>"
            ],
            "text/plain": [
              "                                               filename  disease\n",
              "0     87_butterfly_covid_prc_convex_clean.avi_frame_...        0\n",
              "1     87_butterfly_covid_prc_convex_clean.avi_frame_...        0\n",
              "2     87_butterfly_covid_prc_convex_clean.avi_frame_...        0\n",
              "3     87_butterfly_covid_prc_convex_clean.avi_frame_...        0\n",
              "4     87_butterfly_covid_prc_convex_clean.avi_frame_...        0\n",
              "...                                                 ...      ...\n",
              "1717  44_litfl_pneumonia_prc_convex_clean.avi_frame_...        1\n",
              "1718  44_litfl_pneumonia_prc_convex_clean.avi_frame_...        1\n",
              "1719  44_litfl_pneumonia_prc_convex_clean.avi_frame_...        1\n",
              "1720  44_litfl_pneumonia_prc_convex_clean.avi_frame_...        1\n",
              "1721  44_litfl_pneumonia_prc_convex_clean.avi_frame_...        1\n",
              "\n",
              "[1722 rows x 2 columns]"
            ]
          },
          "metadata": {},
          "execution_count": 17
        }
      ]
    },
    {
      "cell_type": "code",
      "metadata": {
        "colab": {
          "base_uri": "https://localhost:8080/"
        },
        "id": "zPAL3mxnTaHF",
        "outputId": "e35b930d-fc55-4903-f1c0-d2f3f37e0bbd"
      },
      "source": [
        "val_images = glob(\"data/images_captured_val/*.jpg\")\n",
        "\n",
        "val_image_name = []\n",
        "val_image_class = []\n",
        "for i in tqdm(range(len(val_images))):\n",
        "    # creating the image name\n",
        "    val_image_name.append(val_images[i].split('/')[2])\n",
        "    # creating the class of image\n",
        "    disease = val_images[i].split('/')[2].split('_')[2]\n",
        "    if disease == 'covid':\n",
        "        val_image_class.append(0)\n",
        "    elif disease == 'pneumonia':\n",
        "      val_image_class.append(1)\n",
        "    else:\n",
        "        val_image_class.append(2)\n",
        "\n",
        "val_image_dataset = pd.DataFrame()\n",
        "val_image_dataset['filename'] = val_image_name\n",
        "val_image_dataset['disease'] = val_image_class \n",
        "\n",
        "val_image_dataset.to_csv('data/image_files_clean_val.csv', header=True, index=False)"
      ],
      "execution_count": 18,
      "outputs": [
        {
          "output_type": "stream",
          "name": "stderr",
          "text": [
            "100%|██████████| 406/406 [00:00<00:00, 454345.63it/s]\n"
          ]
        }
      ]
    },
    {
      "cell_type": "code",
      "metadata": {
        "colab": {
          "base_uri": "https://localhost:8080/",
          "height": 423
        },
        "id": "kCqeioWbTzsn",
        "outputId": "8731faa5-f3d3-4a27-a066-610a871ba1d3"
      },
      "source": [
        "val_image_dataset"
      ],
      "execution_count": 19,
      "outputs": [
        {
          "output_type": "execute_result",
          "data": {
            "text/html": [
              "<div>\n",
              "<style scoped>\n",
              "    .dataframe tbody tr th:only-of-type {\n",
              "        vertical-align: middle;\n",
              "    }\n",
              "\n",
              "    .dataframe tbody tr th {\n",
              "        vertical-align: top;\n",
              "    }\n",
              "\n",
              "    .dataframe thead th {\n",
              "        text-align: right;\n",
              "    }\n",
              "</style>\n",
              "<table border=\"1\" class=\"dataframe\">\n",
              "  <thead>\n",
              "    <tr style=\"text-align: right;\">\n",
              "      <th></th>\n",
              "      <th>filename</th>\n",
              "      <th>disease</th>\n",
              "    </tr>\n",
              "  </thead>\n",
              "  <tbody>\n",
              "    <tr>\n",
              "      <th>0</th>\n",
              "      <td>220_clarius_covid_prc_convex_clean.avi_frame_0...</td>\n",
              "      <td>0</td>\n",
              "    </tr>\n",
              "    <tr>\n",
              "      <th>1</th>\n",
              "      <td>220_clarius_covid_prc_convex_clean.avi_frame_1...</td>\n",
              "      <td>0</td>\n",
              "    </tr>\n",
              "    <tr>\n",
              "      <th>2</th>\n",
              "      <td>220_clarius_covid_prc_convex_clean.avi_frame_2...</td>\n",
              "      <td>0</td>\n",
              "    </tr>\n",
              "    <tr>\n",
              "      <th>3</th>\n",
              "      <td>220_clarius_covid_prc_convex_clean.avi_frame_3...</td>\n",
              "      <td>0</td>\n",
              "    </tr>\n",
              "    <tr>\n",
              "      <th>4</th>\n",
              "      <td>220_clarius_covid_prc_convex_clean.avi_frame_4...</td>\n",
              "      <td>0</td>\n",
              "    </tr>\n",
              "    <tr>\n",
              "      <th>...</th>\n",
              "      <td>...</td>\n",
              "      <td>...</td>\n",
              "    </tr>\n",
              "    <tr>\n",
              "      <th>401</th>\n",
              "      <td>229_clarius_pneumonia_prc_convex_clean.avi_fra...</td>\n",
              "      <td>1</td>\n",
              "    </tr>\n",
              "    <tr>\n",
              "      <th>402</th>\n",
              "      <td>229_clarius_pneumonia_prc_convex_clean.avi_fra...</td>\n",
              "      <td>1</td>\n",
              "    </tr>\n",
              "    <tr>\n",
              "      <th>403</th>\n",
              "      <td>229_clarius_pneumonia_prc_convex_clean.avi_fra...</td>\n",
              "      <td>1</td>\n",
              "    </tr>\n",
              "    <tr>\n",
              "      <th>404</th>\n",
              "      <td>229_clarius_pneumonia_prc_convex_clean.avi_fra...</td>\n",
              "      <td>1</td>\n",
              "    </tr>\n",
              "    <tr>\n",
              "      <th>405</th>\n",
              "      <td>229_clarius_pneumonia_prc_convex_clean.avi_fra...</td>\n",
              "      <td>1</td>\n",
              "    </tr>\n",
              "  </tbody>\n",
              "</table>\n",
              "<p>406 rows × 2 columns</p>\n",
              "</div>"
            ],
            "text/plain": [
              "                                              filename  disease\n",
              "0    220_clarius_covid_prc_convex_clean.avi_frame_0...        0\n",
              "1    220_clarius_covid_prc_convex_clean.avi_frame_1...        0\n",
              "2    220_clarius_covid_prc_convex_clean.avi_frame_2...        0\n",
              "3    220_clarius_covid_prc_convex_clean.avi_frame_3...        0\n",
              "4    220_clarius_covid_prc_convex_clean.avi_frame_4...        0\n",
              "..                                                 ...      ...\n",
              "401  229_clarius_pneumonia_prc_convex_clean.avi_fra...        1\n",
              "402  229_clarius_pneumonia_prc_convex_clean.avi_fra...        1\n",
              "403  229_clarius_pneumonia_prc_convex_clean.avi_fra...        1\n",
              "404  229_clarius_pneumonia_prc_convex_clean.avi_fra...        1\n",
              "405  229_clarius_pneumonia_prc_convex_clean.avi_fra...        1\n",
              "\n",
              "[406 rows x 2 columns]"
            ]
          },
          "metadata": {},
          "execution_count": 19
        }
      ]
    },
    {
      "cell_type": "code",
      "metadata": {
        "colab": {
          "base_uri": "https://localhost:8080/"
        },
        "id": "QeiPlg3UXpbG",
        "outputId": "7eb887af-42d1-40da-af56-c6141f22129e"
      },
      "source": [
        "# creating an empty list\n",
        "train_images = []\n",
        "\n",
        "# for loop to read and store frames\n",
        "for i in tqdm(range(train_image_dataset.shape[0])):\n",
        "    # loading the image and keeping the target size as (224,224,3)\n",
        "    img = image.load_img('data/images_captured_train/'+train_image_dataset['filename'][i], target_size=(height,width,channels))\n",
        "    # converting it to array\n",
        "    img = image.img_to_array(img)\n",
        "    # normalizing the pixel value\n",
        "    img = img/255\n",
        "    # appending the image to the images list\n",
        "    train_images.append(img)\n",
        "    \n",
        "# converting the list to numpy array\n",
        "X_train = np.array(train_images)\n",
        "print(X_train.shape)"
      ],
      "execution_count": 20,
      "outputs": [
        {
          "output_type": "stream",
          "name": "stderr",
          "text": [
            "100%|██████████| 1722/1722 [00:11<00:00, 147.91it/s]\n"
          ]
        },
        {
          "output_type": "stream",
          "name": "stdout",
          "text": [
            "(1722, 224, 224, 3)\n"
          ]
        }
      ]
    },
    {
      "cell_type": "code",
      "metadata": {
        "colab": {
          "base_uri": "https://localhost:8080/"
        },
        "id": "4uajpfF1Upjr",
        "outputId": "e4a29390-9523-4412-e265-2e1bfe92df6a"
      },
      "source": [
        "# creating an empty list\n",
        "val_images = []\n",
        "\n",
        "# for loop to read and store frames\n",
        "for i in tqdm(range(val_image_dataset.shape[0])):\n",
        "    # loading the image and keeping the target size as (224,224,3)\n",
        "    img = image.load_img('data/images_captured_val/'+val_image_dataset['filename'][i], target_size=(height,width,channels))\n",
        "    # converting it to array\n",
        "    img = image.img_to_array(img)\n",
        "    # normalizing the pixel value\n",
        "    img = img/255\n",
        "    # appending the image to the images list\n",
        "    val_images.append(img)\n",
        "    \n",
        "# converting the list to numpy array\n",
        "X_val = np.array(val_images)\n",
        "print(X_val.shape)"
      ],
      "execution_count": 21,
      "outputs": [
        {
          "output_type": "stream",
          "name": "stderr",
          "text": [
            "100%|██████████| 406/406 [00:02<00:00, 142.92it/s]\n"
          ]
        },
        {
          "output_type": "stream",
          "name": "stdout",
          "text": [
            "(406, 224, 224, 3)\n"
          ]
        }
      ]
    },
    {
      "cell_type": "code",
      "metadata": {
        "colab": {
          "base_uri": "https://localhost:8080/"
        },
        "id": "zWCsYHUk2LG2",
        "outputId": "778c3fbd-be7f-421f-b54f-24086b622a3d"
      },
      "source": [
        "X_train=X_train.reshape(-1,14,224,224,3)\n",
        "X_val=X_val.reshape(-1,14,224,224,3)\n",
        "train_label = np.array(train_label)\n",
        "val_label = np.array(val_label)\n",
        "print(X_train.shape)\n",
        "print(X_val.shape)\n",
        "print(train_label.shape)\n",
        "print(val_label.shape)\n",
        "print(X_test.shape)"
      ],
      "execution_count": 24,
      "outputs": [
        {
          "output_type": "stream",
          "name": "stdout",
          "text": [
            "(123, 14, 224, 224, 3)\n",
            "(29, 14, 224, 224, 3)\n",
            "(123,)\n",
            "(29,)\n",
            "(37, 8)\n"
          ]
        }
      ]
    },
    {
      "cell_type": "code",
      "metadata": {
        "id": "bQikqQas_t2V"
      },
      "source": [
        "np.save('data/X_train_save_0', X_train)\n",
        "np.save('data/X_val_save_0', X_val)\n",
        "np.save('data/y_train_save_0', train_label)\n",
        "np.save('data/y_val_save_0', val_label)"
      ],
      "execution_count": 23,
      "outputs": []
    }
  ]
}